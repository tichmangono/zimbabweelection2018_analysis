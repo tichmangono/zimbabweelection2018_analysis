{
 "cells": [
  {
   "cell_type": "markdown",
   "metadata": {},
   "source": [
    "# Data Prep - Presidential Elections Data"
   ]
  },
  {
   "cell_type": "markdown",
   "metadata": {},
   "source": [
    "## 1-Import libraries"
   ]
  },
  {
   "cell_type": "code",
   "execution_count": 388,
   "metadata": {},
   "outputs": [],
   "source": [
    "import warnings; warnings.simplefilter('ignore')\n",
    "import pandas as pd\n",
    "import numpy as np\n",
    "import matplotlib.pyplot as plt\n",
    "import seaborn as sns\n",
    "import h5py\n",
    "\n",
    "import os\n",
    "import pivottablejs as pvt\n",
    "from tabula import read_pdf\n",
    "\n",
    "%matplotlib inline"
   ]
  },
  {
   "cell_type": "code",
   "execution_count": 389,
   "metadata": {},
   "outputs": [],
   "source": [
    "# set the right foldername\n",
    "DATA = './presidential/'\n",
    "MAIN = './'"
   ]
  },
  {
   "cell_type": "markdown",
   "metadata": {},
   "source": [
    "## 2 - Load & Combine Election Results and Voter Registration data"
   ]
  },
  {
   "cell_type": "code",
   "execution_count": 390,
   "metadata": {},
   "outputs": [
    {
     "name": "stdout",
     "output_type": "stream",
     "text": [
      "(10985, 13) (10973, 34)\n"
     ]
    }
   ],
   "source": [
    "# Read in both sets\n",
    "dvoters = pd.read_excel(\"zimvotersroll2018_bypollingstation.xlsx\")\n",
    "dresults = pd.read_excel(\"zimelectionresults2018_bypollingstation.xlsx\")\n",
    "print(dvoters.shape, dresults.shape)"
   ]
  },
  {
   "cell_type": "code",
   "execution_count": 391,
   "metadata": {},
   "outputs": [],
   "source": [
    "# Format province column for results\n",
    "dresults['province'] = dresults['province'].apply(lambda x: x[15:])\n"
   ]
  },
  {
   "cell_type": "code",
   "execution_count": 392,
   "metadata": {},
   "outputs": [
    {
     "data": {
      "text/html": [
       "<div>\n",
       "<table border=\"1\" class=\"dataframe\">\n",
       "  <thead>\n",
       "    <tr style=\"text-align: right;\">\n",
       "      <th></th>\n",
       "      <th>polling_station_code</th>\n",
       "      <th>polling_station_name</th>\n",
       "      <th>ward</th>\n",
       "      <th>local_authority</th>\n",
       "      <th>constituency</th>\n",
       "      <th>province</th>\n",
       "      <th>tot_count</th>\n",
       "      <th>male_count</th>\n",
       "      <th>male_pct</th>\n",
       "      <th>female_count</th>\n",
       "      <th>female_pct</th>\n",
       "      <th>total_age</th>\n",
       "      <th>mean_age</th>\n",
       "    </tr>\n",
       "  </thead>\n",
       "  <tbody>\n",
       "    <tr>\n",
       "      <th>0</th>\n",
       "      <td>0200BBE0101</td>\n",
       "      <td>Chikwalakwala Primary School</td>\n",
       "      <td>1</td>\n",
       "      <td>Beitbridge RDC</td>\n",
       "      <td>Beitbridge East</td>\n",
       "      <td>Matabeleland South</td>\n",
       "      <td>206</td>\n",
       "      <td>68</td>\n",
       "      <td>0.330097</td>\n",
       "      <td>138</td>\n",
       "      <td>0.669903</td>\n",
       "      <td>9226.579055</td>\n",
       "      <td>44.789219</td>\n",
       "    </tr>\n",
       "    <tr>\n",
       "      <th>1</th>\n",
       "      <td>0200BBE0102</td>\n",
       "      <td>Chipise Primary School</td>\n",
       "      <td>1</td>\n",
       "      <td>Beitbridge RDC</td>\n",
       "      <td>Beitbridge East</td>\n",
       "      <td>Matabeleland South</td>\n",
       "      <td>276</td>\n",
       "      <td>123</td>\n",
       "      <td>0.445652</td>\n",
       "      <td>153</td>\n",
       "      <td>0.554348</td>\n",
       "      <td>12003.069131</td>\n",
       "      <td>43.489381</td>\n",
       "    </tr>\n",
       "  </tbody>\n",
       "</table>\n",
       "</div>"
      ],
      "text/plain": [
       "  polling_station_code          polling_station_name  ward local_authority  \\\n",
       "0          0200BBE0101  Chikwalakwala Primary School     1  Beitbridge RDC   \n",
       "1          0200BBE0102        Chipise Primary School     1  Beitbridge RDC   \n",
       "\n",
       "      constituency             province  tot_count  male_count  male_pct  \\\n",
       "0  Beitbridge East  Matabeleland South         206          68  0.330097   \n",
       "1  Beitbridge East  Matabeleland South         276         123  0.445652   \n",
       "\n",
       "   female_count  female_pct     total_age   mean_age  \n",
       "0           138    0.669903   9226.579055  44.789219  \n",
       "1           153    0.554348  12003.069131  43.489381  "
      ]
     },
     "execution_count": 392,
     "metadata": {},
     "output_type": "execute_result"
    }
   ],
   "source": [
    "dvoters.head(2)"
   ]
  },
  {
   "cell_type": "code",
   "execution_count": 393,
   "metadata": {},
   "outputs": [
    {
     "data": {
      "text/html": [
       "<div>\n",
       "<table border=\"1\" class=\"dataframe\">\n",
       "  <thead>\n",
       "    <tr style=\"text-align: right;\">\n",
       "      <th></th>\n",
       "      <th>district</th>\n",
       "      <th>constituency</th>\n",
       "      <th>local_authority</th>\n",
       "      <th>ward_no</th>\n",
       "      <th>polling_stations</th>\n",
       "      <th>station_code</th>\n",
       "      <th>busha_joseph_makamba_freezim_congress</th>\n",
       "      <th>chamisa_nelson_mdc_alliance</th>\n",
       "      <th>chikanga__everisto_washington_rebuild_zimbabwe</th>\n",
       "      <th>dzapasi_melbah_#_1980_freedom_movement_zimbabwe</th>\n",
       "      <th>...</th>\n",
       "      <th>mujuru_joice_teurai_ropa_prc</th>\n",
       "      <th>munyanduri_tenda_peter_npf</th>\n",
       "      <th>mutinhiri_ambrose_npf</th>\n",
       "      <th>shumba_kuzozvirava_doniel_uda</th>\n",
       "      <th>wilson_peter_harry_dop</th>\n",
       "      <th>total_votes_rejected</th>\n",
       "      <th>ballot_paper_unaccounted_for</th>\n",
       "      <th>total_votes_cast</th>\n",
       "      <th>total_valid_votes_cast</th>\n",
       "      <th>province</th>\n",
       "    </tr>\n",
       "  </thead>\n",
       "  <tbody>\n",
       "    <tr>\n",
       "      <th>0</th>\n",
       "      <td>Bulawayo</td>\n",
       "      <td>Bulawayo Central</td>\n",
       "      <td>Bulawayo Municipality</td>\n",
       "      <td>1</td>\n",
       "      <td>City Hall A</td>\n",
       "      <td>0801BYO0101 A</td>\n",
       "      <td>1.0</td>\n",
       "      <td>511</td>\n",
       "      <td>0</td>\n",
       "      <td>0.0</td>\n",
       "      <td>...</td>\n",
       "      <td>1.0</td>\n",
       "      <td>0.0</td>\n",
       "      <td>0.0</td>\n",
       "      <td>1.0</td>\n",
       "      <td>0.0</td>\n",
       "      <td>10.0</td>\n",
       "      <td>0.0</td>\n",
       "      <td>754</td>\n",
       "      <td>744</td>\n",
       "      <td>Bulawayo Metropolitan Province</td>\n",
       "    </tr>\n",
       "    <tr>\n",
       "      <th>1</th>\n",
       "      <td>Bulawayo</td>\n",
       "      <td>Bulawayo Central</td>\n",
       "      <td>Bulawayo Municipality</td>\n",
       "      <td>1</td>\n",
       "      <td>City Hall B</td>\n",
       "      <td>0801BYO0101 B</td>\n",
       "      <td>1.0</td>\n",
       "      <td>491</td>\n",
       "      <td>1</td>\n",
       "      <td>0.0</td>\n",
       "      <td>...</td>\n",
       "      <td>1.0</td>\n",
       "      <td>0.0</td>\n",
       "      <td>0.0</td>\n",
       "      <td>0.0</td>\n",
       "      <td>0.0</td>\n",
       "      <td>6.0</td>\n",
       "      <td>0.0</td>\n",
       "      <td>740</td>\n",
       "      <td>734</td>\n",
       "      <td>Bulawayo Metropolitan Province</td>\n",
       "    </tr>\n",
       "  </tbody>\n",
       "</table>\n",
       "<p>2 rows × 34 columns</p>\n",
       "</div>"
      ],
      "text/plain": [
       "   district      constituency        local_authority  ward_no  \\\n",
       "0  Bulawayo  Bulawayo Central  Bulawayo Municipality        1   \n",
       "1  Bulawayo  Bulawayo Central  Bulawayo Municipality        1   \n",
       "\n",
       "  polling_stations   station_code  busha_joseph_makamba_freezim_congress  \\\n",
       "0      City Hall A  0801BYO0101 A                                    1.0   \n",
       "1      City Hall B  0801BYO0101 B                                    1.0   \n",
       "\n",
       "   chamisa_nelson_mdc_alliance  \\\n",
       "0                          511   \n",
       "1                          491   \n",
       "\n",
       "   chikanga__everisto_washington_rebuild_zimbabwe  \\\n",
       "0                                               0   \n",
       "1                                               1   \n",
       "\n",
       "   dzapasi_melbah_#_1980_freedom_movement_zimbabwe  \\\n",
       "0                                              0.0   \n",
       "1                                              0.0   \n",
       "\n",
       "                ...                mujuru_joice_teurai_ropa_prc  \\\n",
       "0               ...                                         1.0   \n",
       "1               ...                                         1.0   \n",
       "\n",
       "   munyanduri_tenda_peter_npf mutinhiri_ambrose_npf  \\\n",
       "0                         0.0                   0.0   \n",
       "1                         0.0                   0.0   \n",
       "\n",
       "   shumba_kuzozvirava_doniel_uda  wilson_peter_harry_dop  \\\n",
       "0                            1.0                     0.0   \n",
       "1                            0.0                     0.0   \n",
       "\n",
       "   total_votes_rejected  ballot_paper_unaccounted_for  total_votes_cast  \\\n",
       "0                  10.0                           0.0               754   \n",
       "1                   6.0                           0.0               740   \n",
       "\n",
       "   total_valid_votes_cast                        province  \n",
       "0                     744  Bulawayo Metropolitan Province  \n",
       "1                     734  Bulawayo Metropolitan Province  \n",
       "\n",
       "[2 rows x 34 columns]"
      ]
     },
     "execution_count": 393,
     "metadata": {},
     "output_type": "execute_result"
    }
   ],
   "source": [
    "dresults.head(2)"
   ]
  },
  {
   "cell_type": "code",
   "execution_count": 394,
   "metadata": {},
   "outputs": [
    {
     "data": {
      "text/plain": [
       "Index(['polling_station_code', 'polling_station_name', 'ward',\n",
       "       'local_authority', 'constituency', 'province', 'tot_count',\n",
       "       'male_count', 'male_pct', 'female_count', 'female_pct', 'total_age',\n",
       "       'mean_age'],\n",
       "      dtype='object')"
      ]
     },
     "execution_count": 394,
     "metadata": {},
     "output_type": "execute_result"
    }
   ],
   "source": [
    "dvoters.columns"
   ]
  },
  {
   "cell_type": "code",
   "execution_count": 395,
   "metadata": {},
   "outputs": [
    {
     "data": {
      "text/plain": [
       "dtype('O')"
      ]
     },
     "execution_count": 395,
     "metadata": {},
     "output_type": "execute_result"
    }
   ],
   "source": [
    "dvoters.province.dtype"
   ]
  },
  {
   "cell_type": "code",
   "execution_count": 396,
   "metadata": {},
   "outputs": [
    {
     "name": "stdout",
     "output_type": "stream",
     "text": [
      "polling_station_code\n",
      "polling_station_name\n",
      "local_authority\n",
      "constituency\n",
      "province\n",
      "district\n",
      "constituency\n",
      "local_authority\n",
      "polling_stations\n",
      "station_code\n",
      "kasiyamhuru_blessing_zpp\n",
      "province\n"
     ]
    }
   ],
   "source": [
    "# Clean up the text columns\n",
    "for c in dvoters.columns[dvoters.dtypes == 'object']:\n",
    "    print(c)\n",
    "    dvoters.loc[:,c] = dvoters[c].apply(lambda x: str(x).strip().lower()) \n",
    "    \n",
    "# Clean up the text columns\n",
    "for c in dresults.columns[dresults.dtypes == 'object']:\n",
    "    print(c)\n",
    "    dresults.loc[:,c] = dresults[c].apply(lambda x: str(x).strip().lower()) "
   ]
  },
  {
   "cell_type": "code",
   "execution_count": 397,
   "metadata": {},
   "outputs": [],
   "source": [
    "# join the two datasets\n",
    "d_prep = pd.merge(dvoters, dresults, how=\"left\", left_on=[\"polling_station_code\"], right_on =[\"station_code\"], suffixes=[\"_vot\", \"_res\"])"
   ]
  },
  {
   "cell_type": "code",
   "execution_count": 398,
   "metadata": {},
   "outputs": [
    {
     "data": {
      "text/plain": [
       "(10992, 47)"
      ]
     },
     "execution_count": 398,
     "metadata": {},
     "output_type": "execute_result"
    }
   ],
   "source": [
    "d_prep.shape"
   ]
  },
  {
   "cell_type": "code",
   "execution_count": 399,
   "metadata": {},
   "outputs": [
    {
     "data": {
      "text/html": [
       "<div>\n",
       "<table border=\"1\" class=\"dataframe\">\n",
       "  <thead>\n",
       "    <tr style=\"text-align: right;\">\n",
       "      <th></th>\n",
       "      <th>polling_station_code</th>\n",
       "      <th>polling_station_name</th>\n",
       "      <th>ward</th>\n",
       "      <th>local_authority_vot</th>\n",
       "      <th>constituency_vot</th>\n",
       "      <th>province_vot</th>\n",
       "      <th>tot_count</th>\n",
       "      <th>male_count</th>\n",
       "      <th>male_pct</th>\n",
       "      <th>female_count</th>\n",
       "      <th>...</th>\n",
       "      <th>mujuru_joice_teurai_ropa_prc</th>\n",
       "      <th>munyanduri_tenda_peter_npf</th>\n",
       "      <th>mutinhiri_ambrose_npf</th>\n",
       "      <th>shumba_kuzozvirava_doniel_uda</th>\n",
       "      <th>wilson_peter_harry_dop</th>\n",
       "      <th>total_votes_rejected</th>\n",
       "      <th>ballot_paper_unaccounted_for</th>\n",
       "      <th>total_votes_cast</th>\n",
       "      <th>total_valid_votes_cast</th>\n",
       "      <th>province_res</th>\n",
       "    </tr>\n",
       "  </thead>\n",
       "  <tbody>\n",
       "    <tr>\n",
       "      <th>0</th>\n",
       "      <td>0200bbe0101</td>\n",
       "      <td>chikwalakwala primary school</td>\n",
       "      <td>1</td>\n",
       "      <td>beitbridge rdc</td>\n",
       "      <td>beitbridge east</td>\n",
       "      <td>matabeleland south</td>\n",
       "      <td>206</td>\n",
       "      <td>68</td>\n",
       "      <td>0.330097</td>\n",
       "      <td>138</td>\n",
       "      <td>...</td>\n",
       "      <td>NaN</td>\n",
       "      <td>NaN</td>\n",
       "      <td>NaN</td>\n",
       "      <td>NaN</td>\n",
       "      <td>NaN</td>\n",
       "      <td>NaN</td>\n",
       "      <td>NaN</td>\n",
       "      <td>NaN</td>\n",
       "      <td>NaN</td>\n",
       "      <td>NaN</td>\n",
       "    </tr>\n",
       "    <tr>\n",
       "      <th>1</th>\n",
       "      <td>0200bbe0102</td>\n",
       "      <td>chipise primary school</td>\n",
       "      <td>1</td>\n",
       "      <td>beitbridge rdc</td>\n",
       "      <td>beitbridge east</td>\n",
       "      <td>matabeleland south</td>\n",
       "      <td>276</td>\n",
       "      <td>123</td>\n",
       "      <td>0.445652</td>\n",
       "      <td>153</td>\n",
       "      <td>...</td>\n",
       "      <td>1.0</td>\n",
       "      <td>3.0</td>\n",
       "      <td>1.0</td>\n",
       "      <td>1.0</td>\n",
       "      <td>0.0</td>\n",
       "      <td>15.0</td>\n",
       "      <td>NaN</td>\n",
       "      <td>189.0</td>\n",
       "      <td>174.0</td>\n",
       "      <td>matabeleland south province</td>\n",
       "    </tr>\n",
       "  </tbody>\n",
       "</table>\n",
       "<p>2 rows × 47 columns</p>\n",
       "</div>"
      ],
      "text/plain": [
       "  polling_station_code          polling_station_name  ward  \\\n",
       "0          0200bbe0101  chikwalakwala primary school     1   \n",
       "1          0200bbe0102        chipise primary school     1   \n",
       "\n",
       "  local_authority_vot constituency_vot        province_vot  tot_count  \\\n",
       "0      beitbridge rdc  beitbridge east  matabeleland south        206   \n",
       "1      beitbridge rdc  beitbridge east  matabeleland south        276   \n",
       "\n",
       "   male_count  male_pct  female_count             ...               \\\n",
       "0          68  0.330097           138             ...                \n",
       "1         123  0.445652           153             ...                \n",
       "\n",
       "   mujuru_joice_teurai_ropa_prc  munyanduri_tenda_peter_npf  \\\n",
       "0                           NaN                         NaN   \n",
       "1                           1.0                         3.0   \n",
       "\n",
       "   mutinhiri_ambrose_npf shumba_kuzozvirava_doniel_uda wilson_peter_harry_dop  \\\n",
       "0                    NaN                           NaN                    NaN   \n",
       "1                    1.0                           1.0                    0.0   \n",
       "\n",
       "  total_votes_rejected  ballot_paper_unaccounted_for total_votes_cast  \\\n",
       "0                  NaN                           NaN              NaN   \n",
       "1                 15.0                           NaN            189.0   \n",
       "\n",
       "  total_valid_votes_cast                 province_res  \n",
       "0                    NaN                          NaN  \n",
       "1                  174.0  matabeleland south province  \n",
       "\n",
       "[2 rows x 47 columns]"
      ]
     },
     "execution_count": 399,
     "metadata": {},
     "output_type": "execute_result"
    }
   ],
   "source": [
    "d_prep.head(2)"
   ]
  },
  {
   "cell_type": "markdown",
   "metadata": {},
   "source": [
    "## 3- Investigate Missing data"
   ]
  },
  {
   "cell_type": "code",
   "execution_count": 400,
   "metadata": {},
   "outputs": [
    {
     "data": {
      "text/plain": [
       "polling_station_code                                   0\n",
       "polling_station_name                                   0\n",
       "ward                                                   0\n",
       "local_authority_vot                                    0\n",
       "constituency_vot                                       0\n",
       "province_vot                                           0\n",
       "tot_count                                              0\n",
       "male_count                                             0\n",
       "male_pct                                               0\n",
       "female_count                                           0\n",
       "female_pct                                             0\n",
       "total_age                                              0\n",
       "mean_age                                               0\n",
       "district                                              22\n",
       "constituency_res                                      22\n",
       "local_authority_res                                   22\n",
       "ward_no                                               22\n",
       "polling_stations                                      22\n",
       "station_code                                          22\n",
       "busha_joseph_makamba_freezim_congress                 25\n",
       "chamisa_nelson_mdc_alliance                           22\n",
       "chikanga__everisto_washington_rebuild_zimbabwe        22\n",
       "dzapasi_melbah_#_1980_freedom_movement_zimbabwe       23\n",
       "gava_peter_mapfumo_udf                                24\n",
       "hlabangana_kwanele_rpz                                22\n",
       "kasiyamhuru_blessing_zpp                              22\n",
       "khupe_thokozani_mdc-t                                 24\n",
       "madhuku_lovemore_nca                                  23\n",
       "mangoma_elton_steers_coalition_of_democrats           25\n",
       "manyika_noah_ngoni_bza                                28\n",
       "mapfumo_chiguvare_tonderayi_johannes_timothy_pppz     24\n",
       "mariyacha_violet_udm                                  25\n",
       "mhambi-hove_divine_napdr                              23\n",
       "mnangagwa_emmerson_dambudzo_zanu_pf                   22\n",
       "moyo_donald_nkosana_apa                               23\n",
       "mteki_bryn_taurai_independent                         25\n",
       "mugadza_willard_tawonezvi_bcp                         24\n",
       "mujuru_joice_teurai_ropa_prc                          25\n",
       "munyanduri_tenda_peter_npf                            25\n",
       "mutinhiri_ambrose_npf                                 24\n",
       "shumba_kuzozvirava_doniel_uda                         23\n",
       "wilson_peter_harry_dop                                25\n",
       "total_votes_rejected                                  26\n",
       "ballot_paper_unaccounted_for                         337\n",
       "total_votes_cast                                      22\n",
       "total_valid_votes_cast                                22\n",
       "province_res                                          22\n",
       "dtype: int64"
      ]
     },
     "execution_count": 400,
     "metadata": {},
     "output_type": "execute_result"
    }
   ],
   "source": [
    "# See the null columns\n",
    "d_prep.isnull().sum()"
   ]
  },
  {
   "cell_type": "code",
   "execution_count": 401,
   "metadata": {},
   "outputs": [],
   "source": [
    "unmatched_ps = d_prep[d_prep[\"station_code\"].isnull()]"
   ]
  },
  {
   "cell_type": "code",
   "execution_count": 402,
   "metadata": {},
   "outputs": [],
   "source": [
    "unmatched_ag = unmatched_ps[[\"province_vot\",\"tot_count\"]].groupby([\"province_vot\"]).agg([\"sum\", \"count\"])"
   ]
  },
  {
   "cell_type": "code",
   "execution_count": 403,
   "metadata": {},
   "outputs": [
    {
     "data": {
      "text/html": [
       "<div>\n",
       "<table border=\"1\" class=\"dataframe\">\n",
       "  <thead>\n",
       "    <tr>\n",
       "      <th></th>\n",
       "      <th colspan=\"2\" halign=\"left\">tot_count</th>\n",
       "    </tr>\n",
       "    <tr>\n",
       "      <th></th>\n",
       "      <th>sum</th>\n",
       "      <th>count</th>\n",
       "    </tr>\n",
       "    <tr>\n",
       "      <th>province_vot</th>\n",
       "      <th></th>\n",
       "      <th></th>\n",
       "    </tr>\n",
       "  </thead>\n",
       "  <tbody>\n",
       "    <tr>\n",
       "      <th>bulawayo metropolitan</th>\n",
       "      <td>875</td>\n",
       "      <td>1</td>\n",
       "    </tr>\n",
       "    <tr>\n",
       "      <th>harare metropolitan</th>\n",
       "      <td>705</td>\n",
       "      <td>1</td>\n",
       "    </tr>\n",
       "    <tr>\n",
       "      <th>manicaland</th>\n",
       "      <td>729</td>\n",
       "      <td>2</td>\n",
       "    </tr>\n",
       "    <tr>\n",
       "      <th>mashonaland central</th>\n",
       "      <td>876</td>\n",
       "      <td>1</td>\n",
       "    </tr>\n",
       "    <tr>\n",
       "      <th>mashonaland east</th>\n",
       "      <td>1142</td>\n",
       "      <td>4</td>\n",
       "    </tr>\n",
       "    <tr>\n",
       "      <th>mashonaland west</th>\n",
       "      <td>305</td>\n",
       "      <td>1</td>\n",
       "    </tr>\n",
       "    <tr>\n",
       "      <th>masvingo</th>\n",
       "      <td>2335</td>\n",
       "      <td>7</td>\n",
       "    </tr>\n",
       "    <tr>\n",
       "      <th>matabeleland north</th>\n",
       "      <td>1306</td>\n",
       "      <td>3</td>\n",
       "    </tr>\n",
       "    <tr>\n",
       "      <th>matabeleland south</th>\n",
       "      <td>206</td>\n",
       "      <td>1</td>\n",
       "    </tr>\n",
       "    <tr>\n",
       "      <th>midlands</th>\n",
       "      <td>325</td>\n",
       "      <td>1</td>\n",
       "    </tr>\n",
       "  </tbody>\n",
       "</table>\n",
       "</div>"
      ],
      "text/plain": [
       "                      tot_count      \n",
       "                            sum count\n",
       "province_vot                         \n",
       "bulawayo metropolitan       875     1\n",
       "harare metropolitan         705     1\n",
       "manicaland                  729     2\n",
       "mashonaland central         876     1\n",
       "mashonaland east           1142     4\n",
       "mashonaland west            305     1\n",
       "masvingo                   2335     7\n",
       "matabeleland north         1306     3\n",
       "matabeleland south          206     1\n",
       "midlands                    325     1"
      ]
     },
     "execution_count": 403,
     "metadata": {},
     "output_type": "execute_result"
    }
   ],
   "source": [
    "unmatched_ag"
   ]
  },
  {
   "cell_type": "code",
   "execution_count": 404,
   "metadata": {},
   "outputs": [
    {
     "data": {
      "image/png": "[encoded data removed]",
      "text/plain": [
       "<matplotlib.figure.Figure at 0x1f70e3e26d8>"
      ]
     },
     "metadata": {},
     "output_type": "display_data"
    }
   ],
   "source": [
    "# create data\n",
    "x = unmatched_ag.iloc[:,0]\n",
    "y = unmatched_ag.iloc[:,1]\n",
    "lb = list(unmatched_ag.index)\n",
    " \n",
    "# Change color with c and alpha. I map the color to the X axis value.\n",
    "plt.scatter(x, y, s=x, c=x, cmap=\"Blues\", alpha=0.4, edgecolors=\"grey\", linewidth=2)\n",
    " \n",
    "# Add titles (main and on axis)\n",
    "plt.xlabel(\"the X axis\")\n",
    "plt.ylabel(\"the Y axis\")\n",
    "plt.title(\"A colored bubble plot\")\n",
    "plt.show()"
   ]
  },
  {
   "cell_type": "code",
   "execution_count": 405,
   "metadata": {},
   "outputs": [
    {
     "data": {
      "text/plain": [
       "<matplotlib.axes._subplots.AxesSubplot at 0x1f71b7dec50>"
      ]
     },
     "execution_count": 405,
     "metadata": {},
     "output_type": "execute_result"
    },
    {
     "data": {
      "image/png": "[encoded data removed]",
      "text/plain": [
       "<matplotlib.figure.Figure at 0x1f71a370780>"
      ]
     },
     "metadata": {},
     "output_type": "display_data"
    }
   ],
   "source": [
    "#unmatched_ag\n",
    "unmatched_ag.iloc[:,0].plot(kind='bar')"
   ]
  },
  {
   "cell_type": "code",
   "execution_count": 406,
   "metadata": {},
   "outputs": [
    {
     "data": {
      "text/plain": [
       "<matplotlib.axes._subplots.AxesSubplot at 0x1f71b7e7080>"
      ]
     },
     "execution_count": 406,
     "metadata": {},
     "output_type": "execute_result"
    },
    {
     "data": {
      "image/png": "[encoded data removed]",
      "text/plain": [
       "<matplotlib.figure.Figure at 0x1f71b7e9588>"
      ]
     },
     "metadata": {},
     "output_type": "display_data"
    }
   ],
   "source": [
    "unmatched_ag.iloc[:,1].plot(kind='bar')"
   ]
  },
  {
   "cell_type": "code",
   "execution_count": 407,
   "metadata": {},
   "outputs": [
    {
     "data": {
      "text/plain": [
       "polling_station_code                                   0\n",
       "polling_station_name                                   0\n",
       "ward                                                   0\n",
       "local_authority_vot                                    0\n",
       "constituency_vot                                       0\n",
       "province_vot                                           0\n",
       "tot_count                                              0\n",
       "male_count                                             0\n",
       "male_pct                                               0\n",
       "female_count                                           0\n",
       "female_pct                                             0\n",
       "total_age                                              0\n",
       "mean_age                                               0\n",
       "district                                               0\n",
       "constituency_res                                       0\n",
       "local_authority_res                                    0\n",
       "ward_no                                                0\n",
       "polling_stations                                       0\n",
       "station_code                                           0\n",
       "busha_joseph_makamba_freezim_congress                  3\n",
       "chamisa_nelson_mdc_alliance                            0\n",
       "chikanga__everisto_washington_rebuild_zimbabwe         0\n",
       "dzapasi_melbah_#_1980_freedom_movement_zimbabwe        1\n",
       "gava_peter_mapfumo_udf                                 2\n",
       "hlabangana_kwanele_rpz                                 0\n",
       "kasiyamhuru_blessing_zpp                               0\n",
       "khupe_thokozani_mdc-t                                  2\n",
       "madhuku_lovemore_nca                                   1\n",
       "mangoma_elton_steers_coalition_of_democrats            3\n",
       "manyika_noah_ngoni_bza                                 6\n",
       "mapfumo_chiguvare_tonderayi_johannes_timothy_pppz      2\n",
       "mariyacha_violet_udm                                   3\n",
       "mhambi-hove_divine_napdr                               1\n",
       "mnangagwa_emmerson_dambudzo_zanu_pf                    0\n",
       "moyo_donald_nkosana_apa                                1\n",
       "mteki_bryn_taurai_independent                          3\n",
       "mugadza_willard_tawonezvi_bcp                          2\n",
       "mujuru_joice_teurai_ropa_prc                           3\n",
       "munyanduri_tenda_peter_npf                             3\n",
       "mutinhiri_ambrose_npf                                  2\n",
       "shumba_kuzozvirava_doniel_uda                          1\n",
       "wilson_peter_harry_dop                                 3\n",
       "total_votes_rejected                                   4\n",
       "ballot_paper_unaccounted_for                         315\n",
       "total_votes_cast                                       0\n",
       "total_valid_votes_cast                                 0\n",
       "province_res                                           0\n",
       "dtype: int64"
      ]
     },
     "execution_count": 407,
     "metadata": {},
     "output_type": "execute_result"
    }
   ],
   "source": [
    "# Remove the nulls\n",
    "d_election = d_prep[d_prep['station_code'].notnull()]; d_election.isnull().sum()"
   ]
  },
  {
   "cell_type": "code",
   "execution_count": 408,
   "metadata": {},
   "outputs": [
    {
     "data": {
      "text/plain": [
       "0"
      ]
     },
     "execution_count": 408,
     "metadata": {},
     "output_type": "execute_result"
    }
   ],
   "source": [
    "# Replace remaining nulls with Zero-value\n",
    "d_election = d_election.fillna(0); d_election.isnull().sum().sum()"
   ]
  },
  {
   "cell_type": "code",
   "execution_count": 409,
   "metadata": {},
   "outputs": [],
   "source": [
    "# Some random strings in these numbers, set to 0\n",
    "nan_string = d_election[d_election['kasiyamhuru_blessing_zpp']=='nan'].index\n",
    "d_election.loc[nan_string,'kasiyamhuru_blessing_zpp'] = 0\n",
    "\n",
    "#print (d_election[d_election['kasiyamhuru_blessing_zpp'].apply(lambda x: isinstance(x, str))])\n",
    "#d_election['kasiyamhuru_blessing_zpp'].apply(lambda x: pd.to_numeric(str(x).strip()))"
   ]
  },
  {
   "cell_type": "markdown",
   "metadata": {},
   "source": [
    "## Investigate \"New\" and Duplicated Polling Stations"
   ]
  },
  {
   "cell_type": "code",
   "execution_count": 434,
   "metadata": {},
   "outputs": [],
   "source": [
    "missing = set(dvoters['polling_station_code']) - set(dresults['station_code'])\n",
    "new = set(dresults['station_code']) - set(dvoters['polling_station_code'])\n",
    "dups = dresults['station_code'][dresults['station_code'].duplicated()]"
   ]
  },
  {
   "cell_type": "code",
   "execution_count": 424,
   "metadata": {},
   "outputs": [
    {
     "data": {
      "text/plain": [
       "{'0200bbe0101',\n",
       " '0400bkt1401',\n",
       " '0501bmu0101 a',\n",
       " '0700buh1601',\n",
       " '0801byo0301',\n",
       " '1200chv1801',\n",
       " '1200chv1802',\n",
       " '1200chv1803',\n",
       " '1200chv1804',\n",
       " '1200chv1805',\n",
       " '1200chv1806',\n",
       " '1800chik0301',\n",
       " '3200che0201',\n",
       " '4100kus2701',\n",
       " '4700mre2707',\n",
       " '6301hre3104 b',\n",
       " '7500mtr0802',\n",
       " '7700tak0101',\n",
       " '8000wed1303',\n",
       " '8400umg1607',\n",
       " '8400umg1608',\n",
       " '8500zva0502 a'}"
      ]
     },
     "execution_count": 424,
     "metadata": {},
     "output_type": "execute_result"
    }
   ],
   "source": [
    "missing"
   ]
  },
  {
   "cell_type": "code",
   "execution_count": 425,
   "metadata": {},
   "outputs": [
    {
     "data": {
      "text/plain": [
       "{'4700mre270', '8400umg1607 a', '8400umg1608 b'}"
      ]
     },
     "execution_count": 425,
     "metadata": {},
     "output_type": "execute_result"
    }
   ],
   "source": [
    "new"
   ]
  },
  {
   "cell_type": "code",
   "execution_count": 435,
   "metadata": {},
   "outputs": [
    {
     "data": {
      "text/plain": [
       "856     6301hre3104 a\n",
       "6999      0400bkt2101\n",
       "7000      0400bkt2102\n",
       "7001      0400bkt2103\n",
       "7002      0400bkt2104\n",
       "7003      0400bkt2105\n",
       "7004      0400bkt2106\n",
       "Name: station_code, dtype: object"
      ]
     },
     "execution_count": 435,
     "metadata": {},
     "output_type": "execute_result"
    }
   ],
   "source": [
    "dups"
   ]
  },
  {
   "cell_type": "markdown",
   "metadata": {},
   "source": [
    "## 3- Summary Statistics"
   ]
  },
  {
   "cell_type": "code",
   "execution_count": 410,
   "metadata": {},
   "outputs": [
    {
     "data": {
      "text/plain": [
       "Index(['polling_station_code', 'polling_station_name', 'ward',\n",
       "       'local_authority_vot', 'constituency_vot', 'province_vot', 'tot_count',\n",
       "       'male_count', 'male_pct', 'female_count', 'female_pct', 'total_age',\n",
       "       'mean_age', 'district', 'constituency_res', 'local_authority_res',\n",
       "       'ward_no', 'polling_stations', 'station_code',\n",
       "       'busha_joseph_makamba_freezim_congress', 'chamisa_nelson_mdc_alliance',\n",
       "       'chikanga__everisto_washington_rebuild_zimbabwe',\n",
       "       'dzapasi_melbah_#_1980_freedom_movement_zimbabwe',\n",
       "       'gava_peter_mapfumo_udf', 'hlabangana_kwanele_rpz',\n",
       "       'kasiyamhuru_blessing_zpp', 'khupe_thokozani_mdc-t',\n",
       "       'madhuku_lovemore_nca', 'mangoma_elton_steers_coalition_of_democrats',\n",
       "       'manyika_noah_ngoni_bza',\n",
       "       'mapfumo_chiguvare_tonderayi_johannes_timothy_pppz',\n",
       "       'mariyacha_violet_udm', 'mhambi-hove_divine_napdr',\n",
       "       'mnangagwa_emmerson_dambudzo_zanu_pf', 'moyo_donald_nkosana_apa',\n",
       "       'mteki_bryn_taurai_independent', 'mugadza_willard_tawonezvi_bcp',\n",
       "       'mujuru_joice_teurai_ropa_prc', 'munyanduri_tenda_peter_npf',\n",
       "       'mutinhiri_ambrose_npf', 'shumba_kuzozvirava_doniel_uda',\n",
       "       'wilson_peter_harry_dop', 'total_votes_rejected',\n",
       "       'ballot_paper_unaccounted_for', 'total_votes_cast',\n",
       "       'total_valid_votes_cast', 'province_res'],\n",
       "      dtype='object')"
      ]
     },
     "execution_count": 410,
     "metadata": {},
     "output_type": "execute_result"
    }
   ],
   "source": [
    "d_election.columns"
   ]
  },
  {
   "cell_type": "markdown",
   "metadata": {},
   "source": [
    "### a) Get columns for candidates other than Chamisa and Mnangagwa"
   ]
  },
  {
   "cell_type": "code",
   "execution_count": 411,
   "metadata": {},
   "outputs": [],
   "source": [
    "# extract columns\n",
    "other_cols = ['busha_joseph_makamba_freezim_congress',\n",
    "#'chamisa_nelson_mdc_alliance',\n",
    "    'chikanga__everisto_washington_rebuild_zimbabwe',\n",
    "       'dzapasi_melbah_#_1980_freedom_movement_zimbabwe',\n",
    "       'gava_peter_mapfumo_udf', 'hlabangana_kwanele_rpz',\n",
    "       'kasiyamhuru_blessing_zpp', 'khupe_thokozani_mdc-t',\n",
    "       'madhuku_lovemore_nca', 'mangoma_elton_steers_coalition_of_democrats',\n",
    "       'manyika_noah_ngoni_bza',\n",
    "       'mapfumo_chiguvare_tonderayi_johannes_timothy_pppz',\n",
    "       'mariyacha_violet_udm', 'mhambi-hove_divine_napdr',\n",
    "#'mnangagwa_emmerson_dambudzo_zanu_pf', \n",
    "    'moyo_donald_nkosana_apa',\n",
    "       'mteki_bryn_taurai_independent', 'mugadza_willard_tawonezvi_bcp',\n",
    "       'mujuru_joice_teurai_ropa_prc', 'munyanduri_tenda_peter_npf',\n",
    "       'mutinhiri_ambrose_npf', 'shumba_kuzozvirava_doniel_uda',\n",
    "       'wilson_peter_harry_dop']"
   ]
  },
  {
   "cell_type": "code",
   "execution_count": 412,
   "metadata": {},
   "outputs": [],
   "source": [
    "# Calculate the totals and make new column in df\n",
    "others = d_election[other_cols].sum(axis=1)\n",
    "d_election['others_excl_NCandED'] = others\n",
    "# Drop individual others, now redundant\n",
    "d_election.drop(other_cols, axis=1, inplace=True)"
   ]
  },
  {
   "cell_type": "code",
   "execution_count": 413,
   "metadata": {},
   "outputs": [
    {
     "data": {
      "text/html": [
       "<div>\n",
       "<table border=\"1\" class=\"dataframe\">\n",
       "  <thead>\n",
       "    <tr style=\"text-align: right;\">\n",
       "      <th></th>\n",
       "      <th>polling_station_code</th>\n",
       "      <th>polling_station_name</th>\n",
       "      <th>ward</th>\n",
       "      <th>local_authority_vot</th>\n",
       "      <th>constituency_vot</th>\n",
       "      <th>province_vot</th>\n",
       "      <th>tot_count</th>\n",
       "      <th>male_count</th>\n",
       "      <th>male_pct</th>\n",
       "      <th>female_count</th>\n",
       "      <th>...</th>\n",
       "      <th>polling_stations</th>\n",
       "      <th>station_code</th>\n",
       "      <th>chamisa_nelson_mdc_alliance</th>\n",
       "      <th>mnangagwa_emmerson_dambudzo_zanu_pf</th>\n",
       "      <th>total_votes_rejected</th>\n",
       "      <th>ballot_paper_unaccounted_for</th>\n",
       "      <th>total_votes_cast</th>\n",
       "      <th>total_valid_votes_cast</th>\n",
       "      <th>province_res</th>\n",
       "      <th>others_excl_NCandED</th>\n",
       "    </tr>\n",
       "  </thead>\n",
       "  <tbody>\n",
       "    <tr>\n",
       "      <th>1</th>\n",
       "      <td>0200bbe0102</td>\n",
       "      <td>chipise primary school</td>\n",
       "      <td>1</td>\n",
       "      <td>beitbridge rdc</td>\n",
       "      <td>beitbridge east</td>\n",
       "      <td>matabeleland south</td>\n",
       "      <td>276</td>\n",
       "      <td>123</td>\n",
       "      <td>0.445652</td>\n",
       "      <td>153</td>\n",
       "      <td>...</td>\n",
       "      <td>chipise primary school</td>\n",
       "      <td>0200bbe0102</td>\n",
       "      <td>33.0</td>\n",
       "      <td>113.0</td>\n",
       "      <td>15.0</td>\n",
       "      <td>0.0</td>\n",
       "      <td>189.0</td>\n",
       "      <td>174.0</td>\n",
       "      <td>matabeleland south province</td>\n",
       "      <td>23.0</td>\n",
       "    </tr>\n",
       "  </tbody>\n",
       "</table>\n",
       "<p>1 rows × 27 columns</p>\n",
       "</div>"
      ],
      "text/plain": [
       "  polling_station_code    polling_station_name  ward local_authority_vot  \\\n",
       "1          0200bbe0102  chipise primary school     1      beitbridge rdc   \n",
       "\n",
       "  constituency_vot        province_vot  tot_count  male_count  male_pct  \\\n",
       "1  beitbridge east  matabeleland south        276         123  0.445652   \n",
       "\n",
       "   female_count         ...                 polling_stations  station_code  \\\n",
       "1           153         ...           chipise primary school   0200bbe0102   \n",
       "\n",
       "   chamisa_nelson_mdc_alliance mnangagwa_emmerson_dambudzo_zanu_pf  \\\n",
       "1                         33.0                               113.0   \n",
       "\n",
       "  total_votes_rejected ballot_paper_unaccounted_for  total_votes_cast  \\\n",
       "1                 15.0                          0.0             189.0   \n",
       "\n",
       "  total_valid_votes_cast                 province_res  others_excl_NCandED  \n",
       "1                  174.0  matabeleland south province                 23.0  \n",
       "\n",
       "[1 rows x 27 columns]"
      ]
     },
     "execution_count": 413,
     "metadata": {},
     "output_type": "execute_result"
    }
   ],
   "source": [
    "d_election.head(1)"
   ]
  },
  {
   "cell_type": "code",
   "execution_count": 414,
   "metadata": {},
   "outputs": [
    {
     "data": {
      "text/plain": [
       "Index(['polling_station_code', 'polling_station_name', 'ward',\n",
       "       'local_authority_vot', 'constituency_vot', 'province_vot', 'tot_count',\n",
       "       'male_count', 'male_pct', 'female_count', 'female_pct', 'total_age',\n",
       "       'mean_age', 'district', 'constituency_res', 'local_authority_res',\n",
       "       'ward_no', 'polling_stations', 'station_code',\n",
       "       'chamisa_nelson_mdc_alliance', 'mnangagwa_emmerson_dambudzo_zanu_pf',\n",
       "       'total_votes_rejected', 'ballot_paper_unaccounted_for',\n",
       "       'total_votes_cast', 'total_valid_votes_cast', 'province_res',\n",
       "       'others_excl_NCandED'],\n",
       "      dtype='object')"
      ]
     },
     "execution_count": 414,
     "metadata": {},
     "output_type": "execute_result"
    }
   ],
   "source": [
    "d_election.columns"
   ]
  },
  {
   "cell_type": "code",
   "execution_count": 415,
   "metadata": {},
   "outputs": [
    {
     "data": {
      "text/plain": [
       "(10970, 27)"
      ]
     },
     "execution_count": 415,
     "metadata": {},
     "output_type": "execute_result"
    }
   ],
   "source": [
    "d_election.shape"
   ]
  },
  {
   "cell_type": "markdown",
   "metadata": {},
   "source": [
    "### b) New features - voter turnout etc."
   ]
  },
  {
   "cell_type": "code",
   "execution_count": 416,
   "metadata": {},
   "outputs": [],
   "source": [
    "# Voter turnout\n",
    "d_election['voter_turnout_valid'] = d_election['total_valid_votes_cast']/d_election['tot_count']\n",
    "d_election['voter_turnout_cast'] = d_election['total_votes_cast']/d_election['tot_count']\n",
    "\n",
    "# Spoiled votes\n",
    "d_election['rejected_pct'] = d_election['total_votes_rejected']/d_election['total_votes_cast']\n",
    "d_election['unaccounted_pct'] = d_election['ballot_paper_unaccounted_for']/d_election['total_votes_cast']\n",
    "\n",
    "# Candidates\n",
    "d_election['mnangagwa_pct'] = d_election['mnangagwa_emmerson_dambudzo_zanu_pf']/d_election['total_valid_votes_cast']\n",
    "d_election['chamisa_pct'] = d_election['chamisa_nelson_mdc_alliance']/d_election['total_valid_votes_cast']\n",
    "d_election['others_pct'] = d_election['others_excl_NCandED']/d_election['total_valid_votes_cast']\n",
    "\n",
    "# Check mathematics\n",
    "d_election['check_sum_valid'] = (d_election['chamisa_nelson_mdc_alliance']+ d_election['mnangagwa_emmerson_dambudzo_zanu_pf']+ d_election['others_excl_NCandED'])/d_election['total_valid_votes_cast']\n",
    "d_election['check_sum_cast'] = (d_election['chamisa_nelson_mdc_alliance']+ d_election['mnangagwa_emmerson_dambudzo_zanu_pf']+ d_election['others_excl_NCandED'])/d_election['total_votes_cast']"
   ]
  },
  {
   "cell_type": "code",
   "execution_count": 417,
   "metadata": {},
   "outputs": [
    {
     "data": {
      "text/html": [
       "<div>\n",
       "<table border=\"1\" class=\"dataframe\">\n",
       "  <thead>\n",
       "    <tr style=\"text-align: right;\">\n",
       "      <th></th>\n",
       "      <th>polling_station_code</th>\n",
       "      <th>polling_station_name</th>\n",
       "      <th>ward</th>\n",
       "      <th>local_authority_vot</th>\n",
       "      <th>constituency_vot</th>\n",
       "      <th>province_vot</th>\n",
       "      <th>tot_count</th>\n",
       "      <th>male_count</th>\n",
       "      <th>male_pct</th>\n",
       "      <th>female_count</th>\n",
       "      <th>...</th>\n",
       "      <th>others_excl_NCandED</th>\n",
       "      <th>voter_turnout_valid</th>\n",
       "      <th>voter_turnout_cast</th>\n",
       "      <th>rejected_pct</th>\n",
       "      <th>unaccounted_pct</th>\n",
       "      <th>mnangagwa_pct</th>\n",
       "      <th>chamisa_pct</th>\n",
       "      <th>others_pct</th>\n",
       "      <th>check_sum_valid</th>\n",
       "      <th>check_sum_cast</th>\n",
       "    </tr>\n",
       "  </thead>\n",
       "  <tbody>\n",
       "    <tr>\n",
       "      <th>1</th>\n",
       "      <td>0200bbe0102</td>\n",
       "      <td>chipise primary school</td>\n",
       "      <td>1</td>\n",
       "      <td>beitbridge rdc</td>\n",
       "      <td>beitbridge east</td>\n",
       "      <td>matabeleland south</td>\n",
       "      <td>276</td>\n",
       "      <td>123</td>\n",
       "      <td>0.445652</td>\n",
       "      <td>153</td>\n",
       "      <td>...</td>\n",
       "      <td>23.0</td>\n",
       "      <td>0.630435</td>\n",
       "      <td>0.684783</td>\n",
       "      <td>0.079365</td>\n",
       "      <td>0.0</td>\n",
       "      <td>0.649425</td>\n",
       "      <td>0.189655</td>\n",
       "      <td>0.132184</td>\n",
       "      <td>0.971264</td>\n",
       "      <td>0.894180</td>\n",
       "    </tr>\n",
       "    <tr>\n",
       "      <th>2</th>\n",
       "      <td>0200bbe0103</td>\n",
       "      <td>chituripasi primary school</td>\n",
       "      <td>1</td>\n",
       "      <td>beitbridge rdc</td>\n",
       "      <td>beitbridge east</td>\n",
       "      <td>matabeleland south</td>\n",
       "      <td>474</td>\n",
       "      <td>185</td>\n",
       "      <td>0.390295</td>\n",
       "      <td>289</td>\n",
       "      <td>...</td>\n",
       "      <td>43.0</td>\n",
       "      <td>0.732068</td>\n",
       "      <td>0.746835</td>\n",
       "      <td>0.019774</td>\n",
       "      <td>0.0</td>\n",
       "      <td>0.688761</td>\n",
       "      <td>0.181556</td>\n",
       "      <td>0.123919</td>\n",
       "      <td>0.994236</td>\n",
       "      <td>0.974576</td>\n",
       "    </tr>\n",
       "  </tbody>\n",
       "</table>\n",
       "<p>2 rows × 36 columns</p>\n",
       "</div>"
      ],
      "text/plain": [
       "  polling_station_code        polling_station_name  ward local_authority_vot  \\\n",
       "1          0200bbe0102      chipise primary school     1      beitbridge rdc   \n",
       "2          0200bbe0103  chituripasi primary school     1      beitbridge rdc   \n",
       "\n",
       "  constituency_vot        province_vot  tot_count  male_count  male_pct  \\\n",
       "1  beitbridge east  matabeleland south        276         123  0.445652   \n",
       "2  beitbridge east  matabeleland south        474         185  0.390295   \n",
       "\n",
       "   female_count       ...        others_excl_NCandED  voter_turnout_valid  \\\n",
       "1           153       ...                       23.0             0.630435   \n",
       "2           289       ...                       43.0             0.732068   \n",
       "\n",
       "   voter_turnout_cast rejected_pct unaccounted_pct mnangagwa_pct  chamisa_pct  \\\n",
       "1            0.684783     0.079365             0.0      0.649425     0.189655   \n",
       "2            0.746835     0.019774             0.0      0.688761     0.181556   \n",
       "\n",
       "  others_pct check_sum_valid  check_sum_cast  \n",
       "1   0.132184        0.971264        0.894180  \n",
       "2   0.123919        0.994236        0.974576  \n",
       "\n",
       "[2 rows x 36 columns]"
      ]
     },
     "execution_count": 417,
     "metadata": {},
     "output_type": "execute_result"
    }
   ],
   "source": [
    "d_election.head(2)"
   ]
  },
  {
   "cell_type": "markdown",
   "metadata": {},
   "source": [
    "## Finally, save the election file ready for analysis"
   ]
  },
  {
   "cell_type": "code",
   "execution_count": 436,
   "metadata": {},
   "outputs": [],
   "source": [
    "# save to excel\n",
    "d_election.to_excel(\"election_data_clean_forScript.xlsx\")\n",
    "dvoters.to_excel(\"votersroll_bypolstat_clean.xlsx\")\n",
    "dresults.to_excel(\"results_bypolstat_clean.xlsx\")\n",
    "unmatched_ps.to_excel(\"pollingstations_inVRnotinRes.xlsx\")"
   ]
  },
  {
   "cell_type": "markdown",
   "metadata": {},
   "source": [
    "----\n",
    "# END of prep Script\n",
    "----"
   ]
  }
 ],
 "metadata": {
  "kernelspec": {
   "display_name": "Python 3",
   "language": "python",
   "name": "python3"
  },
  "language_info": {
   "codemirror_mode": {
    "name": "ipython",
    "version": 3
   },
   "file_extension": ".py",
   "mimetype": "text/x-python",
   "name": "python",
   "nbconvert_exporter": "python",
   "pygments_lexer": "ipython3",
   "version": "3.6.3"
  }
 },
 "nbformat": 4,
 "nbformat_minor": 2
}
