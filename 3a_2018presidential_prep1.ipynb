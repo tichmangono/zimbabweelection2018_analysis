{
 "cells": [
  {
   "cell_type": "markdown",
   "metadata": {},
   "source": [
    "--------\n",
    "# Transform - Presidential Elections & Voters' Roll Data\n",
    "---------------"
   ]
  },
  {
   "cell_type": "markdown",
   "metadata": {},
   "source": [
    " "
   ]
  },
  {
   "cell_type": "markdown",
   "metadata": {},
   "source": [
    " "
   ]
  },
  {
   "cell_type": "markdown",
   "metadata": {},
   "source": [
    "-----\n",
    "## 1. Presidential data\n",
    "---------"
   ]
  },
  {
   "cell_type": "markdown",
   "metadata": {},
   "source": [
    "### a) Import libraries"
   ]
  },
  {
   "cell_type": "code",
   "execution_count": 344,
   "metadata": {},
   "outputs": [],
   "source": [
    "import warnings; warnings.simplefilter('ignore')\n",
    "import pandas as pd\n",
    "import numpy as np\n",
    "import h5py\n",
    "import matplotlib.pyplot as plt\n",
    "import os\n",
    "import pivottablejs as pvt\n",
    "from tabula import read_pdf\n",
    "\n",
    "%matplotlib inline"
   ]
  },
  {
   "cell_type": "code",
   "execution_count": 338,
   "metadata": {},
   "outputs": [],
   "source": [
    "# set the right foldername\n",
    "DATA = './presidential/'\n",
    "MAIN = './'"
   ]
  },
  {
   "cell_type": "code",
   "execution_count": 27,
   "metadata": {},
   "outputs": [
    {
     "data": {
      "text/plain": [
       "['Bulawayo Metropolitan Province 2018 Harmonised Presidential Election Results.xlsx',\n",
       " 'Harare Metropolitan Province July 2018 Harmonised Presidential Election Results.xlsx',\n",
       " 'Manicaland Province Province July 2018 Harmonised Presidential Election Results.xlsx',\n",
       " 'Mashonaland Central Province July 2018 Harmonised Presidential Election Results.xlsx',\n",
       " 'Mashonaland East Province July 2018 Harmonised Presidential Election Results.xlsx',\n",
       " 'Mashonaland West  Province July 2018 Harmonised Presidential Election Results.xlsx',\n",
       " 'Masvingo Province July 2018 Harmonised Presidential Election Results.xlsx',\n",
       " 'Matabeleland North Province July 2018 Harmonised Presidential Election Results.xlsx',\n",
       " 'Matabeleland South Province July 2018 Harmonised Presidential Election Results.xlsx',\n",
       " 'Midlands Province July 2018 Harmonised Presidential Election Results.xlsx']"
      ]
     },
     "execution_count": 27,
     "metadata": {},
     "output_type": "execute_result"
    }
   ],
   "source": [
    "# check to see files\n",
    "os.listdir(DATA)"
   ]
  },
  {
   "cell_type": "markdown",
   "metadata": {},
   "source": [
    "### b) Function to Convert Excel Files to Dataframes"
   ]
  },
  {
   "cell_type": "code",
   "execution_count": 28,
   "metadata": {},
   "outputs": [],
   "source": [
    "def excelToDF(xlsfile, cols):\n",
    "    \"\"\" Takes an Excel File from the ZEC Election results for Zimbabwe presidential elections (one file for each province)\n",
    "        Processes one file and returns two files, one with raw disaggregated data at polling station level\n",
    "        And another with aggregated data at constituency and other levels that were preexisting in the\n",
    "        original files\n",
    "    \"\"\"\n",
    "    # import the provincial results file\n",
    "    prov = pd.ExcelFile(xlsfile)\n",
    "    #prov.sheet_names - shows that the first sheetname is the one of interest\n",
    "    df = prov.parse(sheetname=prov.sheet_names[0])\n",
    "    df = df.iloc[:,:len(cols)].copy()\n",
    "    \n",
    "    # change column names to correct ones, locate row with proper column names first\n",
    "    column_index = np.where(df.iloc[:,0] == 'DISTRICT')[0][0]\n",
    "    df.columns = cols\n",
    "\n",
    "    # get propoer columns and remove null columns\n",
    "    cols = [c for c in df.columns if type(c)==type('c') ]\n",
    "\n",
    "    # make sure columns names have no spaces of or punctuation\n",
    "    df = df.loc[:,cols].copy()\n",
    "    df.columns = [c.lower().strip().replace(\" \",\"_\").replace(\".\",\"\") for c in cols]\n",
    "    \n",
    "    # remove first few columns which are useless\n",
    "    #column_index = np.where(df.iloc[:,0] == 'DISTRICT')[0][0]\n",
    "    df = df[column_index+2:].copy()\n",
    "    \n",
    "    # get name of province\n",
    "    namelist = xlsfile.split(\" \")\n",
    "    remove = ['July' ,'2018', 'Harmonised', 'Presidential', 'Election', 'Results.xlsx']\n",
    "    name =\" \".join([n for n in namelist if n not in remove])\n",
    "     \n",
    "    print(\"Processing dfs for {} province\".format(name))\n",
    "    \n",
    "    # find the rows relevant for raw, disaggregated polling station data\n",
    "    raw = (df.district.notnull() & df.constituency.notnull() & \n",
    "                df.local_authority.notnull() & df.ward_no.notnull() & df.polling_stations.notnull())\n",
    "    \n",
    "    # Make the raw and aggregated dfs\n",
    "    draw = df[raw]\n",
    "   \n",
    "    # make column for the province and add to the dfs\n",
    "    draw['province'] = name\n",
    "      \n",
    "    return draw"
   ]
  },
  {
   "cell_type": "markdown",
   "metadata": {},
   "source": [
    "### c) Define a set of standard colums"
   ]
  },
  {
   "cell_type": "code",
   "execution_count": 29,
   "metadata": {},
   "outputs": [
    {
     "data": {
      "text/plain": [
       "['DISTRICT',\n",
       " 'CONSTITUENCY ',\n",
       " 'LOCAL AUTHORITY',\n",
       " 'WARD NO.',\n",
       " 'POLLING STATIONS',\n",
       " 'STATION CODE',\n",
       " 'Busha Joseph Makamba FreeZim Congress',\n",
       " 'Chamisa Nelson MDC Alliance',\n",
       " 'Chikanga  Everisto Washington Rebuild Zimbabwe',\n",
       " 'Dzapasi Melbah # 1980 Freedom Movement Zimbabwe',\n",
       " 'Gava Peter Mapfumo UDF',\n",
       " 'Hlabangana Kwanele RPZ',\n",
       " 'Kasiyamhuru Blessing ZPP',\n",
       " 'Khupe Thokozani MDC-T',\n",
       " 'Madhuku Lovemore NCA',\n",
       " 'Mangoma Elton Steers Coalition of Democrats',\n",
       " 'Manyika Noah Ngoni BZA',\n",
       " 'Mapfumo Chiguvare Tonderayi Johannes Timothy PPPZ',\n",
       " 'MARIYACHA Violet UDM',\n",
       " 'Mhambi-Hove Divine NAPDR',\n",
       " 'Mnangagwa Emmerson Dambudzo ZANU PF',\n",
       " 'Moyo Donald Nkosana APA',\n",
       " 'Mteki Bryn Taurai Independent',\n",
       " 'Mugadza Willard Tawonezvi BCP',\n",
       " 'Mujuru Joice Teurai Ropa PRC',\n",
       " 'Munyanduri Tenda Peter NPF',\n",
       " 'MutinhirI Ambrose NPF',\n",
       " 'Shumba Kuzozvirava Doniel UDA',\n",
       " 'Wilson Peter Harry DOP',\n",
       " 'Total Votes Rejected ',\n",
       " 'Ballot Paper Unaccounted for',\n",
       " 'Total Votes Cast',\n",
       " 'Total Valid Votes Cast']"
      ]
     },
     "execution_count": 29,
     "metadata": {},
     "output_type": "execute_result"
    }
   ],
   "source": [
    "# Get columns names to apply to all dfs\n",
    "xlsfile = DATA+'Bulawayo Metropolitan Province 2018 Harmonised Presidential Election Results.xlsx'\n",
    "# import the provincial results file\n",
    "prov = pd.ExcelFile(xlsfile)\n",
    "#prov.sheet_names - shows that the first sheetname is the one of interest\n",
    "df = prov.parse(sheetname=prov.sheet_names[0])\n",
    "\n",
    "# change column names to correct ones\n",
    "column_index = np.where(df.iloc[:,0] == 'DISTRICT')[0][0]\n",
    "df.columns = df.loc[column_index]\n",
    "\n",
    "# get propoer columns and remove null columns\n",
    "cols = [c for c in df.columns if type(c)==type('c') ]\n",
    "cols"
   ]
  },
  {
   "cell_type": "markdown",
   "metadata": {},
   "source": [
    "### d) Convert all Excel Files to DataFrames"
   ]
  },
  {
   "cell_type": "code",
   "execution_count": 30,
   "metadata": {},
   "outputs": [],
   "source": [
    "# make sure the folder only contains the excel files of interest\n",
    "# make a list of the filename to loop through later\n",
    "# grab only the excel files\n",
    "provincial_filenames = [DATA+f for f in os.listdir(DATA) if 'xls' in f]"
   ]
  },
  {
   "cell_type": "code",
   "execution_count": 31,
   "metadata": {},
   "outputs": [
    {
     "data": {
      "text/plain": [
       "['./presidential/Bulawayo Metropolitan Province 2018 Harmonised Presidential Election Results.xlsx',\n",
       " './presidential/Harare Metropolitan Province July 2018 Harmonised Presidential Election Results.xlsx',\n",
       " './presidential/Manicaland Province Province July 2018 Harmonised Presidential Election Results.xlsx',\n",
       " './presidential/Mashonaland Central Province July 2018 Harmonised Presidential Election Results.xlsx',\n",
       " './presidential/Mashonaland East Province July 2018 Harmonised Presidential Election Results.xlsx',\n",
       " './presidential/Mashonaland West  Province July 2018 Harmonised Presidential Election Results.xlsx',\n",
       " './presidential/Masvingo Province July 2018 Harmonised Presidential Election Results.xlsx',\n",
       " './presidential/Matabeleland North Province July 2018 Harmonised Presidential Election Results.xlsx',\n",
       " './presidential/Matabeleland South Province July 2018 Harmonised Presidential Election Results.xlsx',\n",
       " './presidential/Midlands Province July 2018 Harmonised Presidential Election Results.xlsx']"
      ]
     },
     "execution_count": 31,
     "metadata": {},
     "output_type": "execute_result"
    }
   ],
   "source": [
    "provincial_filenames"
   ]
  },
  {
   "cell_type": "code",
   "execution_count": 32,
   "metadata": {},
   "outputs": [
    {
     "name": "stdout",
     "output_type": "stream",
     "text": [
      "Processing dfs for ./presidential/Bulawayo Metropolitan Province province\n",
      "Processing dfs for ./presidential/Harare Metropolitan Province province\n",
      "Processing dfs for ./presidential/Manicaland Province Province province\n",
      "Processing dfs for ./presidential/Mashonaland Central Province province\n",
      "Processing dfs for ./presidential/Mashonaland East Province province\n",
      "Processing dfs for ./presidential/Mashonaland West  Province province\n",
      "Processing dfs for ./presidential/Masvingo Province province\n",
      "Processing dfs for ./presidential/Matabeleland North Province province\n",
      "Processing dfs for ./presidential/Matabeleland South Province province\n",
      "Processing dfs for ./presidential/Midlands Province province\n"
     ]
    }
   ],
   "source": [
    "# get lists of dfs, each containing an aggregated and disaggregated dataframe\n",
    "# each list index represents a province\n",
    "#agg_dfs = [excelToDF(fn, cols)[1] for fn in provincial_filenames]\n",
    "raw_dfs = [excelToDF(fn, cols) for fn in provincial_filenames]\n"
   ]
  },
  {
   "cell_type": "markdown",
   "metadata": {},
   "source": [
    "### e) Cancatenate DataFrames and Transfer to Excel for Analysis"
   ]
  },
  {
   "cell_type": "code",
   "execution_count": 36,
   "metadata": {},
   "outputs": [],
   "source": [
    "# Concatenate\n",
    "rconcat = pd.concat(raw_dfs)\n",
    "rconcat = rconcat.reset_index().drop(['index'], axis=1)\n",
    "\n",
    "# Convert and save to Excel in the main folder\n",
    "rconcat.to_excel(MAIN+\"zimelectionresults2018_bypollingstation.xlsx\")"
   ]
  },
  {
   "cell_type": "markdown",
   "metadata": {},
   "source": [
    "  "
   ]
  },
  {
   "cell_type": "markdown",
   "metadata": {},
   "source": [
    " "
   ]
  },
  {
   "cell_type": "markdown",
   "metadata": {},
   "source": [
    " "
   ]
  },
  {
   "cell_type": "markdown",
   "metadata": {},
   "source": [
    "----\n",
    "# 2 - Voters' Roll Data\n",
    "-----"
   ]
  },
  {
   "cell_type": "markdown",
   "metadata": {},
   "source": [
    "### a) Read in Voters Roll data "
   ]
  },
  {
   "cell_type": "code",
   "execution_count": 2,
   "metadata": {},
   "outputs": [],
   "source": [
    "# set foldername\n",
    "VOTERSDATA = './votersroll/'"
   ]
  },
  {
   "cell_type": "code",
   "execution_count": 6,
   "metadata": {},
   "outputs": [],
   "source": [
    "voterfiles = [VOTERSDATA+f for f in os.listdir(VOTERSDATA) if 'Roll.xlsx' in f]"
   ]
  },
  {
   "cell_type": "code",
   "execution_count": 7,
   "metadata": {},
   "outputs": [
    {
     "data": {
      "text/plain": [
       "[\"./votersroll/Bulawayo Metropolitan Province Consolidated Voters' Roll.xlsx\",\n",
       " \"./votersroll/Harare Metropolitan Province Consolidated Voters' Roll.xlsx\",\n",
       " \"./votersroll/Manicaland Province Consolidated Voters' Roll.xlsx\",\n",
       " \"./votersroll/Mashonaland Central Province Consolidated Voters' Roll.xlsx\",\n",
       " \"./votersroll/Mashonaland East Province Consolidated Voters' Roll.xlsx\",\n",
       " \"./votersroll/Mashonaland West Province Consolidated Voters' Roll.xlsx\",\n",
       " \"./votersroll/Masvingo Province Consolidated Voters' Roll.xlsx\",\n",
       " \"./votersroll/Matabeleland North Province Consolidated Voters' Roll.xlsx\",\n",
       " \"./votersroll/Matabeleland South Province Consolidated Voters' Roll.xlsx\",\n",
       " \"./votersroll/Midlands Province Consolidated Voters' Roll.xlsx\"]"
      ]
     },
     "execution_count": 7,
     "metadata": {},
     "output_type": "execute_result"
    }
   ],
   "source": [
    "voterfiles"
   ]
  },
  {
   "cell_type": "code",
   "execution_count": 12,
   "metadata": {},
   "outputs": [],
   "source": [
    "# This piece of code takes a long time\n",
    "# So uncomment to run then comment again to avoid running it by mistake\n",
    "'''\n",
    "voterdfs = [pd.read_excel(f) for f in voterfiles]\n",
    "'''"
   ]
  },
  {
   "cell_type": "markdown",
   "metadata": {},
   "source": [
    "### b) Clean up and consolidate all provinces into one file"
   ]
  },
  {
   "cell_type": "code",
   "execution_count": 240,
   "metadata": {},
   "outputs": [
    {
     "data": {
      "text/plain": [
       "10"
      ]
     },
     "execution_count": 240,
     "metadata": {},
     "output_type": "execute_result"
    }
   ],
   "source": [
    "len(voterdfs)"
   ]
  },
  {
   "cell_type": "code",
   "execution_count": 352,
   "metadata": {},
   "outputs": [],
   "source": [
    "# Check consistency of file structure.\n",
    "# The second row of each file must contain the desired columnnames\n",
    "[\",\".join(list(d.iloc[1,:])) for d in voterdfs]"
   ]
  },
  {
   "cell_type": "code",
   "execution_count": 154,
   "metadata": {},
   "outputs": [
    {
     "data": {
      "text/plain": [
       "['Ser',\n",
       " 'Surname',\n",
       " 'Forenames',\n",
       " 'ID Number',\n",
       " 'Gender',\n",
       " 'Date of Birth',\n",
       " 'Voter Address',\n",
       " 'Polling Station Code',\n",
       " 'Polling Station Name',\n",
       " 'Ward',\n",
       " 'Local Authority',\n",
       " 'Constituency',\n",
       " 'District',\n",
       " 'Province ']"
      ]
     },
     "execution_count": 154,
     "metadata": {},
     "output_type": "execute_result"
    }
   ],
   "source": [
    "# Get the right columnn names, in right order\n",
    "new_cols = list(voterdfs[1].iloc[1,:]); new_cols"
   ]
  },
  {
   "cell_type": "code",
   "execution_count": 203,
   "metadata": {},
   "outputs": [],
   "source": [
    "# Assign new columns to each df\n",
    "for d in voterdfs:\n",
    "    d.columns = new_cols\n",
    "\n",
    "voterdfs = [d.iloc[2:,:] for d in voterdfs]"
   ]
  },
  {
   "cell_type": "code",
   "execution_count": 243,
   "metadata": {},
   "outputs": [
    {
     "data": {
      "text/html": [
       "<div>\n",
       "<table border=\"1\" class=\"dataframe\">\n",
       "  <thead>\n",
       "    <tr style=\"text-align: right;\">\n",
       "      <th></th>\n",
       "      <th>Ser</th>\n",
       "      <th>Surname</th>\n",
       "      <th>Forenames</th>\n",
       "      <th>ID Number</th>\n",
       "      <th>Gender</th>\n",
       "      <th>Date of Birth</th>\n",
       "      <th>Voter Address</th>\n",
       "      <th>Polling Station Code</th>\n",
       "      <th>Polling Station Name</th>\n",
       "      <th>Ward</th>\n",
       "      <th>Local Authority</th>\n",
       "      <th>Constituency</th>\n",
       "      <th>District</th>\n",
       "      <th>Province</th>\n",
       "    </tr>\n",
       "  </thead>\n",
       "  <tbody>\n",
       "    <tr>\n",
       "      <th>2</th>\n",
       "      <td>1</td>\n",
       "      <td>ALI BABA</td>\n",
       "      <td>SANTI</td>\n",
       "      <td>08-012142 -Z00</td>\n",
       "      <td>Female</td>\n",
       "      <td>1957-10-06 00:00:00</td>\n",
       "      <td>FLAT NUMBER 8, GEORGE SILUNDIKA, CBD, BULAWAYO</td>\n",
       "      <td>0801BYO0101 A</td>\n",
       "      <td>City Hall</td>\n",
       "      <td>1</td>\n",
       "      <td>Bulawayo Municipality</td>\n",
       "      <td>Bulawayo Central</td>\n",
       "      <td>Bulawayo</td>\n",
       "      <td>Bulawayo Metropolitan</td>\n",
       "    </tr>\n",
       "    <tr>\n",
       "      <th>3</th>\n",
       "      <td>2</td>\n",
       "      <td>ASANI</td>\n",
       "      <td>ALLAN</td>\n",
       "      <td>29-2039989-V29</td>\n",
       "      <td>Male</td>\n",
       "      <td>1998-09-12 00:00:00</td>\n",
       "      <td>NUMBER 503 CIPF, JASON MOYO, CBD, BULAWAYO</td>\n",
       "      <td>0801BYO0101 A</td>\n",
       "      <td>City Hall</td>\n",
       "      <td>1</td>\n",
       "      <td>Bulawayo Municipality</td>\n",
       "      <td>Bulawayo Central</td>\n",
       "      <td>Bulawayo</td>\n",
       "      <td>Bulawayo Metropolitan</td>\n",
       "    </tr>\n",
       "    <tr>\n",
       "      <th>4</th>\n",
       "      <td>3</td>\n",
       "      <td>ASHLEY</td>\n",
       "      <td>ARTHUR RAYMOND</td>\n",
       "      <td>75-068008 -K00</td>\n",
       "      <td>Male</td>\n",
       "      <td>1954-10-15 00:00:00</td>\n",
       "      <td>HOUSE NUMBER 17 A,  SECOND AVENUE,  CITY CENTR...</td>\n",
       "      <td>0801BYO0101 A</td>\n",
       "      <td>City Hall</td>\n",
       "      <td>1</td>\n",
       "      <td>Bulawayo Municipality</td>\n",
       "      <td>Bulawayo Central</td>\n",
       "      <td>Bulawayo</td>\n",
       "      <td>Bulawayo Metropolitan</td>\n",
       "    </tr>\n",
       "  </tbody>\n",
       "</table>\n",
       "</div>"
      ],
      "text/plain": [
       "  Ser   Surname       Forenames       ID Number  Gender        Date of Birth  \\\n",
       "2   1  ALI BABA           SANTI  08-012142 -Z00  Female  1957-10-06 00:00:00   \n",
       "3   2     ASANI           ALLAN  29-2039989-V29    Male  1998-09-12 00:00:00   \n",
       "4   3    ASHLEY  ARTHUR RAYMOND  75-068008 -K00    Male  1954-10-15 00:00:00   \n",
       "\n",
       "                                       Voter Address Polling Station Code  \\\n",
       "2     FLAT NUMBER 8, GEORGE SILUNDIKA, CBD, BULAWAYO        0801BYO0101 A   \n",
       "3         NUMBER 503 CIPF, JASON MOYO, CBD, BULAWAYO        0801BYO0101 A   \n",
       "4  HOUSE NUMBER 17 A,  SECOND AVENUE,  CITY CENTR...        0801BYO0101 A   \n",
       "\n",
       "  Polling Station Name Ward        Local Authority      Constituency  \\\n",
       "2            City Hall    1  Bulawayo Municipality  Bulawayo Central   \n",
       "3            City Hall    1  Bulawayo Municipality  Bulawayo Central   \n",
       "4            City Hall    1  Bulawayo Municipality  Bulawayo Central   \n",
       "\n",
       "   District               Province   \n",
       "2  Bulawayo  Bulawayo Metropolitan   \n",
       "3  Bulawayo  Bulawayo Metropolitan   \n",
       "4  Bulawayo  Bulawayo Metropolitan   "
      ]
     },
     "execution_count": 243,
     "metadata": {},
     "output_type": "execute_result"
    }
   ],
   "source": [
    "voterdfs[0].head(3)"
   ]
  },
  {
   "cell_type": "code",
   "execution_count": 244,
   "metadata": {},
   "outputs": [],
   "source": [
    "# Make the dataframe for votersroll\n",
    "df_vroll = pd.concat(voterdfs)"
   ]
  },
  {
   "cell_type": "code",
   "execution_count": 245,
   "metadata": {},
   "outputs": [
    {
     "data": {
      "text/plain": [
       "array(['Bulawayo Metropolitan ', 'Harare Metropolitan ', 'Manicaland ',\n",
       "       'Mashonaland Central ', 'Mashonaland East ', 'Mashonaland West ',\n",
       "       'Masvingo ', 'Matabeleland North ', 'Matabeleland South ',\n",
       "       'Midlands '], dtype=object)"
      ]
     },
     "execution_count": 245,
     "metadata": {},
     "output_type": "execute_result"
    }
   ],
   "source": [
    "df_vroll['Province '].unique()"
   ]
  },
  {
   "cell_type": "code",
   "execution_count": 246,
   "metadata": {},
   "outputs": [],
   "source": [
    "# Remove punctuation from the column names\n",
    "df_vroll.columns = [c.lower().strip().replace(\" \",\"_\").replace(\".\",\"\") for c in df_vroll.columns]"
   ]
  },
  {
   "cell_type": "code",
   "execution_count": 247,
   "metadata": {},
   "outputs": [
    {
     "data": {
      "text/html": [
       "<div>\n",
       "<table border=\"1\" class=\"dataframe\">\n",
       "  <thead>\n",
       "    <tr style=\"text-align: right;\">\n",
       "      <th></th>\n",
       "      <th>ser</th>\n",
       "      <th>surname</th>\n",
       "      <th>forenames</th>\n",
       "      <th>id_number</th>\n",
       "      <th>gender</th>\n",
       "      <th>date_of_birth</th>\n",
       "      <th>voter_address</th>\n",
       "      <th>polling_station_code</th>\n",
       "      <th>polling_station_name</th>\n",
       "      <th>ward</th>\n",
       "      <th>local_authority</th>\n",
       "      <th>constituency</th>\n",
       "      <th>district</th>\n",
       "      <th>province</th>\n",
       "    </tr>\n",
       "  </thead>\n",
       "  <tbody>\n",
       "    <tr>\n",
       "      <th>2</th>\n",
       "      <td>1</td>\n",
       "      <td>ALI BABA</td>\n",
       "      <td>SANTI</td>\n",
       "      <td>08-012142 -Z00</td>\n",
       "      <td>Female</td>\n",
       "      <td>1957-10-06 00:00:00</td>\n",
       "      <td>FLAT NUMBER 8, GEORGE SILUNDIKA, CBD, BULAWAYO</td>\n",
       "      <td>0801BYO0101 A</td>\n",
       "      <td>City Hall</td>\n",
       "      <td>1</td>\n",
       "      <td>Bulawayo Municipality</td>\n",
       "      <td>Bulawayo Central</td>\n",
       "      <td>Bulawayo</td>\n",
       "      <td>Bulawayo Metropolitan</td>\n",
       "    </tr>\n",
       "  </tbody>\n",
       "</table>\n",
       "</div>"
      ],
      "text/plain": [
       "  ser   surname forenames       id_number  gender        date_of_birth  \\\n",
       "2   1  ALI BABA     SANTI  08-012142 -Z00  Female  1957-10-06 00:00:00   \n",
       "\n",
       "                                    voter_address polling_station_code  \\\n",
       "2  FLAT NUMBER 8, GEORGE SILUNDIKA, CBD, BULAWAYO        0801BYO0101 A   \n",
       "\n",
       "  polling_station_name ward        local_authority      constituency  \\\n",
       "2            City Hall    1  Bulawayo Municipality  Bulawayo Central   \n",
       "\n",
       "   district                province  \n",
       "2  Bulawayo  Bulawayo Metropolitan   "
      ]
     },
     "execution_count": 247,
     "metadata": {},
     "output_type": "execute_result"
    }
   ],
   "source": [
    "df_vroll.head(1)"
   ]
  },
  {
   "cell_type": "code",
   "execution_count": 249,
   "metadata": {},
   "outputs": [],
   "source": [
    "# remove leftover stuff from the province files\n",
    "df_vroll = df_vroll[(df_vroll[\"forenames\"] !='Forenames') & (df_vroll[\"surname\"] !='Surname') & ((df_vroll[\"forenames\"].notnull()) | (df_vroll[\"surname\"].notnull()))]"
   ]
  },
  {
   "cell_type": "markdown",
   "metadata": {},
   "source": [
    "### c) Glimpse of the data, check for nulls and duplicates"
   ]
  },
  {
   "cell_type": "code",
   "execution_count": 250,
   "metadata": {},
   "outputs": [
    {
     "data": {
      "text/plain": [
       "(5695706, 14)"
      ]
     },
     "execution_count": 250,
     "metadata": {},
     "output_type": "execute_result"
    }
   ],
   "source": [
    "df_vroll.shape"
   ]
  },
  {
   "cell_type": "code",
   "execution_count": 251,
   "metadata": {},
   "outputs": [
    {
     "data": {
      "text/html": [
       "<div>\n",
       "<table border=\"1\" class=\"dataframe\">\n",
       "  <thead>\n",
       "    <tr style=\"text-align: right;\">\n",
       "      <th></th>\n",
       "      <th>ser</th>\n",
       "      <th>surname</th>\n",
       "      <th>forenames</th>\n",
       "      <th>id_number</th>\n",
       "      <th>gender</th>\n",
       "      <th>date_of_birth</th>\n",
       "      <th>voter_address</th>\n",
       "      <th>polling_station_code</th>\n",
       "      <th>polling_station_name</th>\n",
       "      <th>ward</th>\n",
       "      <th>local_authority</th>\n",
       "      <th>constituency</th>\n",
       "      <th>district</th>\n",
       "      <th>province</th>\n",
       "    </tr>\n",
       "  </thead>\n",
       "  <tbody>\n",
       "    <tr>\n",
       "      <th>count</th>\n",
       "      <td>5695706</td>\n",
       "      <td>5695706</td>\n",
       "      <td>5695704</td>\n",
       "      <td>5695706</td>\n",
       "      <td>5695706</td>\n",
       "      <td>5695706</td>\n",
       "      <td>5695699</td>\n",
       "      <td>5695706</td>\n",
       "      <td>5695706</td>\n",
       "      <td>5695706</td>\n",
       "      <td>5695706</td>\n",
       "      <td>5695706</td>\n",
       "      <td>5695706</td>\n",
       "      <td>5695706</td>\n",
       "    </tr>\n",
       "    <tr>\n",
       "      <th>unique</th>\n",
       "      <td>900728</td>\n",
       "      <td>211422</td>\n",
       "      <td>761416</td>\n",
       "      <td>5695701</td>\n",
       "      <td>2</td>\n",
       "      <td>29754</td>\n",
       "      <td>2741207</td>\n",
       "      <td>10985</td>\n",
       "      <td>8986</td>\n",
       "      <td>46</td>\n",
       "      <td>89</td>\n",
       "      <td>210</td>\n",
       "      <td>63</td>\n",
       "      <td>10</td>\n",
       "    </tr>\n",
       "    <tr>\n",
       "      <th>top</th>\n",
       "      <td>1</td>\n",
       "      <td>MOYO</td>\n",
       "      <td>TENDAI</td>\n",
       "      <td>26-209414 -S26</td>\n",
       "      <td>Female</td>\n",
       "      <td>1970-01-01 00:00:00</td>\n",
       "      <td>ZIMBIRU VILLAGE, HEADMAN MURAPE, CHIEF CHINAMH...</td>\n",
       "      <td>4700MRE1102</td>\n",
       "      <td>DDF Manyame Training Centre</td>\n",
       "      <td>1</td>\n",
       "      <td>Harare Municipality</td>\n",
       "      <td>Harare South</td>\n",
       "      <td>Harare</td>\n",
       "      <td>Harare Metropolitan</td>\n",
       "    </tr>\n",
       "    <tr>\n",
       "      <th>freq</th>\n",
       "      <td>10</td>\n",
       "      <td>115524</td>\n",
       "      <td>32119</td>\n",
       "      <td>2</td>\n",
       "      <td>3073190</td>\n",
       "      <td>1959</td>\n",
       "      <td>1304</td>\n",
       "      <td>1000</td>\n",
       "      <td>9463</td>\n",
       "      <td>291066</td>\n",
       "      <td>684282</td>\n",
       "      <td>76425</td>\n",
       "      <td>756301</td>\n",
       "      <td>900728</td>\n",
       "    </tr>\n",
       "  </tbody>\n",
       "</table>\n",
       "</div>"
      ],
      "text/plain": [
       "            ser  surname forenames       id_number   gender  \\\n",
       "count   5695706  5695706   5695704         5695706  5695706   \n",
       "unique   900728   211422    761416         5695701        2   \n",
       "top           1     MOYO    TENDAI  26-209414 -S26   Female   \n",
       "freq         10   115524     32119               2  3073190   \n",
       "\n",
       "              date_of_birth  \\\n",
       "count               5695706   \n",
       "unique                29754   \n",
       "top     1970-01-01 00:00:00   \n",
       "freq                   1959   \n",
       "\n",
       "                                            voter_address  \\\n",
       "count                                             5695699   \n",
       "unique                                            2741207   \n",
       "top     ZIMBIRU VILLAGE, HEADMAN MURAPE, CHIEF CHINAMH...   \n",
       "freq                                                 1304   \n",
       "\n",
       "       polling_station_code         polling_station_name     ward  \\\n",
       "count               5695706                      5695706  5695706   \n",
       "unique                10985                         8986       46   \n",
       "top             4700MRE1102  DDF Manyame Training Centre        1   \n",
       "freq                   1000                         9463   291066   \n",
       "\n",
       "            local_authority  constituency district              province  \n",
       "count               5695706       5695706  5695706               5695706  \n",
       "unique                   89           210       63                    10  \n",
       "top     Harare Municipality  Harare South   Harare  Harare Metropolitan   \n",
       "freq                 684282         76425   756301                900728  "
      ]
     },
     "execution_count": 251,
     "metadata": {},
     "output_type": "execute_result"
    }
   ],
   "source": [
    "# Quick data summary\n",
    "df_vroll.describe()"
   ]
  },
  {
   "cell_type": "code",
   "execution_count": 252,
   "metadata": {},
   "outputs": [
    {
     "data": {
      "text/plain": [
       "ser                     0\n",
       "surname                 0\n",
       "forenames               2\n",
       "id_number               0\n",
       "gender                  0\n",
       "date_of_birth           0\n",
       "voter_address           7\n",
       "polling_station_code    0\n",
       "polling_station_name    0\n",
       "ward                    0\n",
       "local_authority         0\n",
       "constituency            0\n",
       "district                0\n",
       "province                0\n",
       "dtype: int64"
      ]
     },
     "execution_count": 252,
     "metadata": {},
     "output_type": "execute_result"
    }
   ],
   "source": [
    "# Null entries\n",
    "df_vroll.isnull().sum()"
   ]
  },
  {
   "cell_type": "code",
   "execution_count": 253,
   "metadata": {},
   "outputs": [
    {
     "data": {
      "text/html": [
       "<div>\n",
       "<table border=\"1\" class=\"dataframe\">\n",
       "  <thead>\n",
       "    <tr style=\"text-align: right;\">\n",
       "      <th></th>\n",
       "      <th>ser</th>\n",
       "      <th>surname</th>\n",
       "      <th>forenames</th>\n",
       "      <th>id_number</th>\n",
       "      <th>gender</th>\n",
       "      <th>date_of_birth</th>\n",
       "      <th>voter_address</th>\n",
       "      <th>polling_station_code</th>\n",
       "      <th>polling_station_name</th>\n",
       "      <th>ward</th>\n",
       "      <th>local_authority</th>\n",
       "      <th>constituency</th>\n",
       "      <th>district</th>\n",
       "      <th>province</th>\n",
       "    </tr>\n",
       "  </thead>\n",
       "  <tbody>\n",
       "    <tr>\n",
       "      <th>283008</th>\n",
       "      <td>283007</td>\n",
       "      <td>SIBANDA</td>\n",
       "      <td>NaN</td>\n",
       "      <td>73-004591 -Q73</td>\n",
       "      <td>Female</td>\n",
       "      <td>1946-01-12 00:00:00</td>\n",
       "      <td>VILLAGE NJOBO, HEADMAN SIKENTE, CHIEF GAMPO</td>\n",
       "      <td>7300TSH1005</td>\n",
       "      <td>Sikente Primary School</td>\n",
       "      <td>10</td>\n",
       "      <td>Tsholotsho RDC</td>\n",
       "      <td>Tsholotsho South</td>\n",
       "      <td>Tsholotsho</td>\n",
       "      <td>Matabeleland North</td>\n",
       "    </tr>\n",
       "    <tr>\n",
       "      <th>231080</th>\n",
       "      <td>231079</td>\n",
       "      <td>NDLOVU</td>\n",
       "      <td>NaN</td>\n",
       "      <td>28-030337 -G39</td>\n",
       "      <td>Female</td>\n",
       "      <td>1958-06-01 00:00:00</td>\n",
       "      <td>KAPENI  VILLAGE, HEADMAN   NORMAN NDLOVU, CHIE...</td>\n",
       "      <td>3900MTB0501</td>\n",
       "      <td>Beula Clinic Tent</td>\n",
       "      <td>5</td>\n",
       "      <td>Matobo RDC</td>\n",
       "      <td>Matobo South</td>\n",
       "      <td>Matobo</td>\n",
       "      <td>Matabeleland South</td>\n",
       "    </tr>\n",
       "  </tbody>\n",
       "</table>\n",
       "</div>"
      ],
      "text/plain": [
       "           ser  surname forenames       id_number  gender  \\\n",
       "283008  283007  SIBANDA       NaN  73-004591 -Q73  Female   \n",
       "231080  231079   NDLOVU       NaN  28-030337 -G39  Female   \n",
       "\n",
       "              date_of_birth  \\\n",
       "283008  1946-01-12 00:00:00   \n",
       "231080  1958-06-01 00:00:00   \n",
       "\n",
       "                                            voter_address  \\\n",
       "283008        VILLAGE NJOBO, HEADMAN SIKENTE, CHIEF GAMPO   \n",
       "231080  KAPENI  VILLAGE, HEADMAN   NORMAN NDLOVU, CHIE...   \n",
       "\n",
       "       polling_station_code    polling_station_name ward local_authority  \\\n",
       "283008          7300TSH1005  Sikente Primary School   10  Tsholotsho RDC   \n",
       "231080          3900MTB0501       Beula Clinic Tent    5      Matobo RDC   \n",
       "\n",
       "            constituency    district             province  \n",
       "283008  Tsholotsho South  Tsholotsho  Matabeleland North   \n",
       "231080      Matobo South      Matobo  Matabeleland South   "
      ]
     },
     "execution_count": 253,
     "metadata": {},
     "output_type": "execute_result"
    }
   ],
   "source": [
    "df_vroll[df_vroll[\"forenames\"].isnull()]"
   ]
  },
  {
   "cell_type": "code",
   "execution_count": 258,
   "metadata": {},
   "outputs": [
    {
     "data": {
      "text/html": [
       "<div>\n",
       "<table border=\"1\" class=\"dataframe\">\n",
       "  <thead>\n",
       "    <tr style=\"text-align: right;\">\n",
       "      <th></th>\n",
       "      <th>ser</th>\n",
       "      <th>surname</th>\n",
       "      <th>forenames</th>\n",
       "      <th>id_number</th>\n",
       "      <th>gender</th>\n",
       "      <th>date_of_birth</th>\n",
       "      <th>voter_address</th>\n",
       "      <th>polling_station_code</th>\n",
       "      <th>polling_station_name</th>\n",
       "      <th>ward</th>\n",
       "      <th>local_authority</th>\n",
       "      <th>constituency</th>\n",
       "      <th>district</th>\n",
       "      <th>province</th>\n",
       "    </tr>\n",
       "  </thead>\n",
       "  <tbody>\n",
       "    <tr>\n",
       "      <th>117621</th>\n",
       "      <td>117620</td>\n",
       "      <td>CHINGANDU</td>\n",
       "      <td>TANYANYIWA MOSES</td>\n",
       "      <td>63-493581 -L25</td>\n",
       "      <td>Male</td>\n",
       "      <td>1940-01-12 00:00:00</td>\n",
       "      <td>HOUSE NUMBER 3271, NHUNGURU STREET, ZENGEZA, C...</td>\n",
       "      <td>6301CHIT1001 A</td>\n",
       "      <td>Early Learning Centre</td>\n",
       "      <td>10</td>\n",
       "      <td>Chitungwiza Municipality</td>\n",
       "      <td>Zengeza West</td>\n",
       "      <td>Chitungwiza</td>\n",
       "      <td>Harare Metropolitan</td>\n",
       "    </tr>\n",
       "    <tr>\n",
       "      <th>118634</th>\n",
       "      <td>118633</td>\n",
       "      <td>CHINGANDU</td>\n",
       "      <td>TANYANYIWA MOSES</td>\n",
       "      <td>63-493581 -L25</td>\n",
       "      <td>Male</td>\n",
       "      <td>1940-01-12 00:00:00</td>\n",
       "      <td>HOUSE NUMBER 21, NHUNGURU STREET, ZENGEZA 2, C...</td>\n",
       "      <td>6301CHIT1002</td>\n",
       "      <td>Mhuriimwe A High School</td>\n",
       "      <td>10</td>\n",
       "      <td>Chitungwiza Municipality</td>\n",
       "      <td>Zengeza West</td>\n",
       "      <td>Chitungwiza</td>\n",
       "      <td>Harare Metropolitan</td>\n",
       "    </tr>\n",
       "    <tr>\n",
       "      <th>262096</th>\n",
       "      <td>262095</td>\n",
       "      <td>MAKAMURE</td>\n",
       "      <td>ROSARIO</td>\n",
       "      <td>38-123629 -B38</td>\n",
       "      <td>Female</td>\n",
       "      <td>1978-10-24 00:00:00</td>\n",
       "      <td>HOUSE NUMBER C022, UNNAMED STREET, EPWORTH, HA...</td>\n",
       "      <td>6301EPW0401 C</td>\n",
       "      <td>Chizungu Primary School</td>\n",
       "      <td>4</td>\n",
       "      <td>Epworth Local Board</td>\n",
       "      <td>Epworth</td>\n",
       "      <td>Harare</td>\n",
       "      <td>Harare Metropolitan</td>\n",
       "    </tr>\n",
       "    <tr>\n",
       "      <th>159321</th>\n",
       "      <td>159320</td>\n",
       "      <td>KONDO</td>\n",
       "      <td>CHALTON</td>\n",
       "      <td>38-123629 -B38</td>\n",
       "      <td>Male</td>\n",
       "      <td>1974-06-28 00:00:00</td>\n",
       "      <td>VILLAGE SUNGWI 1B, HEADMAN MAZAULA, CHIEF MUJINGA</td>\n",
       "      <td>3800HUR0201</td>\n",
       "      <td>Chehamba Primary School</td>\n",
       "      <td>2</td>\n",
       "      <td>Hurungwe RDC</td>\n",
       "      <td>Hurungwe East</td>\n",
       "      <td>Hurungwe</td>\n",
       "      <td>Mashonaland West</td>\n",
       "    </tr>\n",
       "    <tr>\n",
       "      <th>59230</th>\n",
       "      <td>59229</td>\n",
       "      <td>CHIKWAVA</td>\n",
       "      <td>TALENT</td>\n",
       "      <td>26-186952 -C26</td>\n",
       "      <td>Male</td>\n",
       "      <td>1990-11-24 00:00:00</td>\n",
       "      <td>CHINYANGA VILLAGE, HEADMAN CHIREYA, CHIEF CHIREYA</td>\n",
       "      <td>2600GON0406</td>\n",
       "      <td>Mavimbi Primary School</td>\n",
       "      <td>4</td>\n",
       "      <td>Gokwe North RDC</td>\n",
       "      <td>Gokwe-Chireya</td>\n",
       "      <td>Gokwe North</td>\n",
       "      <td>Midlands</td>\n",
       "    </tr>\n",
       "    <tr>\n",
       "      <th>85117</th>\n",
       "      <td>85116</td>\n",
       "      <td>SHOKO</td>\n",
       "      <td>MIRRIAM</td>\n",
       "      <td>26-209414 -S26</td>\n",
       "      <td>Female</td>\n",
       "      <td>1997-08-14 00:00:00</td>\n",
       "      <td>VILLAGE CHIPARANGANDA, HEADMAN GUMUNYU, CHIEF ...</td>\n",
       "      <td>2600GON2201</td>\n",
       "      <td>Copper Queen Mine Tent</td>\n",
       "      <td>22</td>\n",
       "      <td>Gokwe North RDC</td>\n",
       "      <td>Gokwe-Gumunyu</td>\n",
       "      <td>Gokwe North</td>\n",
       "      <td>Midlands</td>\n",
       "    </tr>\n",
       "    <tr>\n",
       "      <th>109818</th>\n",
       "      <td>109817</td>\n",
       "      <td>SHOKO</td>\n",
       "      <td>MIRIAM</td>\n",
       "      <td>26-209414 -S26</td>\n",
       "      <td>Female</td>\n",
       "      <td>1997-08-14 00:00:00</td>\n",
       "      <td>VILLAGE MUTIURA, HEADMAN MAKORE, CHIEF CHIREYA</td>\n",
       "      <td>2600GON0306</td>\n",
       "      <td>Mutiura Dip Tank Tent</td>\n",
       "      <td>3</td>\n",
       "      <td>Gokwe North RDC</td>\n",
       "      <td>Gokwe-Kabuyuni</td>\n",
       "      <td>Gokwe North</td>\n",
       "      <td>Midlands</td>\n",
       "    </tr>\n",
       "    <tr>\n",
       "      <th>670643</th>\n",
       "      <td>670642</td>\n",
       "      <td>CHIKWAVA</td>\n",
       "      <td>TALENT</td>\n",
       "      <td>26-186952 -C26</td>\n",
       "      <td>Male</td>\n",
       "      <td>1990-11-24 00:00:00</td>\n",
       "      <td>VILLAGE 9, TOKWE 3 FARMING AREA, SHURUGWI</td>\n",
       "      <td>6600TON1607</td>\n",
       "      <td>Zviumwa Secondary School</td>\n",
       "      <td>16</td>\n",
       "      <td>Tongogara RDC</td>\n",
       "      <td>Shurugwi North</td>\n",
       "      <td>Shurugwi</td>\n",
       "      <td>Midlands</td>\n",
       "    </tr>\n",
       "    <tr>\n",
       "      <th>715256</th>\n",
       "      <td>715255</td>\n",
       "      <td>NDLOVU</td>\n",
       "      <td>TENDAI</td>\n",
       "      <td>67-076653 -E67</td>\n",
       "      <td>Female</td>\n",
       "      <td>1971-08-30 00:00:00</td>\n",
       "      <td>HOUSE NUMBER 579, MANDAVA</td>\n",
       "      <td>6701ZTC0102</td>\n",
       "      <td>Zvizvobgo Tower Light Tent</td>\n",
       "      <td>1</td>\n",
       "      <td>Zvishavane Town Council</td>\n",
       "      <td>Zvishavane Ngezi</td>\n",
       "      <td>Zvishavane</td>\n",
       "      <td>Midlands</td>\n",
       "    </tr>\n",
       "    <tr>\n",
       "      <th>743380</th>\n",
       "      <td>743379</td>\n",
       "      <td>NDLOVU</td>\n",
       "      <td>TENDAI</td>\n",
       "      <td>67-076653 -E67</td>\n",
       "      <td>Female</td>\n",
       "      <td>1971-08-30 00:00:00</td>\n",
       "      <td>MUDERERI VILLAGE, HEADMAN MUDERERI, CHIEF MASU...</td>\n",
       "      <td>6700RDC1304</td>\n",
       "      <td>Musuki Business Centre Tent</td>\n",
       "      <td>13</td>\n",
       "      <td>Runde RDC</td>\n",
       "      <td>Zvishavane Runde</td>\n",
       "      <td>Zvishavane</td>\n",
       "      <td>Midlands</td>\n",
       "    </tr>\n",
       "  </tbody>\n",
       "</table>\n",
       "</div>"
      ],
      "text/plain": [
       "           ser    surname         forenames       id_number  gender  \\\n",
       "117621  117620  CHINGANDU  TANYANYIWA MOSES  63-493581 -L25    Male   \n",
       "118634  118633  CHINGANDU  TANYANYIWA MOSES  63-493581 -L25    Male   \n",
       "262096  262095   MAKAMURE           ROSARIO  38-123629 -B38  Female   \n",
       "159321  159320      KONDO           CHALTON  38-123629 -B38    Male   \n",
       "59230    59229   CHIKWAVA            TALENT  26-186952 -C26    Male   \n",
       "85117    85116      SHOKO           MIRRIAM  26-209414 -S26  Female   \n",
       "109818  109817      SHOKO            MIRIAM  26-209414 -S26  Female   \n",
       "670643  670642   CHIKWAVA            TALENT  26-186952 -C26    Male   \n",
       "715256  715255     NDLOVU            TENDAI  67-076653 -E67  Female   \n",
       "743380  743379     NDLOVU            TENDAI  67-076653 -E67  Female   \n",
       "\n",
       "              date_of_birth  \\\n",
       "117621  1940-01-12 00:00:00   \n",
       "118634  1940-01-12 00:00:00   \n",
       "262096  1978-10-24 00:00:00   \n",
       "159321  1974-06-28 00:00:00   \n",
       "59230   1990-11-24 00:00:00   \n",
       "85117   1997-08-14 00:00:00   \n",
       "109818  1997-08-14 00:00:00   \n",
       "670643  1990-11-24 00:00:00   \n",
       "715256  1971-08-30 00:00:00   \n",
       "743380  1971-08-30 00:00:00   \n",
       "\n",
       "                                            voter_address  \\\n",
       "117621  HOUSE NUMBER 3271, NHUNGURU STREET, ZENGEZA, C...   \n",
       "118634  HOUSE NUMBER 21, NHUNGURU STREET, ZENGEZA 2, C...   \n",
       "262096  HOUSE NUMBER C022, UNNAMED STREET, EPWORTH, HA...   \n",
       "159321  VILLAGE SUNGWI 1B, HEADMAN MAZAULA, CHIEF MUJINGA   \n",
       "59230   CHINYANGA VILLAGE, HEADMAN CHIREYA, CHIEF CHIREYA   \n",
       "85117   VILLAGE CHIPARANGANDA, HEADMAN GUMUNYU, CHIEF ...   \n",
       "109818     VILLAGE MUTIURA, HEADMAN MAKORE, CHIEF CHIREYA   \n",
       "670643          VILLAGE 9, TOKWE 3 FARMING AREA, SHURUGWI   \n",
       "715256                          HOUSE NUMBER 579, MANDAVA   \n",
       "743380  MUDERERI VILLAGE, HEADMAN MUDERERI, CHIEF MASU...   \n",
       "\n",
       "       polling_station_code         polling_station_name ward  \\\n",
       "117621       6301CHIT1001 A        Early Learning Centre   10   \n",
       "118634         6301CHIT1002      Mhuriimwe A High School   10   \n",
       "262096        6301EPW0401 C      Chizungu Primary School    4   \n",
       "159321          3800HUR0201      Chehamba Primary School    2   \n",
       "59230           2600GON0406       Mavimbi Primary School    4   \n",
       "85117           2600GON2201       Copper Queen Mine Tent   22   \n",
       "109818          2600GON0306        Mutiura Dip Tank Tent    3   \n",
       "670643          6600TON1607     Zviumwa Secondary School   16   \n",
       "715256          6701ZTC0102   Zvizvobgo Tower Light Tent    1   \n",
       "743380          6700RDC1304  Musuki Business Centre Tent   13   \n",
       "\n",
       "                 local_authority      constituency     district  \\\n",
       "117621  Chitungwiza Municipality      Zengeza West  Chitungwiza   \n",
       "118634  Chitungwiza Municipality      Zengeza West  Chitungwiza   \n",
       "262096       Epworth Local Board           Epworth       Harare   \n",
       "159321              Hurungwe RDC     Hurungwe East     Hurungwe   \n",
       "59230            Gokwe North RDC     Gokwe-Chireya  Gokwe North   \n",
       "85117            Gokwe North RDC     Gokwe-Gumunyu  Gokwe North   \n",
       "109818           Gokwe North RDC    Gokwe-Kabuyuni  Gokwe North   \n",
       "670643             Tongogara RDC    Shurugwi North     Shurugwi   \n",
       "715256   Zvishavane Town Council  Zvishavane Ngezi   Zvishavane   \n",
       "743380                 Runde RDC  Zvishavane Runde   Zvishavane   \n",
       "\n",
       "                    province  \n",
       "117621  Harare Metropolitan   \n",
       "118634  Harare Metropolitan   \n",
       "262096  Harare Metropolitan   \n",
       "159321     Mashonaland West   \n",
       "59230              Midlands   \n",
       "85117              Midlands   \n",
       "109818             Midlands   \n",
       "670643             Midlands   \n",
       "715256             Midlands   \n",
       "743380             Midlands   "
      ]
     },
     "execution_count": 258,
     "metadata": {},
     "output_type": "execute_result"
    }
   ],
   "source": [
    "# Discover posible duplication, clean up dirty columns\n",
    "df_dup =df_vroll[df_vroll[\"id_number\"].duplicated(keep=False)]; df_dup"
   ]
  },
  {
   "cell_type": "code",
   "execution_count": 259,
   "metadata": {},
   "outputs": [],
   "source": [
    "# Lsts remove the following\n",
    "id_dups = [118634,159321, 109818, 670643, 743380]"
   ]
  },
  {
   "cell_type": "code",
   "execution_count": 262,
   "metadata": {},
   "outputs": [
    {
     "data": {
      "text/plain": [
       "(5695671, 14)"
      ]
     },
     "execution_count": 262,
     "metadata": {},
     "output_type": "execute_result"
    }
   ],
   "source": [
    "# Drop the duplicates\n",
    "df_vroll = df_vroll.drop(id_dups, axis=0); df_vroll.shape"
   ]
  },
  {
   "cell_type": "code",
   "execution_count": 264,
   "metadata": {},
   "outputs": [
    {
     "data": {
      "text/plain": [
       "array(['Bulawayo Metropolitan ', 'Harare Metropolitan ', 'Manicaland ',\n",
       "       'Mashonaland Central ', 'Mashonaland East ', 'Mashonaland West ',\n",
       "       'Masvingo ', 'Matabeleland North ', 'Matabeleland South ',\n",
       "       'Midlands '], dtype=object)"
      ]
     },
     "execution_count": 264,
     "metadata": {},
     "output_type": "execute_result"
    }
   ],
   "source": [
    "# Check provinces\n",
    "df_vroll.province.unique()"
   ]
  },
  {
   "cell_type": "markdown",
   "metadata": {},
   "source": [
    "### d) De-identify the data, save and aggreagate at polling station level"
   ]
  },
  {
   "cell_type": "code",
   "execution_count": 266,
   "metadata": {},
   "outputs": [
    {
     "data": {
      "text/plain": [
       "(5695671, 10)"
      ]
     },
     "execution_count": 266,
     "metadata": {},
     "output_type": "execute_result"
    }
   ],
   "source": [
    "# Remove names, and address\n",
    "df_vroll = df_vroll.drop([\"surname\", \"forenames\", \"voter_address\", \"ser\"], axis=1)\n",
    "df_vroll.shape"
   ]
  },
  {
   "cell_type": "code",
   "execution_count": 268,
   "metadata": {},
   "outputs": [
    {
     "data": {
      "text/html": [
       "<div>\n",
       "<table border=\"1\" class=\"dataframe\">\n",
       "  <thead>\n",
       "    <tr style=\"text-align: right;\">\n",
       "      <th></th>\n",
       "      <th>id_number</th>\n",
       "      <th>gender</th>\n",
       "      <th>date_of_birth</th>\n",
       "      <th>polling_station_code</th>\n",
       "      <th>polling_station_name</th>\n",
       "      <th>ward</th>\n",
       "      <th>local_authority</th>\n",
       "      <th>constituency</th>\n",
       "      <th>district</th>\n",
       "      <th>province</th>\n",
       "    </tr>\n",
       "  </thead>\n",
       "  <tbody>\n",
       "    <tr>\n",
       "      <th>2</th>\n",
       "      <td>08-012142 -Z00</td>\n",
       "      <td>Female</td>\n",
       "      <td>1957-10-06 00:00:00</td>\n",
       "      <td>0801BYO0101 A</td>\n",
       "      <td>City Hall</td>\n",
       "      <td>1</td>\n",
       "      <td>Bulawayo Municipality</td>\n",
       "      <td>Bulawayo Central</td>\n",
       "      <td>Bulawayo</td>\n",
       "      <td>Bulawayo Metropolitan</td>\n",
       "    </tr>\n",
       "    <tr>\n",
       "      <th>3</th>\n",
       "      <td>29-2039989-V29</td>\n",
       "      <td>Male</td>\n",
       "      <td>1998-09-12 00:00:00</td>\n",
       "      <td>0801BYO0101 A</td>\n",
       "      <td>City Hall</td>\n",
       "      <td>1</td>\n",
       "      <td>Bulawayo Municipality</td>\n",
       "      <td>Bulawayo Central</td>\n",
       "      <td>Bulawayo</td>\n",
       "      <td>Bulawayo Metropolitan</td>\n",
       "    </tr>\n",
       "    <tr>\n",
       "      <th>4</th>\n",
       "      <td>75-068008 -K00</td>\n",
       "      <td>Male</td>\n",
       "      <td>1954-10-15 00:00:00</td>\n",
       "      <td>0801BYO0101 A</td>\n",
       "      <td>City Hall</td>\n",
       "      <td>1</td>\n",
       "      <td>Bulawayo Municipality</td>\n",
       "      <td>Bulawayo Central</td>\n",
       "      <td>Bulawayo</td>\n",
       "      <td>Bulawayo Metropolitan</td>\n",
       "    </tr>\n",
       "  </tbody>\n",
       "</table>\n",
       "</div>"
      ],
      "text/plain": [
       "        id_number  gender        date_of_birth polling_station_code  \\\n",
       "2  08-012142 -Z00  Female  1957-10-06 00:00:00        0801BYO0101 A   \n",
       "3  29-2039989-V29    Male  1998-09-12 00:00:00        0801BYO0101 A   \n",
       "4  75-068008 -K00    Male  1954-10-15 00:00:00        0801BYO0101 A   \n",
       "\n",
       "  polling_station_name ward        local_authority      constituency  \\\n",
       "2            City Hall    1  Bulawayo Municipality  Bulawayo Central   \n",
       "3            City Hall    1  Bulawayo Municipality  Bulawayo Central   \n",
       "4            City Hall    1  Bulawayo Municipality  Bulawayo Central   \n",
       "\n",
       "   district                province  \n",
       "2  Bulawayo  Bulawayo Metropolitan   \n",
       "3  Bulawayo  Bulawayo Metropolitan   \n",
       "4  Bulawayo  Bulawayo Metropolitan   "
      ]
     },
     "execution_count": 268,
     "metadata": {},
     "output_type": "execute_result"
    }
   ],
   "source": [
    "df_vroll.head(3)"
   ]
  },
  {
   "cell_type": "markdown",
   "metadata": {},
   "source": [
    "### e) Save deidentified data per province"
   ]
  },
  {
   "cell_type": "code",
   "execution_count": 271,
   "metadata": {},
   "outputs": [
    {
     "data": {
      "text/plain": [
       "['Bulawayo Metropolitan ',\n",
       " 'Harare Metropolitan ',\n",
       " 'Manicaland ',\n",
       " 'Mashonaland Central ',\n",
       " 'Mashonaland East ',\n",
       " 'Mashonaland West ',\n",
       " 'Masvingo ',\n",
       " 'Matabeleland North ',\n",
       " 'Matabeleland South ',\n",
       " 'Midlands ']"
      ]
     },
     "execution_count": 271,
     "metadata": {},
     "output_type": "execute_result"
    }
   ],
   "source": [
    "# Get province list\n",
    "provinces =list(df_vroll.province.unique()); provinces"
   ]
  },
  {
   "cell_type": "code",
   "execution_count": 275,
   "metadata": {},
   "outputs": [],
   "source": [
    "#Uncommenting this since it takes a lot of time to run\n",
    "# Make sure you don't run by mistake\n",
    "# Save Excel file for each province\n",
    "'''\n",
    "for prov in provinces:\n",
    "    df = df_vroll[df_vroll['province']==prov]\n",
    "    df.to_excel(VOTERSDATA+prov+\" 2018 Voters' Roll_deidentified.xlsx\")\n",
    "    '''"
   ]
  },
  {
   "cell_type": "code",
   "execution_count": 279,
   "metadata": {},
   "outputs": [
    {
     "data": {
      "text/html": [
       "<div>\n",
       "<table border=\"1\" class=\"dataframe\">\n",
       "  <thead>\n",
       "    <tr style=\"text-align: right;\">\n",
       "      <th></th>\n",
       "      <th>id_number</th>\n",
       "      <th>gender</th>\n",
       "      <th>date_of_birth</th>\n",
       "      <th>polling_station_code</th>\n",
       "      <th>polling_station_name</th>\n",
       "      <th>ward</th>\n",
       "      <th>local_authority</th>\n",
       "      <th>constituency</th>\n",
       "      <th>district</th>\n",
       "      <th>province</th>\n",
       "    </tr>\n",
       "  </thead>\n",
       "  <tbody>\n",
       "    <tr>\n",
       "      <th>2</th>\n",
       "      <td>08-012142 -Z00</td>\n",
       "      <td>Female</td>\n",
       "      <td>1957-10-06 00:00:00</td>\n",
       "      <td>0801BYO0101 A</td>\n",
       "      <td>City Hall</td>\n",
       "      <td>1</td>\n",
       "      <td>Bulawayo Municipality</td>\n",
       "      <td>Bulawayo Central</td>\n",
       "      <td>Bulawayo</td>\n",
       "      <td>Bulawayo Metropolitan</td>\n",
       "    </tr>\n",
       "    <tr>\n",
       "      <th>3</th>\n",
       "      <td>29-2039989-V29</td>\n",
       "      <td>Male</td>\n",
       "      <td>1998-09-12 00:00:00</td>\n",
       "      <td>0801BYO0101 A</td>\n",
       "      <td>City Hall</td>\n",
       "      <td>1</td>\n",
       "      <td>Bulawayo Municipality</td>\n",
       "      <td>Bulawayo Central</td>\n",
       "      <td>Bulawayo</td>\n",
       "      <td>Bulawayo Metropolitan</td>\n",
       "    </tr>\n",
       "    <tr>\n",
       "      <th>4</th>\n",
       "      <td>75-068008 -K00</td>\n",
       "      <td>Male</td>\n",
       "      <td>1954-10-15 00:00:00</td>\n",
       "      <td>0801BYO0101 A</td>\n",
       "      <td>City Hall</td>\n",
       "      <td>1</td>\n",
       "      <td>Bulawayo Municipality</td>\n",
       "      <td>Bulawayo Central</td>\n",
       "      <td>Bulawayo</td>\n",
       "      <td>Bulawayo Metropolitan</td>\n",
       "    </tr>\n",
       "    <tr>\n",
       "      <th>5</th>\n",
       "      <td>08-2031613-W00</td>\n",
       "      <td>Female</td>\n",
       "      <td>1985-11-27 00:00:00</td>\n",
       "      <td>0801BYO0101 A</td>\n",
       "      <td>City Hall</td>\n",
       "      <td>1</td>\n",
       "      <td>Bulawayo Municipality</td>\n",
       "      <td>Bulawayo Central</td>\n",
       "      <td>Bulawayo</td>\n",
       "      <td>Bulawayo Metropolitan</td>\n",
       "    </tr>\n",
       "    <tr>\n",
       "      <th>6</th>\n",
       "      <td>63-341878 -R63</td>\n",
       "      <td>Female</td>\n",
       "      <td>1965-03-12 00:00:00</td>\n",
       "      <td>0801BYO0101 A</td>\n",
       "      <td>City Hall</td>\n",
       "      <td>1</td>\n",
       "      <td>Bulawayo Municipality</td>\n",
       "      <td>Bulawayo Central</td>\n",
       "      <td>Bulawayo</td>\n",
       "      <td>Bulawayo Metropolitan</td>\n",
       "    </tr>\n",
       "  </tbody>\n",
       "</table>\n",
       "</div>"
      ],
      "text/plain": [
       "        id_number  gender        date_of_birth polling_station_code  \\\n",
       "2  08-012142 -Z00  Female  1957-10-06 00:00:00        0801BYO0101 A   \n",
       "3  29-2039989-V29    Male  1998-09-12 00:00:00        0801BYO0101 A   \n",
       "4  75-068008 -K00    Male  1954-10-15 00:00:00        0801BYO0101 A   \n",
       "5  08-2031613-W00  Female  1985-11-27 00:00:00        0801BYO0101 A   \n",
       "6  63-341878 -R63  Female  1965-03-12 00:00:00        0801BYO0101 A   \n",
       "\n",
       "  polling_station_name ward        local_authority      constituency  \\\n",
       "2            City Hall    1  Bulawayo Municipality  Bulawayo Central   \n",
       "3            City Hall    1  Bulawayo Municipality  Bulawayo Central   \n",
       "4            City Hall    1  Bulawayo Municipality  Bulawayo Central   \n",
       "5            City Hall    1  Bulawayo Municipality  Bulawayo Central   \n",
       "6            City Hall    1  Bulawayo Municipality  Bulawayo Central   \n",
       "\n",
       "   district                province  \n",
       "2  Bulawayo  Bulawayo Metropolitan   \n",
       "3  Bulawayo  Bulawayo Metropolitan   \n",
       "4  Bulawayo  Bulawayo Metropolitan   \n",
       "5  Bulawayo  Bulawayo Metropolitan   \n",
       "6  Bulawayo  Bulawayo Metropolitan   "
      ]
     },
     "execution_count": 279,
     "metadata": {},
     "output_type": "execute_result"
    }
   ],
   "source": [
    "df_vroll.head()"
   ]
  },
  {
   "cell_type": "markdown",
   "metadata": {},
   "source": [
    "### f) Engineer features like Age and Gender"
   ]
  },
  {
   "cell_type": "code",
   "execution_count": 284,
   "metadata": {},
   "outputs": [],
   "source": [
    "df_vroll['male'], df_vroll['female'] = df_vroll['gender'] =='Male' , df_vroll['gender'] =='Female' "
   ]
  },
  {
   "cell_type": "code",
   "execution_count": 318,
   "metadata": {},
   "outputs": [],
   "source": [
    "# Uncomment below, the code takes a while as it loops throough\n",
    "'''\n",
    "age = df_vroll['date_of_birth'].apply(lambda x: (pd.to_datetime('2018-07-31 00:00:00')-x).days/365.25)\n",
    "df_vroll.loc[:,'age'] = age\n",
    "'''"
   ]
  },
  {
   "cell_type": "code",
   "execution_count": 324,
   "metadata": {},
   "outputs": [],
   "source": [
    "# Voters by Poliing station\n",
    "df_vroll_by_ps = df_vroll.groupby(['polling_station_code','polling_station_name',\n",
    "                  'ward','local_authority','constituency','province']).agg(['count', 'sum', 'mean']).reindex()"
   ]
  },
  {
   "cell_type": "code",
   "execution_count": 328,
   "metadata": {},
   "outputs": [],
   "source": [
    "df_vroll_by_ps = df_vroll_by_ps.reset_index()"
   ]
  },
  {
   "cell_type": "code",
   "execution_count": 330,
   "metadata": {},
   "outputs": [
    {
     "data": {
      "text/html": [
       "<div>\n",
       "<table border=\"1\" class=\"dataframe\">\n",
       "  <thead>\n",
       "    <tr>\n",
       "      <th></th>\n",
       "      <th>polling_station_code</th>\n",
       "      <th>polling_station_name</th>\n",
       "      <th>ward</th>\n",
       "      <th>local_authority</th>\n",
       "      <th>constituency</th>\n",
       "      <th>province</th>\n",
       "      <th colspan=\"3\" halign=\"left\">male</th>\n",
       "      <th colspan=\"3\" halign=\"left\">female</th>\n",
       "      <th colspan=\"3\" halign=\"left\">age</th>\n",
       "    </tr>\n",
       "    <tr>\n",
       "      <th></th>\n",
       "      <th></th>\n",
       "      <th></th>\n",
       "      <th></th>\n",
       "      <th></th>\n",
       "      <th></th>\n",
       "      <th></th>\n",
       "      <th>count</th>\n",
       "      <th>sum</th>\n",
       "      <th>mean</th>\n",
       "      <th>count</th>\n",
       "      <th>sum</th>\n",
       "      <th>mean</th>\n",
       "      <th>count</th>\n",
       "      <th>sum</th>\n",
       "      <th>mean</th>\n",
       "    </tr>\n",
       "  </thead>\n",
       "  <tbody>\n",
       "    <tr>\n",
       "      <th>0</th>\n",
       "      <td>0200BBE0101</td>\n",
       "      <td>Chikwalakwala Primary School</td>\n",
       "      <td>1</td>\n",
       "      <td>Beitbridge RDC</td>\n",
       "      <td>Beitbridge East</td>\n",
       "      <td>Matabeleland South</td>\n",
       "      <td>206</td>\n",
       "      <td>68.0</td>\n",
       "      <td>0.330097</td>\n",
       "      <td>206</td>\n",
       "      <td>138.0</td>\n",
       "      <td>0.669903</td>\n",
       "      <td>206</td>\n",
       "      <td>9226.579055</td>\n",
       "      <td>44.789219</td>\n",
       "    </tr>\n",
       "    <tr>\n",
       "      <th>1</th>\n",
       "      <td>0200BBE0102</td>\n",
       "      <td>Chipise Primary School</td>\n",
       "      <td>1</td>\n",
       "      <td>Beitbridge RDC</td>\n",
       "      <td>Beitbridge East</td>\n",
       "      <td>Matabeleland South</td>\n",
       "      <td>276</td>\n",
       "      <td>123.0</td>\n",
       "      <td>0.445652</td>\n",
       "      <td>276</td>\n",
       "      <td>153.0</td>\n",
       "      <td>0.554348</td>\n",
       "      <td>276</td>\n",
       "      <td>12003.069131</td>\n",
       "      <td>43.489381</td>\n",
       "    </tr>\n",
       "    <tr>\n",
       "      <th>2</th>\n",
       "      <td>0200BBE0103</td>\n",
       "      <td>Chituripasi Primary School</td>\n",
       "      <td>1</td>\n",
       "      <td>Beitbridge RDC</td>\n",
       "      <td>Beitbridge East</td>\n",
       "      <td>Matabeleland South</td>\n",
       "      <td>474</td>\n",
       "      <td>185.0</td>\n",
       "      <td>0.390295</td>\n",
       "      <td>474</td>\n",
       "      <td>289.0</td>\n",
       "      <td>0.609705</td>\n",
       "      <td>474</td>\n",
       "      <td>21651.394935</td>\n",
       "      <td>45.678048</td>\n",
       "    </tr>\n",
       "    <tr>\n",
       "      <th>3</th>\n",
       "      <td>0200BBE0104</td>\n",
       "      <td>Lungowe Primary School</td>\n",
       "      <td>1</td>\n",
       "      <td>Beitbridge RDC</td>\n",
       "      <td>Beitbridge East</td>\n",
       "      <td>Matabeleland South</td>\n",
       "      <td>348</td>\n",
       "      <td>112.0</td>\n",
       "      <td>0.321839</td>\n",
       "      <td>348</td>\n",
       "      <td>236.0</td>\n",
       "      <td>0.678161</td>\n",
       "      <td>348</td>\n",
       "      <td>15123.638604</td>\n",
       "      <td>43.458732</td>\n",
       "    </tr>\n",
       "    <tr>\n",
       "      <th>4</th>\n",
       "      <td>0200BBE0105</td>\n",
       "      <td>Malabe Primary School</td>\n",
       "      <td>1</td>\n",
       "      <td>Beitbridge RDC</td>\n",
       "      <td>Beitbridge East</td>\n",
       "      <td>Matabeleland South</td>\n",
       "      <td>285</td>\n",
       "      <td>107.0</td>\n",
       "      <td>0.375439</td>\n",
       "      <td>285</td>\n",
       "      <td>178.0</td>\n",
       "      <td>0.624561</td>\n",
       "      <td>285</td>\n",
       "      <td>12478.012320</td>\n",
       "      <td>43.782499</td>\n",
       "    </tr>\n",
       "  </tbody>\n",
       "</table>\n",
       "</div>"
      ],
      "text/plain": [
       "  polling_station_code          polling_station_name ward local_authority  \\\n",
       "                                                                            \n",
       "0          0200BBE0101  Chikwalakwala Primary School    1  Beitbridge RDC   \n",
       "1          0200BBE0102        Chipise Primary School    1  Beitbridge RDC   \n",
       "2          0200BBE0103    Chituripasi Primary School    1  Beitbridge RDC   \n",
       "3          0200BBE0104        Lungowe Primary School    1  Beitbridge RDC   \n",
       "4          0200BBE0105         Malabe Primary School    1  Beitbridge RDC   \n",
       "\n",
       "      constituency             province  male                  female         \\\n",
       "                                        count    sum      mean  count    sum   \n",
       "0  Beitbridge East  Matabeleland South    206   68.0  0.330097    206  138.0   \n",
       "1  Beitbridge East  Matabeleland South    276  123.0  0.445652    276  153.0   \n",
       "2  Beitbridge East  Matabeleland South    474  185.0  0.390295    474  289.0   \n",
       "3  Beitbridge East  Matabeleland South    348  112.0  0.321839    348  236.0   \n",
       "4  Beitbridge East  Matabeleland South    285  107.0  0.375439    285  178.0   \n",
       "\n",
       "              age                           \n",
       "       mean count           sum       mean  \n",
       "0  0.669903   206   9226.579055  44.789219  \n",
       "1  0.554348   276  12003.069131  43.489381  \n",
       "2  0.609705   474  21651.394935  45.678048  \n",
       "3  0.678161   348  15123.638604  43.458732  \n",
       "4  0.624561   285  12478.012320  43.782499  "
      ]
     },
     "execution_count": 330,
     "metadata": {},
     "output_type": "execute_result"
    }
   ],
   "source": [
    "df_vroll_by_ps.head()"
   ]
  },
  {
   "cell_type": "code",
   "execution_count": 357,
   "metadata": {},
   "outputs": [
    {
     "data": {
      "text/html": [
       "<div>\n",
       "<table border=\"1\" class=\"dataframe\">\n",
       "  <thead>\n",
       "    <tr style=\"text-align: right;\">\n",
       "      <th></th>\n",
       "      <th>polling_station_code</th>\n",
       "      <th>polling_station_name</th>\n",
       "      <th>ward</th>\n",
       "      <th>local_authority</th>\n",
       "      <th>constituency</th>\n",
       "      <th>province</th>\n",
       "      <th>tot_count</th>\n",
       "      <th>male_count</th>\n",
       "      <th>male_pct</th>\n",
       "      <th>female_count</th>\n",
       "      <th>female_pct</th>\n",
       "      <th>total_age</th>\n",
       "      <th>mean_age</th>\n",
       "    </tr>\n",
       "  </thead>\n",
       "  <tbody>\n",
       "    <tr>\n",
       "      <th>0</th>\n",
       "      <td>0200BBE0101</td>\n",
       "      <td>Chikwalakwala Primary School</td>\n",
       "      <td>1</td>\n",
       "      <td>Beitbridge RDC</td>\n",
       "      <td>Beitbridge East</td>\n",
       "      <td>Matabeleland South</td>\n",
       "      <td>206</td>\n",
       "      <td>68.0</td>\n",
       "      <td>0.330097</td>\n",
       "      <td>138.0</td>\n",
       "      <td>0.669903</td>\n",
       "      <td>9226.579055</td>\n",
       "      <td>44.789219</td>\n",
       "    </tr>\n",
       "    <tr>\n",
       "      <th>1</th>\n",
       "      <td>0200BBE0102</td>\n",
       "      <td>Chipise Primary School</td>\n",
       "      <td>1</td>\n",
       "      <td>Beitbridge RDC</td>\n",
       "      <td>Beitbridge East</td>\n",
       "      <td>Matabeleland South</td>\n",
       "      <td>276</td>\n",
       "      <td>123.0</td>\n",
       "      <td>0.445652</td>\n",
       "      <td>153.0</td>\n",
       "      <td>0.554348</td>\n",
       "      <td>12003.069131</td>\n",
       "      <td>43.489381</td>\n",
       "    </tr>\n",
       "    <tr>\n",
       "      <th>2</th>\n",
       "      <td>0200BBE0103</td>\n",
       "      <td>Chituripasi Primary School</td>\n",
       "      <td>1</td>\n",
       "      <td>Beitbridge RDC</td>\n",
       "      <td>Beitbridge East</td>\n",
       "      <td>Matabeleland South</td>\n",
       "      <td>474</td>\n",
       "      <td>185.0</td>\n",
       "      <td>0.390295</td>\n",
       "      <td>289.0</td>\n",
       "      <td>0.609705</td>\n",
       "      <td>21651.394935</td>\n",
       "      <td>45.678048</td>\n",
       "    </tr>\n",
       "    <tr>\n",
       "      <th>3</th>\n",
       "      <td>0200BBE0104</td>\n",
       "      <td>Lungowe Primary School</td>\n",
       "      <td>1</td>\n",
       "      <td>Beitbridge RDC</td>\n",
       "      <td>Beitbridge East</td>\n",
       "      <td>Matabeleland South</td>\n",
       "      <td>348</td>\n",
       "      <td>112.0</td>\n",
       "      <td>0.321839</td>\n",
       "      <td>236.0</td>\n",
       "      <td>0.678161</td>\n",
       "      <td>15123.638604</td>\n",
       "      <td>43.458732</td>\n",
       "    </tr>\n",
       "    <tr>\n",
       "      <th>4</th>\n",
       "      <td>0200BBE0105</td>\n",
       "      <td>Malabe Primary School</td>\n",
       "      <td>1</td>\n",
       "      <td>Beitbridge RDC</td>\n",
       "      <td>Beitbridge East</td>\n",
       "      <td>Matabeleland South</td>\n",
       "      <td>285</td>\n",
       "      <td>107.0</td>\n",
       "      <td>0.375439</td>\n",
       "      <td>178.0</td>\n",
       "      <td>0.624561</td>\n",
       "      <td>12478.012320</td>\n",
       "      <td>43.782499</td>\n",
       "    </tr>\n",
       "  </tbody>\n",
       "</table>\n",
       "</div>"
      ],
      "text/plain": [
       "  polling_station_code          polling_station_name  ward local_authority  \\\n",
       "0          0200BBE0101  Chikwalakwala Primary School     1  Beitbridge RDC   \n",
       "1          0200BBE0102        Chipise Primary School     1  Beitbridge RDC   \n",
       "2          0200BBE0103    Chituripasi Primary School     1  Beitbridge RDC   \n",
       "3          0200BBE0104        Lungowe Primary School     1  Beitbridge RDC   \n",
       "4          0200BBE0105         Malabe Primary School     1  Beitbridge RDC   \n",
       "\n",
       "      constituency             province  tot_count  male_count  male_pct  \\\n",
       "0  Beitbridge East  Matabeleland South         206        68.0  0.330097   \n",
       "1  Beitbridge East  Matabeleland South         276       123.0  0.445652   \n",
       "2  Beitbridge East  Matabeleland South         474       185.0  0.390295   \n",
       "3  Beitbridge East  Matabeleland South         348       112.0  0.321839   \n",
       "4  Beitbridge East  Matabeleland South         285       107.0  0.375439   \n",
       "\n",
       "   female_count  female_pct     total_age   mean_age  \n",
       "0         138.0    0.669903   9226.579055  44.789219  \n",
       "1         153.0    0.554348  12003.069131  43.489381  \n",
       "2         289.0    0.609705  21651.394935  45.678048  \n",
       "3         236.0    0.678161  15123.638604  43.458732  \n",
       "4         178.0    0.624561  12478.012320  43.782499  "
      ]
     },
     "execution_count": 357,
     "metadata": {},
     "output_type": "execute_result"
    }
   ],
   "source": [
    "# Rename the columns\n",
    "final_cols = ['polling_station_code',  'polling_station_name',  'ward', 'local_authority', 'constituency', ,'province', 'tot_count', 'male_count',\n",
    "'male_pct','tot_count2', 'female_count', 'female_pct','tot_count3', 'total_age', 'mean_age']\n",
    "df_vroll_by_ps.columns = final_cols\n",
    "df_vroll_by_ps.head()"
   ]
  },
  {
   "cell_type": "code",
   "execution_count": 335,
   "metadata": {},
   "outputs": [
    {
     "data": {
      "text/html": [
       "<div>\n",
       "<table border=\"1\" class=\"dataframe\">\n",
       "  <thead>\n",
       "    <tr style=\"text-align: right;\">\n",
       "      <th></th>\n",
       "      <th>province</th>\n",
       "      <th>constituency</th>\n",
       "      <th>local_authority</th>\n",
       "      <th>ward</th>\n",
       "      <th>polling_station_name</th>\n",
       "      <th>polling_station_code</th>\n",
       "      <th>tot_count</th>\n",
       "      <th>male_count</th>\n",
       "      <th>male_pct</th>\n",
       "      <th>female_count</th>\n",
       "      <th>female_pct</th>\n",
       "      <th>total_age</th>\n",
       "      <th>mean_age</th>\n",
       "    </tr>\n",
       "  </thead>\n",
       "  <tbody>\n",
       "    <tr>\n",
       "      <th>0</th>\n",
       "      <td>0200BBE0101</td>\n",
       "      <td>Chikwalakwala Primary School</td>\n",
       "      <td>1</td>\n",
       "      <td>Beitbridge RDC</td>\n",
       "      <td>Beitbridge East</td>\n",
       "      <td>Matabeleland South</td>\n",
       "      <td>206</td>\n",
       "      <td>68.0</td>\n",
       "      <td>0.330097</td>\n",
       "      <td>138.0</td>\n",
       "      <td>0.669903</td>\n",
       "      <td>9226.579055</td>\n",
       "      <td>44.789219</td>\n",
       "    </tr>\n",
       "    <tr>\n",
       "      <th>1</th>\n",
       "      <td>0200BBE0102</td>\n",
       "      <td>Chipise Primary School</td>\n",
       "      <td>1</td>\n",
       "      <td>Beitbridge RDC</td>\n",
       "      <td>Beitbridge East</td>\n",
       "      <td>Matabeleland South</td>\n",
       "      <td>276</td>\n",
       "      <td>123.0</td>\n",
       "      <td>0.445652</td>\n",
       "      <td>153.0</td>\n",
       "      <td>0.554348</td>\n",
       "      <td>12003.069131</td>\n",
       "      <td>43.489381</td>\n",
       "    </tr>\n",
       "    <tr>\n",
       "      <th>2</th>\n",
       "      <td>0200BBE0103</td>\n",
       "      <td>Chituripasi Primary School</td>\n",
       "      <td>1</td>\n",
       "      <td>Beitbridge RDC</td>\n",
       "      <td>Beitbridge East</td>\n",
       "      <td>Matabeleland South</td>\n",
       "      <td>474</td>\n",
       "      <td>185.0</td>\n",
       "      <td>0.390295</td>\n",
       "      <td>289.0</td>\n",
       "      <td>0.609705</td>\n",
       "      <td>21651.394935</td>\n",
       "      <td>45.678048</td>\n",
       "    </tr>\n",
       "    <tr>\n",
       "      <th>3</th>\n",
       "      <td>0200BBE0104</td>\n",
       "      <td>Lungowe Primary School</td>\n",
       "      <td>1</td>\n",
       "      <td>Beitbridge RDC</td>\n",
       "      <td>Beitbridge East</td>\n",
       "      <td>Matabeleland South</td>\n",
       "      <td>348</td>\n",
       "      <td>112.0</td>\n",
       "      <td>0.321839</td>\n",
       "      <td>236.0</td>\n",
       "      <td>0.678161</td>\n",
       "      <td>15123.638604</td>\n",
       "      <td>43.458732</td>\n",
       "    </tr>\n",
       "    <tr>\n",
       "      <th>4</th>\n",
       "      <td>0200BBE0105</td>\n",
       "      <td>Malabe Primary School</td>\n",
       "      <td>1</td>\n",
       "      <td>Beitbridge RDC</td>\n",
       "      <td>Beitbridge East</td>\n",
       "      <td>Matabeleland South</td>\n",
       "      <td>285</td>\n",
       "      <td>107.0</td>\n",
       "      <td>0.375439</td>\n",
       "      <td>178.0</td>\n",
       "      <td>0.624561</td>\n",
       "      <td>12478.012320</td>\n",
       "      <td>43.782499</td>\n",
       "    </tr>\n",
       "  </tbody>\n",
       "</table>\n",
       "</div>"
      ],
      "text/plain": [
       "      province                  constituency  local_authority            ward  \\\n",
       "0  0200BBE0101  Chikwalakwala Primary School                1  Beitbridge RDC   \n",
       "1  0200BBE0102        Chipise Primary School                1  Beitbridge RDC   \n",
       "2  0200BBE0103    Chituripasi Primary School                1  Beitbridge RDC   \n",
       "3  0200BBE0104        Lungowe Primary School                1  Beitbridge RDC   \n",
       "4  0200BBE0105         Malabe Primary School                1  Beitbridge RDC   \n",
       "\n",
       "  polling_station_name polling_station_code  tot_count  male_count  male_pct  \\\n",
       "0      Beitbridge East  Matabeleland South         206        68.0  0.330097   \n",
       "1      Beitbridge East  Matabeleland South         276       123.0  0.445652   \n",
       "2      Beitbridge East  Matabeleland South         474       185.0  0.390295   \n",
       "3      Beitbridge East  Matabeleland South         348       112.0  0.321839   \n",
       "4      Beitbridge East  Matabeleland South         285       107.0  0.375439   \n",
       "\n",
       "   female_count  female_pct     total_age   mean_age  \n",
       "0         138.0    0.669903   9226.579055  44.789219  \n",
       "1         153.0    0.554348  12003.069131  43.489381  \n",
       "2         289.0    0.609705  21651.394935  45.678048  \n",
       "3         236.0    0.678161  15123.638604  43.458732  \n",
       "4         178.0    0.624561  12478.012320  43.782499  "
      ]
     },
     "execution_count": 335,
     "metadata": {},
     "output_type": "execute_result"
    }
   ],
   "source": [
    "# Remove redundant columns\n",
    "df_vroll_by_ps = df_vroll_by_ps.drop(['tot_count2', 'tot_count3'], axis=1); df_vroll_by_ps.head()"
   ]
  },
  {
   "cell_type": "code",
   "execution_count": 358,
   "metadata": {},
   "outputs": [],
   "source": [
    "# Save to file\n",
    "df_vroll_by_ps.to_excel(MAIN+\"zimvotersroll2018_bypollingstation.xlsx\")"
   ]
  },
  {
   "cell_type": "markdown",
   "metadata": {},
   "source": [
    "----\n",
    "## 3- Finally, Use HD5 to Save The data we already engineered at individual level\n",
    "------"
   ]
  },
  {
   "cell_type": "code",
   "execution_count": 345,
   "metadata": {},
   "outputs": [
    {
     "data": {
      "text/plain": [
       "(5695671, 13)"
      ]
     },
     "execution_count": 345,
     "metadata": {},
     "output_type": "execute_result"
    }
   ],
   "source": [
    "df_vroll.shape"
   ]
  },
  {
   "cell_type": "code",
   "execution_count": 348,
   "metadata": {},
   "outputs": [],
   "source": [
    "# Write to file\n",
    "df.to_hdf('zimvotersroll2018_byvoter.h5', key='df_vroll', mode='w')"
   ]
  },
  {
   "cell_type": "code",
   "execution_count": 349,
   "metadata": {},
   "outputs": [
    {
     "data": {
      "text/plain": [
       "\"\\npd.read_hdf('zimvotersroll2018_byvoter.h5', key='df_vroll')\\n\""
      ]
     },
     "execution_count": 349,
     "metadata": {},
     "output_type": "execute_result"
    }
   ],
   "source": [
    "# To read use:\n",
    "'''\n",
    "pd.read_hdf('zimvotersroll2018_byvoter.h5', key='df_vroll')\n",
    "'''"
   ]
  },
  {
   "cell_type": "code",
   "execution_count": 347,
   "metadata": {},
   "outputs": [
    {
     "data": {
      "text/html": [
       "<div>\n",
       "<table border=\"1\" class=\"dataframe\">\n",
       "  <thead>\n",
       "    <tr style=\"text-align: right;\">\n",
       "      <th></th>\n",
       "      <th>id_number</th>\n",
       "      <th>gender</th>\n",
       "      <th>date_of_birth</th>\n",
       "      <th>polling_station_code</th>\n",
       "      <th>polling_station_name</th>\n",
       "      <th>ward</th>\n",
       "      <th>local_authority</th>\n",
       "      <th>constituency</th>\n",
       "      <th>district</th>\n",
       "      <th>province</th>\n",
       "      <th>male</th>\n",
       "      <th>female</th>\n",
       "      <th>age</th>\n",
       "    </tr>\n",
       "  </thead>\n",
       "  <tbody>\n",
       "    <tr>\n",
       "      <th>2</th>\n",
       "      <td>08-012142 -Z00</td>\n",
       "      <td>Female</td>\n",
       "      <td>1957-10-06 00:00:00</td>\n",
       "      <td>0801BYO0101 A</td>\n",
       "      <td>City Hall</td>\n",
       "      <td>1</td>\n",
       "      <td>Bulawayo Municipality</td>\n",
       "      <td>Bulawayo Central</td>\n",
       "      <td>Bulawayo</td>\n",
       "      <td>Bulawayo Metropolitan</td>\n",
       "      <td>False</td>\n",
       "      <td>True</td>\n",
       "      <td>60.815880</td>\n",
       "    </tr>\n",
       "    <tr>\n",
       "      <th>3</th>\n",
       "      <td>29-2039989-V29</td>\n",
       "      <td>Male</td>\n",
       "      <td>1998-09-12 00:00:00</td>\n",
       "      <td>0801BYO0101 A</td>\n",
       "      <td>City Hall</td>\n",
       "      <td>1</td>\n",
       "      <td>Bulawayo Municipality</td>\n",
       "      <td>Bulawayo Central</td>\n",
       "      <td>Bulawayo</td>\n",
       "      <td>Bulawayo Metropolitan</td>\n",
       "      <td>True</td>\n",
       "      <td>False</td>\n",
       "      <td>19.882272</td>\n",
       "    </tr>\n",
       "  </tbody>\n",
       "</table>\n",
       "</div>"
      ],
      "text/plain": [
       "        id_number  gender        date_of_birth polling_station_code  \\\n",
       "2  08-012142 -Z00  Female  1957-10-06 00:00:00        0801BYO0101 A   \n",
       "3  29-2039989-V29    Male  1998-09-12 00:00:00        0801BYO0101 A   \n",
       "\n",
       "  polling_station_name ward        local_authority      constituency  \\\n",
       "2            City Hall    1  Bulawayo Municipality  Bulawayo Central   \n",
       "3            City Hall    1  Bulawayo Municipality  Bulawayo Central   \n",
       "\n",
       "   district                province   male female        age  \n",
       "2  Bulawayo  Bulawayo Metropolitan   False   True  60.815880  \n",
       "3  Bulawayo  Bulawayo Metropolitan    True  False  19.882272  "
      ]
     },
     "execution_count": 347,
     "metadata": {},
     "output_type": "execute_result"
    }
   ],
   "source": [
    "df_vroll.head(2)"
   ]
  },
  {
   "cell_type": "code",
   "execution_count": 346,
   "metadata": {},
   "outputs": [
    {
     "data": {
      "text/html": [
       "<div>\n",
       "<table border=\"1\" class=\"dataframe\">\n",
       "  <thead>\n",
       "    <tr style=\"text-align: right;\">\n",
       "      <th></th>\n",
       "      <th>province</th>\n",
       "      <th>constituency</th>\n",
       "      <th>local_authority</th>\n",
       "      <th>ward</th>\n",
       "      <th>polling_station_name</th>\n",
       "      <th>polling_station_code</th>\n",
       "      <th>tot_count</th>\n",
       "      <th>male_count</th>\n",
       "      <th>male_pct</th>\n",
       "      <th>female_count</th>\n",
       "      <th>female_pct</th>\n",
       "      <th>total_age</th>\n",
       "      <th>mean_age</th>\n",
       "    </tr>\n",
       "  </thead>\n",
       "  <tbody>\n",
       "    <tr>\n",
       "      <th>0</th>\n",
       "      <td>0200BBE0101</td>\n",
       "      <td>Chikwalakwala Primary School</td>\n",
       "      <td>1</td>\n",
       "      <td>Beitbridge RDC</td>\n",
       "      <td>Beitbridge East</td>\n",
       "      <td>Matabeleland South</td>\n",
       "      <td>206</td>\n",
       "      <td>68.0</td>\n",
       "      <td>0.330097</td>\n",
       "      <td>138.0</td>\n",
       "      <td>0.669903</td>\n",
       "      <td>9226.579055</td>\n",
       "      <td>44.789219</td>\n",
       "    </tr>\n",
       "    <tr>\n",
       "      <th>1</th>\n",
       "      <td>0200BBE0102</td>\n",
       "      <td>Chipise Primary School</td>\n",
       "      <td>1</td>\n",
       "      <td>Beitbridge RDC</td>\n",
       "      <td>Beitbridge East</td>\n",
       "      <td>Matabeleland South</td>\n",
       "      <td>276</td>\n",
       "      <td>123.0</td>\n",
       "      <td>0.445652</td>\n",
       "      <td>153.0</td>\n",
       "      <td>0.554348</td>\n",
       "      <td>12003.069131</td>\n",
       "      <td>43.489381</td>\n",
       "    </tr>\n",
       "  </tbody>\n",
       "</table>\n",
       "</div>"
      ],
      "text/plain": [
       "      province                  constituency  local_authority            ward  \\\n",
       "0  0200BBE0101  Chikwalakwala Primary School                1  Beitbridge RDC   \n",
       "1  0200BBE0102        Chipise Primary School                1  Beitbridge RDC   \n",
       "\n",
       "  polling_station_name polling_station_code  tot_count  male_count  male_pct  \\\n",
       "0      Beitbridge East  Matabeleland South         206        68.0  0.330097   \n",
       "1      Beitbridge East  Matabeleland South         276       123.0  0.445652   \n",
       "\n",
       "   female_count  female_pct     total_age   mean_age  \n",
       "0         138.0    0.669903   9226.579055  44.789219  \n",
       "1         153.0    0.554348  12003.069131  43.489381  "
      ]
     },
     "execution_count": 346,
     "metadata": {},
     "output_type": "execute_result"
    }
   ],
   "source": [
    "df_vroll_by_ps.head(2)"
   ]
  },
  {
   "cell_type": "markdown",
   "metadata": {},
   "source": [
    "---\n",
    "## END OF TRANSFORM SCRIPT"
   ]
  }
 ],
 "metadata": {
  "kernelspec": {
   "display_name": "Python 3",
   "language": "python",
   "name": "python3"
  },
  "language_info": {
   "codemirror_mode": {
    "name": "ipython",
    "version": 3
   },
   "file_extension": ".py",
   "mimetype": "text/x-python",
   "name": "python",
   "nbconvert_exporter": "python",
   "pygments_lexer": "ipython3",
   "version": "3.6.3"
  }
 },
 "nbformat": 4,
 "nbformat_minor": 2
}
