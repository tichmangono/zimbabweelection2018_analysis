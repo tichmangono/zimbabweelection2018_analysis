{
 "cells": [
  {
   "cell_type": "markdown",
   "metadata": {},
   "source": [
    "# Zimbabwe Presidential Elections Data Analysis"
   ]
  },
  {
   "cell_type": "markdown",
   "metadata": {},
   "source": [
    "## 1-Import libraries"
   ]
  },
  {
   "cell_type": "code",
   "execution_count": 249,
   "metadata": {},
   "outputs": [],
   "source": [
    "import pandas as pd\n",
    "import numpy as np\n",
    "import matplotlib.pyplot as plt\n",
    "import os\n",
    "\n",
    "%matplotlib inline"
   ]
  },
  {
   "cell_type": "code",
   "execution_count": 250,
   "metadata": {},
   "outputs": [],
   "source": [
    "# change into the right folder\n",
    "#cd zec_pres/"
   ]
  },
  {
   "cell_type": "code",
   "execution_count": 251,
   "metadata": {},
   "outputs": [],
   "source": [
    "# check to see files\n",
    "#ls"
   ]
  },
  {
   "cell_type": "markdown",
   "metadata": {},
   "source": [
    "## 2-Function to Convert Excel Files to Dataframes"
   ]
  },
  {
   "cell_type": "code",
   "execution_count": 252,
   "metadata": {},
   "outputs": [],
   "source": [
    "def excelToDF(xlsfile, cols):\n",
    "    \"\"\" Takes an Excel File from the ZEC Election results for Zimbabwe presidential elections (one file for each province)\n",
    "        Processes one file and returns two files, one with raw disaggregated data at polling station level\n",
    "        And another with aggregated data at constituency and other levels that were preexisting in the\n",
    "        original files\n",
    "    \"\"\"\n",
    "    # import the provincial results file\n",
    "    prov = pd.ExcelFile(xlsfile)\n",
    "    #prov.sheet_names - shows that the first sheetname is the one of interest\n",
    "    df = prov.parse(sheetname=prov.sheet_names[0])\n",
    "    df = df.iloc[:,:len(cols)].copy()\n",
    "    \n",
    "    # change column names to correct ones, locate row with proper column names first\n",
    "    column_index = np.where(df.iloc[:,0] == 'DISTRICT')[0][0]\n",
    "    df.columns = cols\n",
    "\n",
    "    # get propoer columns and remove null columns\n",
    "    cols = [c for c in df.columns if type(c)==type('c') ]\n",
    "\n",
    "    # make sure columns names have no spaces of or punctuation\n",
    "    df = df.loc[:,cols].copy()\n",
    "    df.columns = [c.lower().strip().replace(\" \",\"_\").replace(\".\",\"\") for c in cols]\n",
    "    \n",
    "    # remove first few columns which are useless\n",
    "    #column_index = np.where(df.iloc[:,0] == 'DISTRICT')[0][0]\n",
    "    df = df[column_index+2:].copy()\n",
    "    \n",
    "    # get name of province\n",
    "    namelist = xlsfile.split(\" \")\n",
    "    remove = ['July' ,'2018', 'Harmonised', 'Presidential', 'Election', 'Results.xlsx']\n",
    "    name =\" \".join([n for n in namelist if n not in remove])\n",
    "     \n",
    "    print(\"Processing dfs for {} province\".format(name))\n",
    "    \n",
    "    # find the rows relevant for raw, disaggregated polling station data\n",
    "    raw = (df.district.notnull() & df.constituency.notnull() & \n",
    "                df.local_authority.notnull() & df.ward_no.notnull() & df.polling_stations.notnull())\n",
    "\n",
    "    # find the rows relevant for aggregated data\n",
    "    agg = (df.district.isnull() & df.constituency.isnull() & \n",
    "                df.local_authority.isnull() & df.polling_stations.notnull()\n",
    "          & df.station_code.isnull())\n",
    "    \n",
    "    # Make the raw and aggregated dfs\n",
    "    draw, dagg = df[raw], df[agg]\n",
    "   \n",
    "    # make column for the province and add to the dfs\n",
    "    draw['province'] = name\n",
    "    dagg['province'] = name\n",
    "   \n",
    "    return draw, dagg "
   ]
  },
  {
   "cell_type": "markdown",
   "metadata": {},
   "source": [
    "## 3- Define a set of standard colums"
   ]
  },
  {
   "cell_type": "code",
   "execution_count": 253,
   "metadata": {},
   "outputs": [
    {
     "data": {
      "text/plain": [
       "['DISTRICT',\n",
       " 'CONSTITUENCY ',\n",
       " 'LOCAL AUTHORITY',\n",
       " 'WARD NO.',\n",
       " 'POLLING STATIONS',\n",
       " 'STATION CODE',\n",
       " 'Busha Joseph Makamba FreeZim Congress',\n",
       " 'Chamisa Nelson MDC Alliance',\n",
       " 'Chikanga  Everisto Washington Rebuild Zimbabwe',\n",
       " 'Dzapasi Melbah # 1980 Freedom Movement Zimbabwe',\n",
       " 'Gava Peter Mapfumo UDF',\n",
       " 'Hlabangana Kwanele RPZ',\n",
       " 'Kasiyamhuru Blessing ZPP',\n",
       " 'Khupe Thokozani MDC-T',\n",
       " 'Madhuku Lovemore NCA',\n",
       " 'Mangoma Elton Steers Coalition of Democrats',\n",
       " 'Manyika Noah Ngoni BZA',\n",
       " 'Mapfumo Chiguvare Tonderayi Johannes Timothy PPPZ',\n",
       " 'MARIYACHA Violet UDM',\n",
       " 'Mhambi-Hove Divine NAPDR',\n",
       " 'Mnangagwa Emmerson Dambudzo ZANU PF',\n",
       " 'Moyo Donald Nkosana APA',\n",
       " 'Mteki Bryn Taurai Independent',\n",
       " 'Mugadza Willard Tawonezvi BCP',\n",
       " 'Mujuru Joice Teurai Ropa PRC',\n",
       " 'Munyanduri Tenda Peter NPF',\n",
       " 'MutinhirI Ambrose NPF',\n",
       " 'Shumba Kuzozvirava Doniel UDA',\n",
       " 'Wilson Peter Harry DOP',\n",
       " 'Total Votes Rejected ',\n",
       " 'Ballot Paper Unaccounted for',\n",
       " 'Total Votes Cast',\n",
       " 'Total Valid Votes Cast']"
      ]
     },
     "execution_count": 253,
     "metadata": {},
     "output_type": "execute_result"
    }
   ],
   "source": [
    "# Get columns names to apply to all dfs\n",
    "xlsfile = 'Bulawayo Metropolitan Province 2018 Harmonised Presidential Election Results.xlsx'\n",
    "# import the provincial results file\n",
    "prov = pd.ExcelFile(xlsfile)\n",
    "#prov.sheet_names - shows that the first sheetname is the one of interest\n",
    "df = prov.parse(sheetname=prov.sheet_names[0])\n",
    "\n",
    "# change column names to correct ones\n",
    "column_index = np.where(df.iloc[:,0] == 'DISTRICT')[0][0]\n",
    "df.columns = df.loc[column_index]\n",
    "\n",
    "# get propoer columns and remove null columns\n",
    "cols = [c for c in df.columns if type(c)==type('c') ]\n",
    "cols"
   ]
  },
  {
   "cell_type": "markdown",
   "metadata": {},
   "source": [
    "## 4-Convert all Excel Files to DataFrames"
   ]
  },
  {
   "cell_type": "code",
   "execution_count": 254,
   "metadata": {},
   "outputs": [],
   "source": [
    "# make sure the folder only contains the excel files of interest\n",
    "# make a list of the filename to loop through later\n",
    "provincial_filenames = os.listdir()"
   ]
  },
  {
   "cell_type": "code",
   "execution_count": 255,
   "metadata": {},
   "outputs": [
    {
     "data": {
      "text/plain": [
       "['Bulawayo Metropolitan Province 2018 Harmonised Presidential Election Results.xlsx',\n",
       " 'Harare Metropolitan Province July 2018 Harmonised Presidential Election Results.xlsx',\n",
       " 'Manicaland Province Province July 2018 Harmonised Presidential Election Results.xlsx',\n",
       " 'Mashonaland Central Province July 2018 Harmonised Presidential Election Results.xlsx',\n",
       " 'Mashonaland East Province July 2018 Harmonised Presidential Election Results.xlsx',\n",
       " 'Mashonaland West  Province July 2018 Harmonised Presidential Election Results.xlsx',\n",
       " 'Masvingo Province July 2018 Harmonised Presidential Election Results.xlsx',\n",
       " 'Matabeleland North Province July 2018 Harmonised Presidential Election Results.xlsx',\n",
       " 'Matabeleland South Province July 2018 Harmonised Presidential Election Results.xlsx',\n",
       " 'Midlands Province July 2018 Harmonised Presidential Election Results.xlsx']"
      ]
     },
     "execution_count": 255,
     "metadata": {},
     "output_type": "execute_result"
    }
   ],
   "source": [
    "provincial_filenames"
   ]
  },
  {
   "cell_type": "code",
   "execution_count": 256,
   "metadata": {},
   "outputs": [
    {
     "name": "stdout",
     "output_type": "stream",
     "text": [
      "Processing dfs for Bulawayo Metropolitan Province province\n"
     ]
    },
    {
     "name": "stderr",
     "output_type": "stream",
     "text": [
      "C:\\Users\\tichmangono\\Anaconda3\\lib\\site-packages\\ipykernel_launcher.py:48: SettingWithCopyWarning: \n",
      "A value is trying to be set on a copy of a slice from a DataFrame.\n",
      "Try using .loc[row_indexer,col_indexer] = value instead\n",
      "\n",
      "See the caveats in the documentation: http://pandas.pydata.org/pandas-docs/stable/indexing.html#indexing-view-versus-copy\n",
      "C:\\Users\\tichmangono\\Anaconda3\\lib\\site-packages\\ipykernel_launcher.py:49: SettingWithCopyWarning: \n",
      "A value is trying to be set on a copy of a slice from a DataFrame.\n",
      "Try using .loc[row_indexer,col_indexer] = value instead\n",
      "\n",
      "See the caveats in the documentation: http://pandas.pydata.org/pandas-docs/stable/indexing.html#indexing-view-versus-copy\n"
     ]
    },
    {
     "name": "stdout",
     "output_type": "stream",
     "text": [
      "Processing dfs for Harare Metropolitan Province province\n",
      "Processing dfs for Manicaland Province Province province\n",
      "Processing dfs for Mashonaland Central Province province\n",
      "Processing dfs for Mashonaland East Province province\n",
      "Processing dfs for Mashonaland West  Province province\n",
      "Processing dfs for Masvingo Province province\n",
      "Processing dfs for Matabeleland North Province province\n",
      "Processing dfs for Matabeleland South Province province\n",
      "Processing dfs for Midlands Province province\n",
      "Processing dfs for Bulawayo Metropolitan Province province\n",
      "Processing dfs for Harare Metropolitan Province province\n",
      "Processing dfs for Manicaland Province Province province\n",
      "Processing dfs for Mashonaland Central Province province\n",
      "Processing dfs for Mashonaland East Province province\n",
      "Processing dfs for Mashonaland West  Province province\n",
      "Processing dfs for Masvingo Province province\n",
      "Processing dfs for Matabeleland North Province province\n",
      "Processing dfs for Matabeleland South Province province\n",
      "Processing dfs for Midlands Province province\n"
     ]
    }
   ],
   "source": [
    "# get lists of dfs, each containing an aggregated and disaggregated dataframe\n",
    "# each list index represents a province\n",
    "raw_dfs = [excelToDF(fn, cols)[0] for fn in provincial_filenames]\n",
    "agg_dfs = [excelToDF(fn, cols)[1] for fn in provincial_filenames]"
   ]
  },
  {
   "cell_type": "markdown",
   "metadata": {},
   "source": [
    "## 5- Cancatenate DataFrames and Transfer to Excel for Analysis"
   ]
  },
  {
   "cell_type": "code",
   "execution_count": 259,
   "metadata": {},
   "outputs": [],
   "source": [
    "# Concatenate\n",
    "rconcat = pd.concat(raw_dfs)\n",
    "aconcat = pd.concat(agg_dfs)"
   ]
  },
  {
   "cell_type": "code",
   "execution_count": 270,
   "metadata": {},
   "outputs": [],
   "source": [
    "rconcat = rconcat.reset_index().drop(['index'], axis=1)\n",
    "aconcat = aconcat.reset_index().drop(['index'], axis=1)"
   ]
  },
  {
   "cell_type": "code",
   "execution_count": 271,
   "metadata": {},
   "outputs": [],
   "source": [
    "# Convert and save to Excel\n",
    "rconcat.to_excel(\"zimelectionresults2018_bypollingstation.xlsx\")\n",
    "aconcat.to_excel(\"zimelectionresults2018_otheraggregates.xlsx\")"
   ]
  },
  {
   "cell_type": "markdown",
   "metadata": {},
   "source": [
    "## Random Code Snipets to Test"
   ]
  },
  {
   "cell_type": "code",
   "execution_count": 246,
   "metadata": {},
   "outputs": [],
   "source": [
    "xlsfile='Matabeleland South2 Province July 2018 Harmonised Presidential Election Results.xlsx'"
   ]
  },
  {
   "cell_type": "code",
   "execution_count": 247,
   "metadata": {},
   "outputs": [],
   "source": [
    "# import the provincial results file\n",
    "prov = pd.ExcelFile(xlsfile)\n",
    "#prov.sheet_names - shows that the first sheetname is the one of interest\n",
    "df = prov.parse(sheetname=prov.sheet_names[0])\n",
    "df = df.iloc[:,:len(cols)].copy()"
   ]
  },
  {
   "cell_type": "code",
   "execution_count": 262,
   "metadata": {},
   "outputs": [],
   "source": [
    "#df"
   ]
  },
  {
   "cell_type": "code",
   "execution_count": 238,
   "metadata": {},
   "outputs": [
    {
     "ename": "IndexError",
     "evalue": "index 0 is out of bounds for axis 0 with size 0",
     "output_type": "error",
     "traceback": [
      "\u001b[1;31m---------------------------------------------------------------------------\u001b[0m",
      "\u001b[1;31mIndexError\u001b[0m                                Traceback (most recent call last)",
      "\u001b[1;32m<ipython-input-238-3e8de3f6563d>\u001b[0m in \u001b[0;36m<module>\u001b[1;34m()\u001b[0m\n\u001b[1;32m----> 1\u001b[1;33m \u001b[0mnp\u001b[0m\u001b[1;33m.\u001b[0m\u001b[0mwhere\u001b[0m\u001b[1;33m(\u001b[0m\u001b[0mdf\u001b[0m\u001b[1;33m.\u001b[0m\u001b[0miloc\u001b[0m\u001b[1;33m[\u001b[0m\u001b[1;33m:\u001b[0m\u001b[1;33m,\u001b[0m\u001b[1;36m0\u001b[0m\u001b[1;33m]\u001b[0m \u001b[1;33m==\u001b[0m \u001b[1;34m'DISTRICT'\u001b[0m\u001b[1;33m)\u001b[0m\u001b[1;33m[\u001b[0m\u001b[1;36m0\u001b[0m\u001b[1;33m]\u001b[0m\u001b[1;33m[\u001b[0m\u001b[1;36m0\u001b[0m\u001b[1;33m]\u001b[0m\u001b[1;33m\u001b[0m\u001b[0m\n\u001b[0m",
      "\u001b[1;31mIndexError\u001b[0m: index 0 is out of bounds for axis 0 with size 0"
     ]
    }
   ],
   "source": [
    "np.where(df.iloc[:,0] == 'DISTRICT')[0][0]"
   ]
  },
  {
   "cell_type": "code",
   "execution_count": 230,
   "metadata": {},
   "outputs": [],
   "source": [
    "# change column names to correct ones, locate row with proper column names first\n",
    "column_index = np.where(df.iloc[:,0] == 'DISTRICT')[0][0]\n",
    "df.columns = cols\n",
    "\n",
    "# get propoer columns and remove null columns\n",
    "cols = [c for c in df.columns if type(c)==type('c') ]\n",
    "\n",
    "# make sure columns names have no spaces of or punctuation\n",
    "df = df.loc[:,cols].copy()\n",
    "df.columns = [c.lower().strip().replace(\" \",\"_\").replace(\".\",\"\") for c in cols]\n",
    "\n",
    "# remove first few columns which are useless\n",
    "column_index = np.where(df.iloc[:,0] == 'DISTRICT')[0][0]\n",
    "df = df[column_index+1:].copy()"
   ]
  },
  {
   "cell_type": "code",
   "execution_count": 263,
   "metadata": {},
   "outputs": [],
   "source": [
    "#df"
   ]
  },
  {
   "cell_type": "code",
   "execution_count": 164,
   "metadata": {},
   "outputs": [
    {
     "name": "stdout",
     "output_type": "stream",
     "text": [
      "Processing dfs for Manicaland Province Province province\n"
     ]
    }
   ],
   "source": [
    "# make sure columns names have no spaces of or punctuation\n",
    "df = df.loc[:,cols].copy()\n",
    "df.columns = [c.lower().strip().replace(\" \",\"_\").replace(\".\",\"\") for c in cols]\n",
    "\n",
    "# remove first 2 columns which are useless\n",
    "df = df[3:].copy()\n",
    "\n",
    "# get name of province\n",
    "namelist = xlsfile.split(\" \")\n",
    "remove = ['July' ,'2018', 'Harmonised', 'Presidential', 'Election', 'Results.xlsx']\n",
    "name =\" \".join([n for n in namelist if n not in remove])\n",
    "\n",
    "print(\"Processing dfs for {} province\".format(name))"
   ]
  },
  {
   "cell_type": "code",
   "execution_count": 165,
   "metadata": {},
   "outputs": [
    {
     "ename": "AttributeError",
     "evalue": "'DataFrame' object has no attribute 'district'",
     "output_type": "error",
     "traceback": [
      "\u001b[1;31m---------------------------------------------------------------------------\u001b[0m",
      "\u001b[1;31mAttributeError\u001b[0m                            Traceback (most recent call last)",
      "\u001b[1;32m<ipython-input-165-a010279be13f>\u001b[0m in \u001b[0;36m<module>\u001b[1;34m()\u001b[0m\n\u001b[0;32m      1\u001b[0m \u001b[1;31m# find the rows relevant for raw, disaggregated polling station data\u001b[0m\u001b[1;33m\u001b[0m\u001b[1;33m\u001b[0m\u001b[0m\n\u001b[0;32m      2\u001b[0m raw = (df.district.notnull() & df.constituency.notnull() & \n\u001b[1;32m----> 3\u001b[1;33m             df.local_authority.notnull() & df.ward_no.notnull() & df.polling_stations.notnull())\n\u001b[0m\u001b[0;32m      4\u001b[0m \u001b[1;33m\u001b[0m\u001b[0m\n\u001b[0;32m      5\u001b[0m \u001b[1;31m# find the rows relevant for aggregated data\u001b[0m\u001b[1;33m\u001b[0m\u001b[1;33m\u001b[0m\u001b[0m\n",
      "\u001b[1;32m~\\Anaconda3\\lib\\site-packages\\pandas\\core\\generic.py\u001b[0m in \u001b[0;36m__getattr__\u001b[1;34m(self, name)\u001b[0m\n\u001b[0;32m   2742\u001b[0m             \u001b[1;32mif\u001b[0m \u001b[0mname\u001b[0m \u001b[1;32min\u001b[0m \u001b[0mself\u001b[0m\u001b[1;33m.\u001b[0m\u001b[0m_info_axis\u001b[0m\u001b[1;33m:\u001b[0m\u001b[1;33m\u001b[0m\u001b[0m\n\u001b[0;32m   2743\u001b[0m                 \u001b[1;32mreturn\u001b[0m \u001b[0mself\u001b[0m\u001b[1;33m[\u001b[0m\u001b[0mname\u001b[0m\u001b[1;33m]\u001b[0m\u001b[1;33m\u001b[0m\u001b[0m\n\u001b[1;32m-> 2744\u001b[1;33m             \u001b[1;32mreturn\u001b[0m \u001b[0mobject\u001b[0m\u001b[1;33m.\u001b[0m\u001b[0m__getattribute__\u001b[0m\u001b[1;33m(\u001b[0m\u001b[0mself\u001b[0m\u001b[1;33m,\u001b[0m \u001b[0mname\u001b[0m\u001b[1;33m)\u001b[0m\u001b[1;33m\u001b[0m\u001b[0m\n\u001b[0m\u001b[0;32m   2745\u001b[0m \u001b[1;33m\u001b[0m\u001b[0m\n\u001b[0;32m   2746\u001b[0m     \u001b[1;32mdef\u001b[0m \u001b[0m__setattr__\u001b[0m\u001b[1;33m(\u001b[0m\u001b[0mself\u001b[0m\u001b[1;33m,\u001b[0m \u001b[0mname\u001b[0m\u001b[1;33m,\u001b[0m \u001b[0mvalue\u001b[0m\u001b[1;33m)\u001b[0m\u001b[1;33m:\u001b[0m\u001b[1;33m\u001b[0m\u001b[0m\n",
      "\u001b[1;31mAttributeError\u001b[0m: 'DataFrame' object has no attribute 'district'"
     ]
    }
   ],
   "source": [
    "# find the rows relevant for raw, disaggregated polling station data\n",
    "raw = (df.district.notnull() & df.constituency.notnull() & \n",
    "            df.local_authority.notnull() & df.ward_no.notnull() & df.polling_stations.notnull())\n",
    "\n",
    "# find the rows relevant for aggregated data\n",
    "agg = (df.district.isnull() & df.constituency.isnull() & \n",
    "            df.local_authority.isnull() & df.polling_stations.notnull()\n",
    "      & df.station_code.isnull())\n",
    "\n",
    "# Make the raw and aggregated dfs\n",
    "draw, dagg = df[raw], df[agg]\n",
    "\n",
    "# make column for the province and add to the dfs\n",
    "draw['province'] = name\n",
    "dagg['province'] = name\n",
    "\n",
    "return draw, dagg "
   ]
  },
  {
   "cell_type": "code",
   "execution_count": null,
   "metadata": {},
   "outputs": [],
   "source": []
  }
 ],
 "metadata": {
  "kernelspec": {
   "display_name": "Python 3",
   "language": "python",
   "name": "python3"
  },
  "language_info": {
   "codemirror_mode": {
    "name": "ipython",
    "version": 3
   },
   "file_extension": ".py",
   "mimetype": "text/x-python",
   "name": "python",
   "nbconvert_exporter": "python",
   "pygments_lexer": "ipython3",
   "version": "3.6.3"
  }
 },
 "nbformat": 4,
 "nbformat_minor": 2
}
