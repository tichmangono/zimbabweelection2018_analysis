{
 "cells": [
  {
   "cell_type": "markdown",
   "metadata": {},
   "source": [
    "# Transform - Parliamentary Elections Data"
   ]
  },
  {
   "cell_type": "markdown",
   "metadata": {},
   "source": [
    "## Import libraries"
   ]
  },
  {
   "cell_type": "code",
   "execution_count": 105,
   "metadata": {},
   "outputs": [],
   "source": [
    "import warnings; warnings.simplefilter('ignore')\n",
    "import pandas as pd\n",
    "import numpy as np\n",
    "import matplotlib.pyplot as plt\n",
    "import seaborn as sns\n",
    "import h5py\n",
    "import itertools\n",
    "import os\n",
    "import pivottablejs as pvt\n",
    "from tabula import read_pdf, convert_into\n",
    "import matplotlib.ticker as tic\n",
    "\n",
    "%matplotlib inline"
   ]
  },
  {
   "cell_type": "markdown",
   "metadata": {},
   "source": [
    "## Get the file names"
   ]
  },
  {
   "cell_type": "code",
   "execution_count": 106,
   "metadata": {},
   "outputs": [],
   "source": [
    "# set the right foldername\n",
    "DATA = './parliamentary/byprovince/extracted_clean/'\n",
    "MAIN = './'"
   ]
  },
  {
   "cell_type": "code",
   "execution_count": 107,
   "metadata": {},
   "outputs": [],
   "source": [
    "# check to see files\n",
    "prov_fns =  [f for f in os.listdir(DATA) if 'PROVINCE.csv' in f]\n",
    "sum_fns =  [f for f in os.listdir(DATA) if 'Summary' in f and 'v2' in f]"
   ]
  },
  {
   "cell_type": "code",
   "execution_count": 108,
   "metadata": {},
   "outputs": [
    {
     "name": "stdout",
     "output_type": "stream",
     "text": [
      "['tabula-NATIONAL ASSEMBLY  MASHONALAND EAST PROVINCE.csv', 'tabula-NATIONAL ASSEMBLY  MIDLANDS PROVINCE.csv', 'tabula-NATIONAL ASSEMBLY BULAWAYO PROVINCE.csv', 'tabula-NATIONAL ASSEMBLY HARARE PROVINCE.csv', 'tabula-NATIONAL ASSEMBLY MANICALAND PROVINCE.csv', 'tabula-NATIONAL ASSEMBLY MASHONALAND CENTRAL PROVINCE.csv', 'tabula-NATIONAL ASSEMBLY MASHONALAND WEST PROVINCE.csv', 'tabula-NATIONAL ASSEMBLY MASVINGO PROVINCE.csv', 'tabula-NATIONAL ASSEMBLY MATABELELAND NORTH PROVINCE.csv', 'tabula-NATIONAL ASSEMBLY MATABELELAND SOUTH PROVINCE.csv']\n",
      "['tabula-Summary of 2018 results for National Assembly_v2.csv']\n"
     ]
    }
   ],
   "source": [
    "print(prov_fns); print(sum_fns)"
   ]
  },
  {
   "cell_type": "code",
   "execution_count": 109,
   "metadata": {},
   "outputs": [
    {
     "data": {
      "text/plain": [
       "10"
      ]
     },
     "execution_count": 109,
     "metadata": {},
     "output_type": "execute_result"
    }
   ],
   "source": [
    "len(prov_fns)"
   ]
  },
  {
   "cell_type": "code",
   "execution_count": 110,
   "metadata": {},
   "outputs": [
    {
     "name": "stdout",
     "output_type": "stream",
     "text": [
      "(10985, 13)\n",
      "(10973, 34)\n"
     ]
    }
   ],
   "source": [
    "# voters\n",
    "presvroll = pd.read_excel(\"votersroll_bypolstat_clean.xlsx\")\n",
    "print(presvroll.shape)\n",
    "\n",
    "# results\n",
    "presres = pd.read_excel(\"results_bypolstat_clean.xlsx\")\n",
    "print(presres.shape)"
   ]
  },
  {
   "cell_type": "code",
   "execution_count": 111,
   "metadata": {},
   "outputs": [
    {
     "name": "stdout",
     "output_type": "stream",
     "text": [
      "(10985, 13)\n"
     ]
    },
    {
     "data": {
      "text/html": [
       "<div>\n",
       "<table border=\"1\" class=\"dataframe\">\n",
       "  <thead>\n",
       "    <tr style=\"text-align: right;\">\n",
       "      <th></th>\n",
       "      <th>ward</th>\n",
       "      <th>tot_count</th>\n",
       "      <th>male_count</th>\n",
       "      <th>male_pct</th>\n",
       "      <th>female_count</th>\n",
       "      <th>female_pct</th>\n",
       "      <th>total_age</th>\n",
       "      <th>mean_age</th>\n",
       "    </tr>\n",
       "  </thead>\n",
       "  <tbody>\n",
       "    <tr>\n",
       "      <th>count</th>\n",
       "      <td>10985.000000</td>\n",
       "      <td>10985.000000</td>\n",
       "      <td>10985.000000</td>\n",
       "      <td>10985.000000</td>\n",
       "      <td>10985.000000</td>\n",
       "      <td>10985.000000</td>\n",
       "      <td>10985.000000</td>\n",
       "      <td>10985.000000</td>\n",
       "    </tr>\n",
       "    <tr>\n",
       "      <th>mean</th>\n",
       "      <td>14.320346</td>\n",
       "      <td>518.495312</td>\n",
       "      <td>238.734365</td>\n",
       "      <td>0.458845</td>\n",
       "      <td>279.760947</td>\n",
       "      <td>0.541155</td>\n",
       "      <td>20860.245319</td>\n",
       "      <td>40.951521</td>\n",
       "    </tr>\n",
       "    <tr>\n",
       "      <th>std</th>\n",
       "      <td>9.664490</td>\n",
       "      <td>236.305415</td>\n",
       "      <td>117.884138</td>\n",
       "      <td>0.066852</td>\n",
       "      <td>127.287632</td>\n",
       "      <td>0.066852</td>\n",
       "      <td>8960.373867</td>\n",
       "      <td>3.914803</td>\n",
       "    </tr>\n",
       "    <tr>\n",
       "      <th>min</th>\n",
       "      <td>1.000000</td>\n",
       "      <td>6.000000</td>\n",
       "      <td>2.000000</td>\n",
       "      <td>0.204082</td>\n",
       "      <td>0.000000</td>\n",
       "      <td>0.000000</td>\n",
       "      <td>212.952772</td>\n",
       "      <td>27.924843</td>\n",
       "    </tr>\n",
       "    <tr>\n",
       "      <th>25%</th>\n",
       "      <td>6.000000</td>\n",
       "      <td>325.000000</td>\n",
       "      <td>143.000000</td>\n",
       "      <td>0.416667</td>\n",
       "      <td>179.000000</td>\n",
       "      <td>0.502247</td>\n",
       "      <td>13850.694045</td>\n",
       "      <td>37.601726</td>\n",
       "    </tr>\n",
       "    <tr>\n",
       "      <th>50%</th>\n",
       "      <td>13.000000</td>\n",
       "      <td>520.000000</td>\n",
       "      <td>231.000000</td>\n",
       "      <td>0.456250</td>\n",
       "      <td>281.000000</td>\n",
       "      <td>0.543750</td>\n",
       "      <td>21102.918549</td>\n",
       "      <td>40.767391</td>\n",
       "    </tr>\n",
       "    <tr>\n",
       "      <th>75%</th>\n",
       "      <td>21.000000</td>\n",
       "      <td>693.000000</td>\n",
       "      <td>323.000000</td>\n",
       "      <td>0.497753</td>\n",
       "      <td>372.000000</td>\n",
       "      <td>0.583333</td>\n",
       "      <td>27436.303901</td>\n",
       "      <td>43.936119</td>\n",
       "    </tr>\n",
       "    <tr>\n",
       "      <th>max</th>\n",
       "      <td>46.000000</td>\n",
       "      <td>1000.000000</td>\n",
       "      <td>735.000000</td>\n",
       "      <td>1.000000</td>\n",
       "      <td>658.000000</td>\n",
       "      <td>0.795918</td>\n",
       "      <td>47214.135524</td>\n",
       "      <td>55.519939</td>\n",
       "    </tr>\n",
       "  </tbody>\n",
       "</table>\n",
       "</div>"
      ],
      "text/plain": [
       "               ward     tot_count    male_count      male_pct  female_count  \\\n",
       "count  10985.000000  10985.000000  10985.000000  10985.000000  10985.000000   \n",
       "mean      14.320346    518.495312    238.734365      0.458845    279.760947   \n",
       "std        9.664490    236.305415    117.884138      0.066852    127.287632   \n",
       "min        1.000000      6.000000      2.000000      0.204082      0.000000   \n",
       "25%        6.000000    325.000000    143.000000      0.416667    179.000000   \n",
       "50%       13.000000    520.000000    231.000000      0.456250    281.000000   \n",
       "75%       21.000000    693.000000    323.000000      0.497753    372.000000   \n",
       "max       46.000000   1000.000000    735.000000      1.000000    658.000000   \n",
       "\n",
       "         female_pct     total_age      mean_age  \n",
       "count  10985.000000  10985.000000  10985.000000  \n",
       "mean       0.541155  20860.245319     40.951521  \n",
       "std        0.066852   8960.373867      3.914803  \n",
       "min        0.000000    212.952772     27.924843  \n",
       "25%        0.502247  13850.694045     37.601726  \n",
       "50%        0.543750  21102.918549     40.767391  \n",
       "75%        0.583333  27436.303901     43.936119  \n",
       "max        0.795918  47214.135524     55.519939  "
      ]
     },
     "execution_count": 111,
     "metadata": {},
     "output_type": "execute_result"
    }
   ],
   "source": [
    "print(presvroll.shape)\n",
    "presvroll.describe()"
   ]
  },
  {
   "cell_type": "code",
   "execution_count": 112,
   "metadata": {},
   "outputs": [
    {
     "data": {
      "text/html": [
       "<div>\n",
       "<table border=\"1\" class=\"dataframe\">\n",
       "  <thead>\n",
       "    <tr style=\"text-align: right;\">\n",
       "      <th></th>\n",
       "      <th>ward_no</th>\n",
       "      <th>busha_joseph_makamba_freezim_congress</th>\n",
       "      <th>chamisa_nelson_mdc_alliance</th>\n",
       "      <th>chikanga__everisto_washington_rebuild_zimbabwe</th>\n",
       "      <th>dzapasi_melbah_#_1980_freedom_movement_zimbabwe</th>\n",
       "      <th>gava_peter_mapfumo_udf</th>\n",
       "      <th>hlabangana_kwanele_rpz</th>\n",
       "      <th>kasiyamhuru_blessing_zpp</th>\n",
       "      <th>khupe_thokozani_mdc-t</th>\n",
       "      <th>madhuku_lovemore_nca</th>\n",
       "      <th>...</th>\n",
       "      <th>mugadza_willard_tawonezvi_bcp</th>\n",
       "      <th>mujuru_joice_teurai_ropa_prc</th>\n",
       "      <th>munyanduri_tenda_peter_npf</th>\n",
       "      <th>mutinhiri_ambrose_npf</th>\n",
       "      <th>shumba_kuzozvirava_doniel_uda</th>\n",
       "      <th>wilson_peter_harry_dop</th>\n",
       "      <th>total_votes_rejected</th>\n",
       "      <th>ballot_paper_unaccounted_for</th>\n",
       "      <th>total_votes_cast</th>\n",
       "      <th>total_valid_votes_cast</th>\n",
       "    </tr>\n",
       "  </thead>\n",
       "  <tbody>\n",
       "    <tr>\n",
       "      <th>count</th>\n",
       "      <td>10973.000000</td>\n",
       "      <td>10970.000000</td>\n",
       "      <td>10973.000000</td>\n",
       "      <td>10973.000000</td>\n",
       "      <td>10972.000000</td>\n",
       "      <td>10971.000000</td>\n",
       "      <td>10973.000000</td>\n",
       "      <td>10970.000000</td>\n",
       "      <td>10971.000000</td>\n",
       "      <td>10972.000000</td>\n",
       "      <td>...</td>\n",
       "      <td>10971.000000</td>\n",
       "      <td>10970.000000</td>\n",
       "      <td>10970.000000</td>\n",
       "      <td>10971.000000</td>\n",
       "      <td>10972.000000</td>\n",
       "      <td>10970.000000</td>\n",
       "      <td>10969.000000</td>\n",
       "      <td>10658.000000</td>\n",
       "      <td>10973.000000</td>\n",
       "      <td>10973.000000</td>\n",
       "    </tr>\n",
       "    <tr>\n",
       "      <th>mean</th>\n",
       "      <td>14.327531</td>\n",
       "      <td>1.597356</td>\n",
       "      <td>195.885446</td>\n",
       "      <td>1.197758</td>\n",
       "      <td>0.172166</td>\n",
       "      <td>0.260961</td>\n",
       "      <td>0.861296</td>\n",
       "      <td>0.640292</td>\n",
       "      <td>4.153860</td>\n",
       "      <td>0.246172</td>\n",
       "      <td>...</td>\n",
       "      <td>0.537599</td>\n",
       "      <td>1.168459</td>\n",
       "      <td>0.413218</td>\n",
       "      <td>0.373257</td>\n",
       "      <td>0.355450</td>\n",
       "      <td>0.446308</td>\n",
       "      <td>6.586106</td>\n",
       "      <td>0.027303</td>\n",
       "      <td>441.356967</td>\n",
       "      <td>434.778092</td>\n",
       "    </tr>\n",
       "    <tr>\n",
       "      <th>std</th>\n",
       "      <td>9.664123</td>\n",
       "      <td>1.886528</td>\n",
       "      <td>167.448848</td>\n",
       "      <td>1.548313</td>\n",
       "      <td>0.458642</td>\n",
       "      <td>0.623446</td>\n",
       "      <td>1.289024</td>\n",
       "      <td>1.093437</td>\n",
       "      <td>9.088325</td>\n",
       "      <td>0.692689</td>\n",
       "      <td>...</td>\n",
       "      <td>0.874392</td>\n",
       "      <td>2.945221</td>\n",
       "      <td>0.797587</td>\n",
       "      <td>0.726909</td>\n",
       "      <td>0.724189</td>\n",
       "      <td>0.822959</td>\n",
       "      <td>5.919846</td>\n",
       "      <td>1.550472</td>\n",
       "      <td>201.418622</td>\n",
       "      <td>199.445367</td>\n",
       "    </tr>\n",
       "    <tr>\n",
       "      <th>min</th>\n",
       "      <td>1.000000</td>\n",
       "      <td>0.000000</td>\n",
       "      <td>0.000000</td>\n",
       "      <td>0.000000</td>\n",
       "      <td>0.000000</td>\n",
       "      <td>0.000000</td>\n",
       "      <td>0.000000</td>\n",
       "      <td>0.000000</td>\n",
       "      <td>0.000000</td>\n",
       "      <td>0.000000</td>\n",
       "      <td>...</td>\n",
       "      <td>0.000000</td>\n",
       "      <td>0.000000</td>\n",
       "      <td>0.000000</td>\n",
       "      <td>0.000000</td>\n",
       "      <td>0.000000</td>\n",
       "      <td>0.000000</td>\n",
       "      <td>0.000000</td>\n",
       "      <td>0.000000</td>\n",
       "      <td>4.000000</td>\n",
       "      <td>4.000000</td>\n",
       "    </tr>\n",
       "    <tr>\n",
       "      <th>25%</th>\n",
       "      <td>6.000000</td>\n",
       "      <td>0.000000</td>\n",
       "      <td>59.000000</td>\n",
       "      <td>0.000000</td>\n",
       "      <td>0.000000</td>\n",
       "      <td>0.000000</td>\n",
       "      <td>0.000000</td>\n",
       "      <td>0.000000</td>\n",
       "      <td>1.000000</td>\n",
       "      <td>0.000000</td>\n",
       "      <td>...</td>\n",
       "      <td>0.000000</td>\n",
       "      <td>0.000000</td>\n",
       "      <td>0.000000</td>\n",
       "      <td>0.000000</td>\n",
       "      <td>0.000000</td>\n",
       "      <td>0.000000</td>\n",
       "      <td>3.000000</td>\n",
       "      <td>0.000000</td>\n",
       "      <td>278.000000</td>\n",
       "      <td>272.000000</td>\n",
       "    </tr>\n",
       "    <tr>\n",
       "      <th>50%</th>\n",
       "      <td>13.000000</td>\n",
       "      <td>1.000000</td>\n",
       "      <td>139.000000</td>\n",
       "      <td>1.000000</td>\n",
       "      <td>0.000000</td>\n",
       "      <td>0.000000</td>\n",
       "      <td>0.000000</td>\n",
       "      <td>0.000000</td>\n",
       "      <td>2.000000</td>\n",
       "      <td>0.000000</td>\n",
       "      <td>...</td>\n",
       "      <td>0.000000</td>\n",
       "      <td>0.000000</td>\n",
       "      <td>0.000000</td>\n",
       "      <td>0.000000</td>\n",
       "      <td>0.000000</td>\n",
       "      <td>0.000000</td>\n",
       "      <td>5.000000</td>\n",
       "      <td>0.000000</td>\n",
       "      <td>443.000000</td>\n",
       "      <td>435.000000</td>\n",
       "    </tr>\n",
       "    <tr>\n",
       "      <th>75%</th>\n",
       "      <td>21.000000</td>\n",
       "      <td>2.000000</td>\n",
       "      <td>308.000000</td>\n",
       "      <td>2.000000</td>\n",
       "      <td>0.000000</td>\n",
       "      <td>0.000000</td>\n",
       "      <td>1.000000</td>\n",
       "      <td>1.000000</td>\n",
       "      <td>5.000000</td>\n",
       "      <td>0.000000</td>\n",
       "      <td>...</td>\n",
       "      <td>1.000000</td>\n",
       "      <td>1.000000</td>\n",
       "      <td>1.000000</td>\n",
       "      <td>1.000000</td>\n",
       "      <td>1.000000</td>\n",
       "      <td>1.000000</td>\n",
       "      <td>9.000000</td>\n",
       "      <td>0.000000</td>\n",
       "      <td>593.000000</td>\n",
       "      <td>584.000000</td>\n",
       "    </tr>\n",
       "    <tr>\n",
       "      <th>max</th>\n",
       "      <td>46.000000</td>\n",
       "      <td>19.000000</td>\n",
       "      <td>725.000000</td>\n",
       "      <td>15.000000</td>\n",
       "      <td>6.000000</td>\n",
       "      <td>23.000000</td>\n",
       "      <td>20.000000</td>\n",
       "      <td>24.000000</td>\n",
       "      <td>264.000000</td>\n",
       "      <td>40.000000</td>\n",
       "      <td>...</td>\n",
       "      <td>11.000000</td>\n",
       "      <td>129.000000</td>\n",
       "      <td>20.000000</td>\n",
       "      <td>11.000000</td>\n",
       "      <td>14.000000</td>\n",
       "      <td>9.000000</td>\n",
       "      <td>65.000000</td>\n",
       "      <td>159.000000</td>\n",
       "      <td>920.000000</td>\n",
       "      <td>912.000000</td>\n",
       "    </tr>\n",
       "  </tbody>\n",
       "</table>\n",
       "<p>8 rows × 28 columns</p>\n",
       "</div>"
      ],
      "text/plain": [
       "            ward_no  busha_joseph_makamba_freezim_congress  \\\n",
       "count  10973.000000                           10970.000000   \n",
       "mean      14.327531                               1.597356   \n",
       "std        9.664123                               1.886528   \n",
       "min        1.000000                               0.000000   \n",
       "25%        6.000000                               0.000000   \n",
       "50%       13.000000                               1.000000   \n",
       "75%       21.000000                               2.000000   \n",
       "max       46.000000                              19.000000   \n",
       "\n",
       "       chamisa_nelson_mdc_alliance  \\\n",
       "count                 10973.000000   \n",
       "mean                    195.885446   \n",
       "std                     167.448848   \n",
       "min                       0.000000   \n",
       "25%                      59.000000   \n",
       "50%                     139.000000   \n",
       "75%                     308.000000   \n",
       "max                     725.000000   \n",
       "\n",
       "       chikanga__everisto_washington_rebuild_zimbabwe  \\\n",
       "count                                    10973.000000   \n",
       "mean                                         1.197758   \n",
       "std                                          1.548313   \n",
       "min                                          0.000000   \n",
       "25%                                          0.000000   \n",
       "50%                                          1.000000   \n",
       "75%                                          2.000000   \n",
       "max                                         15.000000   \n",
       "\n",
       "       dzapasi_melbah_#_1980_freedom_movement_zimbabwe  \\\n",
       "count                                     10972.000000   \n",
       "mean                                          0.172166   \n",
       "std                                           0.458642   \n",
       "min                                           0.000000   \n",
       "25%                                           0.000000   \n",
       "50%                                           0.000000   \n",
       "75%                                           0.000000   \n",
       "max                                           6.000000   \n",
       "\n",
       "       gava_peter_mapfumo_udf  hlabangana_kwanele_rpz  \\\n",
       "count            10971.000000            10973.000000   \n",
       "mean                 0.260961                0.861296   \n",
       "std                  0.623446                1.289024   \n",
       "min                  0.000000                0.000000   \n",
       "25%                  0.000000                0.000000   \n",
       "50%                  0.000000                0.000000   \n",
       "75%                  0.000000                1.000000   \n",
       "max                 23.000000               20.000000   \n",
       "\n",
       "       kasiyamhuru_blessing_zpp  khupe_thokozani_mdc-t  madhuku_lovemore_nca  \\\n",
       "count              10970.000000           10971.000000          10972.000000   \n",
       "mean                   0.640292               4.153860              0.246172   \n",
       "std                    1.093437               9.088325              0.692689   \n",
       "min                    0.000000               0.000000              0.000000   \n",
       "25%                    0.000000               1.000000              0.000000   \n",
       "50%                    0.000000               2.000000              0.000000   \n",
       "75%                    1.000000               5.000000              0.000000   \n",
       "max                   24.000000             264.000000             40.000000   \n",
       "\n",
       "                ...            mugadza_willard_tawonezvi_bcp  \\\n",
       "count           ...                             10971.000000   \n",
       "mean            ...                                 0.537599   \n",
       "std             ...                                 0.874392   \n",
       "min             ...                                 0.000000   \n",
       "25%             ...                                 0.000000   \n",
       "50%             ...                                 0.000000   \n",
       "75%             ...                                 1.000000   \n",
       "max             ...                                11.000000   \n",
       "\n",
       "       mujuru_joice_teurai_ropa_prc  munyanduri_tenda_peter_npf  \\\n",
       "count                  10970.000000                10970.000000   \n",
       "mean                       1.168459                    0.413218   \n",
       "std                        2.945221                    0.797587   \n",
       "min                        0.000000                    0.000000   \n",
       "25%                        0.000000                    0.000000   \n",
       "50%                        0.000000                    0.000000   \n",
       "75%                        1.000000                    1.000000   \n",
       "max                      129.000000                   20.000000   \n",
       "\n",
       "       mutinhiri_ambrose_npf  shumba_kuzozvirava_doniel_uda  \\\n",
       "count           10971.000000                   10972.000000   \n",
       "mean                0.373257                       0.355450   \n",
       "std                 0.726909                       0.724189   \n",
       "min                 0.000000                       0.000000   \n",
       "25%                 0.000000                       0.000000   \n",
       "50%                 0.000000                       0.000000   \n",
       "75%                 1.000000                       1.000000   \n",
       "max                11.000000                      14.000000   \n",
       "\n",
       "       wilson_peter_harry_dop  total_votes_rejected  \\\n",
       "count            10970.000000          10969.000000   \n",
       "mean                 0.446308              6.586106   \n",
       "std                  0.822959              5.919846   \n",
       "min                  0.000000              0.000000   \n",
       "25%                  0.000000              3.000000   \n",
       "50%                  0.000000              5.000000   \n",
       "75%                  1.000000              9.000000   \n",
       "max                  9.000000             65.000000   \n",
       "\n",
       "       ballot_paper_unaccounted_for  total_votes_cast  total_valid_votes_cast  \n",
       "count                  10658.000000      10973.000000            10973.000000  \n",
       "mean                       0.027303        441.356967              434.778092  \n",
       "std                        1.550472        201.418622              199.445367  \n",
       "min                        0.000000          4.000000                4.000000  \n",
       "25%                        0.000000        278.000000              272.000000  \n",
       "50%                        0.000000        443.000000              435.000000  \n",
       "75%                        0.000000        593.000000              584.000000  \n",
       "max                      159.000000        920.000000              912.000000  \n",
       "\n",
       "[8 rows x 28 columns]"
      ]
     },
     "execution_count": 112,
     "metadata": {},
     "output_type": "execute_result"
    }
   ],
   "source": [
    "presres.shape\n",
    "presres.describe()"
   ]
  },
  {
   "cell_type": "markdown",
   "metadata": {},
   "source": [
    "## Load Data - NCA Winner by Constituency"
   ]
  },
  {
   "cell_type": "code",
   "execution_count": 113,
   "metadata": {},
   "outputs": [],
   "source": [
    "raw_summary = pd.read_csv(DATA+sum_fns[0])"
   ]
  },
  {
   "cell_type": "code",
   "execution_count": 114,
   "metadata": {},
   "outputs": [
    {
     "data": {
      "text/plain": [
       "array(['SER', '1', '2', '3', '4', '5', '6', '7', '8', '9', '10', '11',\n",
       "       '12', '13', '14', '15', '16', '17', '18', '19', '20', '21', '22',\n",
       "       '23', '24', '25', '26', '27', '28', '29', '30', '31', '32', '33',\n",
       "       '34', '35', '36', '37', '38', '39', '40', '41', '42', '43', '44',\n",
       "       '45', '46', '47', '48', '49', '50', '51', '52', '53', '54', '55',\n",
       "       '56', '57', '58', '59', '60', '61', '62', '63', '64', '65', '66',\n",
       "       '67', '68', '69', '70', '71', '72', '73', '74', '75', '76', '77',\n",
       "       '78', '79', '80', '81', '82', '83', '84', '85', '86', '87', '88',\n",
       "       '89', '90', '91', '92', '93', '94', '95', '96', '97', '98', '99',\n",
       "       '100', '101', '102', '103', '104', '105', '106', '107', '108',\n",
       "       '109', '110', '111', '112', '113', '114', '115', '116', '117',\n",
       "       '118', '119', '120', '121', '122', '123', '124', '125', '126',\n",
       "       '127', '128', '129', '130', '131', '132', '133', '134', '135',\n",
       "       '136', '137', '138', '139', '140', '141', '142', '143', '144',\n",
       "       '145', '146', '147', '148', '149', '150', '151', '152', '153',\n",
       "       '154', '155', '156', '157', '158', '159', '160', '161', '162',\n",
       "       '163', '164', '165', '166', '167', '168', '169', '170', '171',\n",
       "       '172', '173', '174', '175', '176', '177', '178', '179', '180',\n",
       "       '181', '182', '183', '184', '185', '186', '187', '188', '189',\n",
       "       '190', '191', '192', '193', '194', '195', '196', '197', '198',\n",
       "       '199', '200', '201', '202', '203', '204', '205', '206', '207',\n",
       "       '208', '209', '210',\n",
       "       \"(B)  PROPORTIONAL REPRESENTATION: NATIONAL ASSEMBLY WOMEN'S QUOTA\",\n",
       "       'PROVINCE', 'Bulawayo', nan, 'Harare', 'Manicaland',\n",
       "       'Mashonaland Central', 'Mashonaland East', 'Mashonaland West',\n",
       "       'Masvingo', 'Matabeleland North', 'Matabeleland South', 'Midlands',\n",
       "       '(C)  PROPORTIONAL REPRESENTATION SENATE',\n",
       "       '(E)  16 CHIEFS IN THE SENATE',\n",
       "       \"(F)  PRESIDENT AND DEPUTY PRESIDENT OF CHIEFS' COUNCIL\",\n",
       "       'President of Chiefs Fortune Z. Charumbira Charumbira',\n",
       "       'Deputy President of Chiefs Mtshane Lucas Khumalo Mtshane'], dtype=object)"
      ]
     },
     "execution_count": 114,
     "metadata": {},
     "output_type": "execute_result"
    }
   ],
   "source": [
    "# Find the demacation for each different table within\n",
    "raw_summary.iloc[:,0].unique()"
   ]
  },
  {
   "cell_type": "code",
   "execution_count": 115,
   "metadata": {},
   "outputs": [],
   "source": [
    "prefixes = [\"(A)\", \"(B)\", \"(C)\", \"(D)\", \"(E)\"]\n",
    "[raw_summary[raw_summary.iloc[:,0].str[:3] == p].index for p in prefixes];"
   ]
  },
  {
   "cell_type": "code",
   "execution_count": 116,
   "metadata": {},
   "outputs": [],
   "source": [
    "raw_summary =raw_summary.reset_index()                "
   ]
  },
  {
   "cell_type": "code",
   "execution_count": 117,
   "metadata": {},
   "outputs": [],
   "source": [
    "raw_summary;"
   ]
  },
  {
   "cell_type": "code",
   "execution_count": 118,
   "metadata": {},
   "outputs": [],
   "source": [
    "# get last row of summary tbl\n",
    "lastrow = raw_summary[raw_summary.iloc[:,0] == 210].index[0] +1"
   ]
  },
  {
   "cell_type": "code",
   "execution_count": 119,
   "metadata": {},
   "outputs": [
    {
     "name": "stdout",
     "output_type": "stream",
     "text": [
      "(211, 7)\n"
     ]
    },
    {
     "data": {
      "text/html": [
       "<div>\n",
       "<table border=\"1\" class=\"dataframe\">\n",
       "  <thead>\n",
       "    <tr style=\"text-align: right;\">\n",
       "      <th></th>\n",
       "      <th>0</th>\n",
       "      <th>province</th>\n",
       "      <th>constituency</th>\n",
       "      <th>winning_candidate</th>\n",
       "      <th>sex</th>\n",
       "      <th>party</th>\n",
       "    </tr>\n",
       "  </thead>\n",
       "  <tbody>\n",
       "    <tr>\n",
       "      <th>1</th>\n",
       "      <td>1</td>\n",
       "      <td>Bulawayo Metropolitan</td>\n",
       "      <td>Bulawayo Central</td>\n",
       "      <td>Watson Nicola Jane</td>\n",
       "      <td>F</td>\n",
       "      <td>MDC- Alliance</td>\n",
       "    </tr>\n",
       "    <tr>\n",
       "      <th>2</th>\n",
       "      <td>2</td>\n",
       "      <td>Bulawayo Metropolitan</td>\n",
       "      <td>Bulawayo East</td>\n",
       "      <td>Nyoni Ilos</td>\n",
       "      <td>M</td>\n",
       "      <td>MDC- Alliance</td>\n",
       "    </tr>\n",
       "    <tr>\n",
       "      <th>3</th>\n",
       "      <td>3</td>\n",
       "      <td>Bulawayo Metropolitan</td>\n",
       "      <td>Bulawayo South</td>\n",
       "      <td>Modi Rajeshkumar. Indukant</td>\n",
       "      <td>M</td>\n",
       "      <td>ZANU PF</td>\n",
       "    </tr>\n",
       "    <tr>\n",
       "      <th>4</th>\n",
       "      <td>4</td>\n",
       "      <td>Bulawayo Metropolitan</td>\n",
       "      <td>Emakhandeni-Entumbane</td>\n",
       "      <td>Tshuma Dingilizwe</td>\n",
       "      <td>M</td>\n",
       "      <td>MDC- Alliance</td>\n",
       "    </tr>\n",
       "    <tr>\n",
       "      <th>5</th>\n",
       "      <td>5</td>\n",
       "      <td>Bulawayo Metropolitan</td>\n",
       "      <td>Lobengula</td>\n",
       "      <td>Banda Gift</td>\n",
       "      <td>M</td>\n",
       "      <td>MDC- Alliance</td>\n",
       "    </tr>\n",
       "  </tbody>\n",
       "</table>\n",
       "</div>"
      ],
      "text/plain": [
       "   0               province           constituency  \\\n",
       "1  1  Bulawayo Metropolitan       Bulawayo Central   \n",
       "2  2  Bulawayo Metropolitan          Bulawayo East   \n",
       "3  3  Bulawayo Metropolitan         Bulawayo South   \n",
       "4  4  Bulawayo Metropolitan  Emakhandeni-Entumbane   \n",
       "5  5  Bulawayo Metropolitan              Lobengula   \n",
       "\n",
       "            winning_candidate sex          party  \n",
       "1          Watson Nicola Jane   F  MDC- Alliance  \n",
       "2                  Nyoni Ilos   M  MDC- Alliance  \n",
       "3  Modi Rajeshkumar. Indukant   M        ZANU PF  \n",
       "4           Tshuma Dingilizwe   M  MDC- Alliance  \n",
       "5                  Banda Gift   M  MDC- Alliance  "
      ]
     },
     "execution_count": 119,
     "metadata": {},
     "output_type": "execute_result"
    }
   ],
   "source": [
    "# get main contents\n",
    "sumA = raw_summary.iloc[:lastrow,:]\n",
    "print(sumA.shape)\n",
    "sumA.head()\n",
    "sumA.columns = [str(c).strip().lower().replace(\" \", \"_\") for c in sumA.iloc[0,:]]\n",
    "\n",
    "# drop row, and col\n",
    "sumA.drop(0, axis=0, inplace=True)\n",
    "sumA.drop(['ser'], axis=1, inplace=True)\n",
    "sumA.head()"
   ]
  },
  {
   "cell_type": "code",
   "execution_count": 120,
   "metadata": {},
   "outputs": [
    {
     "data": {
      "text/plain": [
       "array(['MDC- Alliance', 'ZANU PF', 'Independent', 'NPF'], dtype=object)"
      ]
     },
     "execution_count": 120,
     "metadata": {},
     "output_type": "execute_result"
    }
   ],
   "source": [
    "sumA.party.unique()"
   ]
  },
  {
   "cell_type": "code",
   "execution_count": 121,
   "metadata": {},
   "outputs": [],
   "source": [
    "# rename provinces\n",
    "prov_map= {'Bulawayo Metropolitan':'Bulawayo', 'Harare Metropolitan':'Harare', 'Manicaland': 'Manicaland',\n",
    "       'Mashonaland Central': 'Mash Central', 'Mashonaland East': 'Mash East', 'Mashonaland West': 'Mash West',\n",
    "       'Masvingo':'Masvingo', 'Matabeleland North': 'Mat North', 'Matabeleland South':'Mat South', 'Midlands':'Midlands'}\n",
    "sumA.loc[:, 'province'] = sumA['province'].map(prov_map)\n",
    "\n",
    "# replace party names\n",
    "sumA.loc[:, 'party'] = sumA['party'].replace({'Independent':'other', 'NPF':'other'})"
   ]
  },
  {
   "cell_type": "code",
   "execution_count": 122,
   "metadata": {},
   "outputs": [
    {
     "data": {
      "text/html": [
       "<div>\n",
       "<table border=\"1\" class=\"dataframe\">\n",
       "  <thead>\n",
       "    <tr style=\"text-align: right;\">\n",
       "      <th></th>\n",
       "      <th>0</th>\n",
       "      <th>province</th>\n",
       "      <th>constituency</th>\n",
       "      <th>winning_candidate</th>\n",
       "      <th>sex</th>\n",
       "      <th>party</th>\n",
       "    </tr>\n",
       "  </thead>\n",
       "  <tbody>\n",
       "    <tr>\n",
       "      <th>1</th>\n",
       "      <td>1</td>\n",
       "      <td>bulawayo</td>\n",
       "      <td>bulawayo central</td>\n",
       "      <td>watson nicola jane</td>\n",
       "      <td>f</td>\n",
       "      <td>mdc- alliance</td>\n",
       "    </tr>\n",
       "    <tr>\n",
       "      <th>2</th>\n",
       "      <td>2</td>\n",
       "      <td>bulawayo</td>\n",
       "      <td>bulawayo east</td>\n",
       "      <td>nyoni ilos</td>\n",
       "      <td>m</td>\n",
       "      <td>mdc- alliance</td>\n",
       "    </tr>\n",
       "    <tr>\n",
       "      <th>3</th>\n",
       "      <td>3</td>\n",
       "      <td>bulawayo</td>\n",
       "      <td>bulawayo south</td>\n",
       "      <td>modi rajeshkumar. indukant</td>\n",
       "      <td>m</td>\n",
       "      <td>zanu pf</td>\n",
       "    </tr>\n",
       "    <tr>\n",
       "      <th>4</th>\n",
       "      <td>4</td>\n",
       "      <td>bulawayo</td>\n",
       "      <td>emakhandeni-entumbane</td>\n",
       "      <td>tshuma dingilizwe</td>\n",
       "      <td>m</td>\n",
       "      <td>mdc- alliance</td>\n",
       "    </tr>\n",
       "    <tr>\n",
       "      <th>5</th>\n",
       "      <td>5</td>\n",
       "      <td>bulawayo</td>\n",
       "      <td>lobengula</td>\n",
       "      <td>banda gift</td>\n",
       "      <td>m</td>\n",
       "      <td>mdc- alliance</td>\n",
       "    </tr>\n",
       "  </tbody>\n",
       "</table>\n",
       "</div>"
      ],
      "text/plain": [
       "   0  province           constituency           winning_candidate sex  \\\n",
       "1  1  bulawayo       bulawayo central          watson nicola jane   f   \n",
       "2  2  bulawayo          bulawayo east                  nyoni ilos   m   \n",
       "3  3  bulawayo         bulawayo south  modi rajeshkumar. indukant   m   \n",
       "4  4  bulawayo  emakhandeni-entumbane           tshuma dingilizwe   m   \n",
       "5  5  bulawayo              lobengula                  banda gift   m   \n",
       "\n",
       "           party  \n",
       "1  mdc- alliance  \n",
       "2  mdc- alliance  \n",
       "3        zanu pf  \n",
       "4  mdc- alliance  \n",
       "5  mdc- alliance  "
      ]
     },
     "execution_count": 122,
     "metadata": {},
     "output_type": "execute_result"
    }
   ],
   "source": [
    "# clean up all text\n",
    "for c in sumA.columns:\n",
    "    sumA.loc[:,c] = sumA[c].apply(lambda x: str(x).strip().lower())\n",
    "sumA.head()"
   ]
  },
  {
   "cell_type": "code",
   "execution_count": 123,
   "metadata": {},
   "outputs": [
    {
     "name": "stdout",
     "output_type": "stream",
     "text": [
      "(210, 6)\n"
     ]
    },
    {
     "data": {
      "text/plain": [
       "0                    0\n",
       "province             0\n",
       "constituency         0\n",
       "winning_candidate    0\n",
       "sex                  0\n",
       "party                0\n",
       "dtype: int64"
      ]
     },
     "execution_count": 123,
     "metadata": {},
     "output_type": "execute_result"
    }
   ],
   "source": [
    "# Any empty cells?\n",
    "print(sumA.shape)\n",
    "sumA.isnull().sum()"
   ]
  },
  {
   "cell_type": "code",
   "execution_count": 124,
   "metadata": {},
   "outputs": [
    {
     "data": {
      "text/html": [
       "<div>\n",
       "<table border=\"1\" class=\"dataframe\">\n",
       "  <thead>\n",
       "    <tr style=\"text-align: right;\">\n",
       "      <th></th>\n",
       "      <th>0</th>\n",
       "      <th>province</th>\n",
       "      <th>constituency</th>\n",
       "      <th>winning_candidate</th>\n",
       "      <th>sex</th>\n",
       "      <th>party</th>\n",
       "    </tr>\n",
       "  </thead>\n",
       "  <tbody>\n",
       "    <tr>\n",
       "      <th>count</th>\n",
       "      <td>210</td>\n",
       "      <td>210</td>\n",
       "      <td>210</td>\n",
       "      <td>210</td>\n",
       "      <td>210</td>\n",
       "      <td>210</td>\n",
       "    </tr>\n",
       "    <tr>\n",
       "      <th>unique</th>\n",
       "      <td>210</td>\n",
       "      <td>10</td>\n",
       "      <td>210</td>\n",
       "      <td>210</td>\n",
       "      <td>2</td>\n",
       "      <td>3</td>\n",
       "    </tr>\n",
       "    <tr>\n",
       "      <th>top</th>\n",
       "      <td>103</td>\n",
       "      <td>harare</td>\n",
       "      <td>pelandaba-mpopoma</td>\n",
       "      <td>mpofu mtokozisi manoki</td>\n",
       "      <td>m</td>\n",
       "      <td>zanu pf</td>\n",
       "    </tr>\n",
       "    <tr>\n",
       "      <th>freq</th>\n",
       "      <td>1</td>\n",
       "      <td>29</td>\n",
       "      <td>1</td>\n",
       "      <td>1</td>\n",
       "      <td>185</td>\n",
       "      <td>145</td>\n",
       "    </tr>\n",
       "  </tbody>\n",
       "</table>\n",
       "</div>"
      ],
      "text/plain": [
       "          0 province       constituency       winning_candidate  sex    party\n",
       "count   210      210                210                     210  210      210\n",
       "unique  210       10                210                     210    2        3\n",
       "top     103   harare  pelandaba-mpopoma  mpofu mtokozisi manoki    m  zanu pf\n",
       "freq      1       29                  1                       1  185      145"
      ]
     },
     "execution_count": 124,
     "metadata": {},
     "output_type": "execute_result"
    }
   ],
   "source": [
    "sumA.describe()"
   ]
  },
  {
   "cell_type": "code",
   "execution_count": 125,
   "metadata": {},
   "outputs": [],
   "source": [
    "#sumA.set_index(['province', 'constituency', 'sex', 'party']).unstack()\n",
    "sumA = pd.concat([sumA, pd.get_dummies(sumA[['party', 'sex']])], axis=1)"
   ]
  },
  {
   "cell_type": "code",
   "execution_count": 126,
   "metadata": {},
   "outputs": [
    {
     "data": {
      "image/png": "[encoded data removed]",
      "text/plain": [
       "<matplotlib.figure.Figure at 0x1b6850593c8>"
      ]
     },
     "metadata": {},
     "output_type": "display_data"
    }
   ],
   "source": [
    "d = sumA.groupby(['province']).agg(['sum','count']).sort_values(by=[('sex_m', 'count')])[[('sex_m', 'sum'), ('sex_f', 'sum')]]\n",
    "g = d.plot(kind='barh', stacked=True)"
   ]
  },
  {
   "cell_type": "code",
   "execution_count": 127,
   "metadata": {},
   "outputs": [
    {
     "data": {
      "text/plain": [
       "Index(['0', 'province', 'constituency', 'winning_candidate', 'sex', 'party',\n",
       "       'party_mdc- alliance', 'party_other', 'party_zanu pf', 'sex_f',\n",
       "       'sex_m'],\n",
       "      dtype='object')"
      ]
     },
     "execution_count": 127,
     "metadata": {},
     "output_type": "execute_result"
    }
   ],
   "source": [
    "sumA.columns"
   ]
  },
  {
   "cell_type": "code",
   "execution_count": 128,
   "metadata": {},
   "outputs": [
    {
     "data": {
      "image/png": "[encoded data removed]",
      "text/plain": [
       "<matplotlib.figure.Figure at 0x1b68572f128>"
      ]
     },
     "metadata": {},
     "output_type": "display_data"
    }
   ],
   "source": [
    "d = sumA.groupby(['province']).agg(['sum'])[[ 'party_zanu pf', 'party_mdc- alliance', 'party_other']]\n",
    "g = d.plot(kind='barh', stacked=True)"
   ]
  },
  {
   "cell_type": "code",
   "execution_count": 129,
   "metadata": {},
   "outputs": [
    {
     "data": {
      "image/png": "[encoded data removed]",
      "text/plain": [
       "<matplotlib.figure.Figure at 0x1b6850307b8>"
      ]
     },
     "metadata": {},
     "output_type": "display_data"
    }
   ],
   "source": [
    "d = sumA.groupby(['constituency']).agg(['sum'])[[('sex_m', 'sum'), ('sex_f', 'sum')]]\n",
    "g = d.plot(kind='bar', stacked=True, figsize=(80,5))"
   ]
  },
  {
   "cell_type": "code",
   "execution_count": 130,
   "metadata": {},
   "outputs": [
    {
     "data": {
      "image/png": "[encoded data removed]",
      "text/plain": [
       "<matplotlib.figure.Figure at 0x1b6856d3fd0>"
      ]
     },
     "metadata": {},
     "output_type": "display_data"
    }
   ],
   "source": [
    "d = sumA.groupby(['constituency']).agg(['sum'])[[ 'party_zanu pf', 'party_mdc- alliance', 'party_other']]\n",
    "g = d.plot(kind='bar', stacked=True, figsize=(80,5))"
   ]
  },
  {
   "cell_type": "code",
   "execution_count": 131,
   "metadata": {},
   "outputs": [
    {
     "data": {
      "text/html": [
       "<div>\n",
       "<table border=\"1\" class=\"dataframe\">\n",
       "  <thead>\n",
       "    <tr style=\"text-align: right;\">\n",
       "      <th></th>\n",
       "      <th>party_mdc- alliance</th>\n",
       "      <th>party_other</th>\n",
       "      <th>party_zanu pf</th>\n",
       "      <th>sex_f</th>\n",
       "      <th>sex_m</th>\n",
       "    </tr>\n",
       "  </thead>\n",
       "  <tbody>\n",
       "    <tr>\n",
       "      <th>count</th>\n",
       "      <td>210.000000</td>\n",
       "      <td>210.000000</td>\n",
       "      <td>210.000000</td>\n",
       "      <td>210.000000</td>\n",
       "      <td>210.000000</td>\n",
       "    </tr>\n",
       "    <tr>\n",
       "      <th>mean</th>\n",
       "      <td>0.300000</td>\n",
       "      <td>0.009524</td>\n",
       "      <td>0.690476</td>\n",
       "      <td>0.119048</td>\n",
       "      <td>0.880952</td>\n",
       "    </tr>\n",
       "    <tr>\n",
       "      <th>std</th>\n",
       "      <td>0.459353</td>\n",
       "      <td>0.097356</td>\n",
       "      <td>0.463402</td>\n",
       "      <td>0.324618</td>\n",
       "      <td>0.324618</td>\n",
       "    </tr>\n",
       "    <tr>\n",
       "      <th>min</th>\n",
       "      <td>0.000000</td>\n",
       "      <td>0.000000</td>\n",
       "      <td>0.000000</td>\n",
       "      <td>0.000000</td>\n",
       "      <td>0.000000</td>\n",
       "    </tr>\n",
       "    <tr>\n",
       "      <th>25%</th>\n",
       "      <td>0.000000</td>\n",
       "      <td>0.000000</td>\n",
       "      <td>0.000000</td>\n",
       "      <td>0.000000</td>\n",
       "      <td>1.000000</td>\n",
       "    </tr>\n",
       "    <tr>\n",
       "      <th>50%</th>\n",
       "      <td>0.000000</td>\n",
       "      <td>0.000000</td>\n",
       "      <td>1.000000</td>\n",
       "      <td>0.000000</td>\n",
       "      <td>1.000000</td>\n",
       "    </tr>\n",
       "    <tr>\n",
       "      <th>75%</th>\n",
       "      <td>1.000000</td>\n",
       "      <td>0.000000</td>\n",
       "      <td>1.000000</td>\n",
       "      <td>0.000000</td>\n",
       "      <td>1.000000</td>\n",
       "    </tr>\n",
       "    <tr>\n",
       "      <th>max</th>\n",
       "      <td>1.000000</td>\n",
       "      <td>1.000000</td>\n",
       "      <td>1.000000</td>\n",
       "      <td>1.000000</td>\n",
       "      <td>1.000000</td>\n",
       "    </tr>\n",
       "  </tbody>\n",
       "</table>\n",
       "</div>"
      ],
      "text/plain": [
       "       party_mdc- alliance  party_other  party_zanu pf       sex_f       sex_m\n",
       "count           210.000000   210.000000     210.000000  210.000000  210.000000\n",
       "mean              0.300000     0.009524       0.690476    0.119048    0.880952\n",
       "std               0.459353     0.097356       0.463402    0.324618    0.324618\n",
       "min               0.000000     0.000000       0.000000    0.000000    0.000000\n",
       "25%               0.000000     0.000000       0.000000    0.000000    1.000000\n",
       "50%               0.000000     0.000000       1.000000    0.000000    1.000000\n",
       "75%               1.000000     0.000000       1.000000    0.000000    1.000000\n",
       "max               1.000000     1.000000       1.000000    1.000000    1.000000"
      ]
     },
     "execution_count": 131,
     "metadata": {},
     "output_type": "execute_result"
    }
   ],
   "source": [
    "sumA.describe()"
   ]
  },
  {
   "cell_type": "code",
   "execution_count": 132,
   "metadata": {},
   "outputs": [
    {
     "data": {
      "text/plain": [
       "Index(['0', 'province', 'constituency', 'winning_candidate', 'sex', 'party',\n",
       "       'party_mdc- alliance', 'party_other', 'party_zanu pf', 'sex_f',\n",
       "       'sex_m'],\n",
       "      dtype='object')"
      ]
     },
     "execution_count": 132,
     "metadata": {},
     "output_type": "execute_result"
    }
   ],
   "source": [
    "sumA.columns"
   ]
  },
  {
   "cell_type": "code",
   "execution_count": 133,
   "metadata": {},
   "outputs": [
    {
     "data": {
      "text/html": [
       "<div>\n",
       "<table border=\"1\" class=\"dataframe\">\n",
       "  <thead>\n",
       "    <tr style=\"text-align: right;\">\n",
       "      <th></th>\n",
       "      <th>province</th>\n",
       "      <th>constituency</th>\n",
       "      <th>winning_candidate</th>\n",
       "      <th>sex</th>\n",
       "      <th>party</th>\n",
       "      <th>party_mdc- alliance</th>\n",
       "      <th>party_other</th>\n",
       "      <th>party_zanu pf</th>\n",
       "      <th>sex_f</th>\n",
       "      <th>sex_m</th>\n",
       "    </tr>\n",
       "  </thead>\n",
       "  <tbody>\n",
       "    <tr>\n",
       "      <th>1</th>\n",
       "      <td>bulawayo</td>\n",
       "      <td>bulawayo central</td>\n",
       "      <td>watson nicola jane</td>\n",
       "      <td>f</td>\n",
       "      <td>mdc- alliance</td>\n",
       "      <td>1</td>\n",
       "      <td>0</td>\n",
       "      <td>0</td>\n",
       "      <td>1</td>\n",
       "      <td>0</td>\n",
       "    </tr>\n",
       "    <tr>\n",
       "      <th>2</th>\n",
       "      <td>bulawayo</td>\n",
       "      <td>bulawayo east</td>\n",
       "      <td>nyoni ilos</td>\n",
       "      <td>m</td>\n",
       "      <td>mdc- alliance</td>\n",
       "      <td>1</td>\n",
       "      <td>0</td>\n",
       "      <td>0</td>\n",
       "      <td>0</td>\n",
       "      <td>1</td>\n",
       "    </tr>\n",
       "    <tr>\n",
       "      <th>3</th>\n",
       "      <td>bulawayo</td>\n",
       "      <td>bulawayo south</td>\n",
       "      <td>modi rajeshkumar. indukant</td>\n",
       "      <td>m</td>\n",
       "      <td>zanu pf</td>\n",
       "      <td>0</td>\n",
       "      <td>0</td>\n",
       "      <td>1</td>\n",
       "      <td>0</td>\n",
       "      <td>1</td>\n",
       "    </tr>\n",
       "    <tr>\n",
       "      <th>4</th>\n",
       "      <td>bulawayo</td>\n",
       "      <td>emakhandeni-entumbane</td>\n",
       "      <td>tshuma dingilizwe</td>\n",
       "      <td>m</td>\n",
       "      <td>mdc- alliance</td>\n",
       "      <td>1</td>\n",
       "      <td>0</td>\n",
       "      <td>0</td>\n",
       "      <td>0</td>\n",
       "      <td>1</td>\n",
       "    </tr>\n",
       "    <tr>\n",
       "      <th>5</th>\n",
       "      <td>bulawayo</td>\n",
       "      <td>lobengula</td>\n",
       "      <td>banda gift</td>\n",
       "      <td>m</td>\n",
       "      <td>mdc- alliance</td>\n",
       "      <td>1</td>\n",
       "      <td>0</td>\n",
       "      <td>0</td>\n",
       "      <td>0</td>\n",
       "      <td>1</td>\n",
       "    </tr>\n",
       "  </tbody>\n",
       "</table>\n",
       "</div>"
      ],
      "text/plain": [
       "   province           constituency           winning_candidate sex  \\\n",
       "1  bulawayo       bulawayo central          watson nicola jane   f   \n",
       "2  bulawayo          bulawayo east                  nyoni ilos   m   \n",
       "3  bulawayo         bulawayo south  modi rajeshkumar. indukant   m   \n",
       "4  bulawayo  emakhandeni-entumbane           tshuma dingilizwe   m   \n",
       "5  bulawayo              lobengula                  banda gift   m   \n",
       "\n",
       "           party  party_mdc- alliance  party_other  party_zanu pf  sex_f  \\\n",
       "1  mdc- alliance                    1            0              0      1   \n",
       "2  mdc- alliance                    1            0              0      0   \n",
       "3        zanu pf                    0            0              1      0   \n",
       "4  mdc- alliance                    1            0              0      0   \n",
       "5  mdc- alliance                    1            0              0      0   \n",
       "\n",
       "   sex_m  \n",
       "1      0  \n",
       "2      1  \n",
       "3      1  \n",
       "4      1  \n",
       "5      1  "
      ]
     },
     "execution_count": 133,
     "metadata": {},
     "output_type": "execute_result"
    }
   ],
   "source": [
    "parwin = sumA[['province', 'constituency', 'winning_candidate', 'sex', 'party',\n",
    "       'party_mdc- alliance', 'party_other', 'party_zanu pf', 'sex_f',\n",
    "       'sex_m']].copy()\n",
    "parwin.head()"
   ]
  },
  {
   "cell_type": "markdown",
   "metadata": {},
   "source": [
    "## Load Data - NCA Vote Tally by Constituency"
   ]
  },
  {
   "cell_type": "code",
   "execution_count": 134,
   "metadata": {},
   "outputs": [],
   "source": [
    "mashe, mid, byo = pd.read_csv(DATA+prov_fns[0]), pd.read_csv(DATA+prov_fns[1]), pd.read_csv(DATA+prov_fns[2])\n",
    "hre, man, mashc = pd.read_csv(DATA+prov_fns[3]),  pd.read_csv(DATA+prov_fns[4]), pd.read_csv(DATA+prov_fns[5])\n",
    "mashw, mvo, matn = pd.read_csv(DATA+prov_fns[6]),  pd.read_csv(DATA+prov_fns[7]), pd.read_csv(DATA+prov_fns[8])\n",
    "mats= pd.read_csv(DATA+prov_fns[9])\n",
    "prov_fns\n",
    "\n",
    "cols = 'constituency', 'candidate', 'sex', 'party', 'votes'\n",
    "\n",
    "dfs = dict(zip(['mashe', 'mid', 'byo', 'hre', 'man', 'mashc', 'mashw', 'mvo', 'matn', 'mats'],\n",
    "         [mashe.iloc[:,:5], mid.iloc[:,:5], byo.iloc[:,:5],hre.iloc[:,:5]\n",
    "          , man.iloc[:,:5], mashc.iloc[:,:5], mashw.iloc[:,:5], mvo.iloc[:,:5], matn.iloc[:,:5], mats.iloc[:,:5]]))\n",
    "dnames = ['mashe', 'mid', 'byo', 'hre', 'man', 'mashc', 'mashw', 'mvo', 'matn', 'mats']"
   ]
  },
  {
   "cell_type": "code",
   "execution_count": 135,
   "metadata": {},
   "outputs": [
    {
     "name": "stdout",
     "output_type": "stream",
     "text": [
      "mashe (257, 5)\n",
      "mid (338, 5)\n",
      "byo (255, 5)\n",
      "hre (469, 5)\n",
      "man (610, 5)\n",
      "mashc (193, 5)\n",
      "mashw (322, 5)\n",
      "mvo (261, 5)\n",
      "matn (235, 5)\n",
      "mats (179, 5)\n"
     ]
    }
   ],
   "source": [
    "for n in dnames:\n",
    "    print(n, dfs[n].shape)"
   ]
  },
  {
   "cell_type": "code",
   "execution_count": 136,
   "metadata": {},
   "outputs": [],
   "source": [
    "# rename the columns\n",
    "for n in dnames:\n",
    "    dfs[n].columns = cols\n",
    "    #print(dfs[n].head(1))"
   ]
  },
  {
   "cell_type": "code",
   "execution_count": 137,
   "metadata": {},
   "outputs": [
    {
     "name": "stdout",
     "output_type": "stream",
     "text": [
      "Constituency\n",
      "Constituency\n",
      "BULAWAYO CENTRAL Constituency, the results are\n",
      "In respect of BUDIRIRO Constituency, the results are as follows:\n",
      "In respect of BUHERA CENTRAL Constituency, the results are as follows:\n",
      "In respect of BINDURA NORTH CONSTITUENCY, the results are as\n",
      "Consituency\n",
      "In respect of BIKITA EAST constituency, the results are as follows:\n",
      "nan\n",
      "Constituency\n"
     ]
    }
   ],
   "source": [
    "for n in dnames:\n",
    "    print(dfs[n].iloc[3,0])"
   ]
  },
  {
   "cell_type": "code",
   "execution_count": 138,
   "metadata": {},
   "outputs": [
    {
     "data": {
      "text/html": [
       "<div>\n",
       "<table border=\"1\" class=\"dataframe\">\n",
       "  <thead>\n",
       "    <tr style=\"text-align: right;\">\n",
       "      <th></th>\n",
       "      <th>constituency</th>\n",
       "      <th>candidate</th>\n",
       "      <th>sex</th>\n",
       "      <th>party</th>\n",
       "      <th>votes</th>\n",
       "    </tr>\n",
       "  </thead>\n",
       "  <tbody>\n",
       "    <tr>\n",
       "      <th>0</th>\n",
       "      <td>NaN</td>\n",
       "      <td>NaN</td>\n",
       "      <td>NaN</td>\n",
       "      <td>NaN</td>\n",
       "      <td>NaN</td>\n",
       "    </tr>\n",
       "    <tr>\n",
       "      <th>1</th>\n",
       "      <td>NaN</td>\n",
       "      <td>In respect of</td>\n",
       "      <td>Chikomba Central Constituency, the results are...</td>\n",
       "      <td>NaN</td>\n",
       "      <td>NaN</td>\n",
       "    </tr>\n",
       "    <tr>\n",
       "      <th>2</th>\n",
       "      <td>NaN</td>\n",
       "      <td>NaN</td>\n",
       "      <td>NaN</td>\n",
       "      <td>NaN</td>\n",
       "      <td>NaN</td>\n",
       "    </tr>\n",
       "    <tr>\n",
       "      <th>3</th>\n",
       "      <td>Constituency</td>\n",
       "      <td>Name of Candidate</td>\n",
       "      <td>Sex Party  Votes Received</td>\n",
       "      <td>NaN</td>\n",
       "      <td>NaN</td>\n",
       "    </tr>\n",
       "    <tr>\n",
       "      <th>4</th>\n",
       "      <td>Chikomba Central Constituency, the results are...</td>\n",
       "      <td>Chandiwana Ngonidzashe</td>\n",
       "      <td>NaN</td>\n",
       "      <td>NaN</td>\n",
       "      <td>1456</td>\n",
       "    </tr>\n",
       "  </tbody>\n",
       "</table>\n",
       "</div>"
      ],
      "text/plain": [
       "                                        constituency               candidate  \\\n",
       "0                                                NaN                     NaN   \n",
       "1                                                NaN           In respect of   \n",
       "2                                                NaN                     NaN   \n",
       "3                                       Constituency       Name of Candidate   \n",
       "4  Chikomba Central Constituency, the results are...  Chandiwana Ngonidzashe   \n",
       "\n",
       "                                                 sex party votes  \n",
       "0                                                NaN   NaN   NaN  \n",
       "1  Chikomba Central Constituency, the results are...   NaN   NaN  \n",
       "2                                                NaN   NaN   NaN  \n",
       "3                          Sex Party  Votes Received   NaN   NaN  \n",
       "4                                                NaN   NaN  1456  "
      ]
     },
     "execution_count": 138,
     "metadata": {},
     "output_type": "execute_result"
    }
   ],
   "source": [
    "# combine all the dataframes into one\n",
    "combo = pd.concat([dfs[n].copy() for n in dnames], axis = 0); combo.head()"
   ]
  },
  {
   "cell_type": "code",
   "execution_count": 139,
   "metadata": {},
   "outputs": [],
   "source": [
    "# Reindex First!\n",
    "combo.index = range(len(combo))"
   ]
  },
  {
   "cell_type": "markdown",
   "metadata": {},
   "source": [
    "## Combine and Drop Irrelevant Columns"
   ]
  },
  {
   "cell_type": "code",
   "execution_count": 140,
   "metadata": {},
   "outputs": [
    {
     "data": {
      "text/plain": [
       "constituency    object\n",
       "candidate       object\n",
       "sex             object\n",
       "party           object\n",
       "votes           object\n",
       "dtype: object"
      ]
     },
     "execution_count": 140,
     "metadata": {},
     "output_type": "execute_result"
    }
   ],
   "source": [
    "combo.dtypes"
   ]
  },
  {
   "cell_type": "code",
   "execution_count": 141,
   "metadata": {},
   "outputs": [
    {
     "data": {
      "text/plain": [
       "(3119, 5)"
      ]
     },
     "execution_count": 141,
     "metadata": {},
     "output_type": "execute_result"
    }
   ],
   "source": [
    "combo.shape"
   ]
  },
  {
   "cell_type": "code",
   "execution_count": 142,
   "metadata": {},
   "outputs": [
    {
     "data": {
      "text/html": [
       "<div>\n",
       "<table border=\"1\" class=\"dataframe\">\n",
       "  <thead>\n",
       "    <tr style=\"text-align: right;\">\n",
       "      <th></th>\n",
       "      <th>constituency</th>\n",
       "      <th>candidate</th>\n",
       "      <th>sex</th>\n",
       "      <th>party</th>\n",
       "      <th>votes</th>\n",
       "    </tr>\n",
       "  </thead>\n",
       "  <tbody>\n",
       "    <tr>\n",
       "      <th>count</th>\n",
       "      <td>2468</td>\n",
       "      <td>2343</td>\n",
       "      <td>1884</td>\n",
       "      <td>1841</td>\n",
       "      <td>1885</td>\n",
       "    </tr>\n",
       "    <tr>\n",
       "      <th>unique</th>\n",
       "      <td>211</td>\n",
       "      <td>1899</td>\n",
       "      <td>54</td>\n",
       "      <td>176</td>\n",
       "      <td>1075</td>\n",
       "    </tr>\n",
       "    <tr>\n",
       "      <th>top</th>\n",
       "      <td>Constituency</td>\n",
       "      <td>Name of Candidate</td>\n",
       "      <td>M</td>\n",
       "      <td>ZANU PF</td>\n",
       "      <td>Votes Received</td>\n",
       "    </tr>\n",
       "    <tr>\n",
       "      <th>freq</th>\n",
       "      <td>185</td>\n",
       "      <td>131</td>\n",
       "      <td>1380</td>\n",
       "      <td>144</td>\n",
       "      <td>69</td>\n",
       "    </tr>\n",
       "  </tbody>\n",
       "</table>\n",
       "</div>"
      ],
      "text/plain": [
       "        constituency          candidate   sex    party           votes\n",
       "count           2468               2343  1884     1841            1885\n",
       "unique           211               1899    54      176            1075\n",
       "top     Constituency  Name of Candidate     M  ZANU PF  Votes Received\n",
       "freq             185                131  1380      144              69"
      ]
     },
     "execution_count": 142,
     "metadata": {},
     "output_type": "execute_result"
    }
   ],
   "source": [
    "combo.describe()"
   ]
  },
  {
   "cell_type": "code",
   "execution_count": 143,
   "metadata": {},
   "outputs": [],
   "source": [
    "# clean up text, later\n",
    "for c in combo.columns:\n",
    "    combo.loc[:, c]= combo[c].apply(lambda x: str(x).strip().lower())"
   ]
  },
  {
   "cell_type": "code",
   "execution_count": 144,
   "metadata": {},
   "outputs": [
    {
     "data": {
      "text/html": [
       "<div>\n",
       "<table border=\"1\" class=\"dataframe\">\n",
       "  <thead>\n",
       "    <tr style=\"text-align: right;\">\n",
       "      <th></th>\n",
       "      <th>constituency</th>\n",
       "      <th>candidate</th>\n",
       "      <th>sex</th>\n",
       "      <th>party</th>\n",
       "      <th>votes</th>\n",
       "    </tr>\n",
       "  </thead>\n",
       "  <tbody>\n",
       "    <tr>\n",
       "      <th>0</th>\n",
       "      <td>nan</td>\n",
       "      <td>nan</td>\n",
       "      <td>nan</td>\n",
       "      <td>nan</td>\n",
       "      <td>nan</td>\n",
       "    </tr>\n",
       "    <tr>\n",
       "      <th>1</th>\n",
       "      <td>nan</td>\n",
       "      <td>in respect of</td>\n",
       "      <td>chikomba central constituency, the results are...</td>\n",
       "      <td>nan</td>\n",
       "      <td>nan</td>\n",
       "    </tr>\n",
       "    <tr>\n",
       "      <th>2</th>\n",
       "      <td>nan</td>\n",
       "      <td>nan</td>\n",
       "      <td>nan</td>\n",
       "      <td>nan</td>\n",
       "      <td>nan</td>\n",
       "    </tr>\n",
       "    <tr>\n",
       "      <th>3</th>\n",
       "      <td>constituency</td>\n",
       "      <td>name of candidate</td>\n",
       "      <td>sex party  votes received</td>\n",
       "      <td>nan</td>\n",
       "      <td>nan</td>\n",
       "    </tr>\n",
       "    <tr>\n",
       "      <th>4</th>\n",
       "      <td>chikomba central constituency, the results are...</td>\n",
       "      <td>chandiwana ngonidzashe</td>\n",
       "      <td>nan</td>\n",
       "      <td>nan</td>\n",
       "      <td>1456</td>\n",
       "    </tr>\n",
       "  </tbody>\n",
       "</table>\n",
       "</div>"
      ],
      "text/plain": [
       "                                        constituency               candidate  \\\n",
       "0                                                nan                     nan   \n",
       "1                                                nan           in respect of   \n",
       "2                                                nan                     nan   \n",
       "3                                       constituency       name of candidate   \n",
       "4  chikomba central constituency, the results are...  chandiwana ngonidzashe   \n",
       "\n",
       "                                                 sex party votes  \n",
       "0                                                nan   nan   nan  \n",
       "1  chikomba central constituency, the results are...   nan   nan  \n",
       "2                                                nan   nan   nan  \n",
       "3                          sex party  votes received   nan   nan  \n",
       "4                                                nan   nan  1456  "
      ]
     },
     "execution_count": 144,
     "metadata": {},
     "output_type": "execute_result"
    }
   ],
   "source": [
    "combo.head()"
   ]
  },
  {
   "cell_type": "code",
   "execution_count": 145,
   "metadata": {},
   "outputs": [
    {
     "data": {
      "text/html": [
       "<div>\n",
       "<table border=\"1\" class=\"dataframe\">\n",
       "  <thead>\n",
       "    <tr style=\"text-align: right;\">\n",
       "      <th></th>\n",
       "      <th>constituency</th>\n",
       "      <th>candidate</th>\n",
       "      <th>sex</th>\n",
       "      <th>party</th>\n",
       "      <th>votes</th>\n",
       "    </tr>\n",
       "  </thead>\n",
       "  <tbody>\n",
       "    <tr>\n",
       "      <th>0</th>\n",
       "      <td>True</td>\n",
       "      <td>True</td>\n",
       "      <td>True</td>\n",
       "      <td>True</td>\n",
       "      <td>True</td>\n",
       "    </tr>\n",
       "    <tr>\n",
       "      <th>1</th>\n",
       "      <td>True</td>\n",
       "      <td>False</td>\n",
       "      <td>False</td>\n",
       "      <td>True</td>\n",
       "      <td>True</td>\n",
       "    </tr>\n",
       "  </tbody>\n",
       "</table>\n",
       "</div>"
      ],
      "text/plain": [
       "  constituency candidate    sex party votes\n",
       "0         True      True   True  True  True\n",
       "1         True     False  False  True  True"
      ]
     },
     "execution_count": 145,
     "metadata": {},
     "output_type": "execute_result"
    }
   ],
   "source": [
    "combo.head(2)=='nan'"
   ]
  },
  {
   "cell_type": "code",
   "execution_count": 146,
   "metadata": {},
   "outputs": [
    {
     "name": "stdout",
     "output_type": "stream",
     "text": [
      "<class 'pandas.core.frame.DataFrame'>\n",
      "RangeIndex: 3119 entries, 0 to 3118\n",
      "Data columns (total 5 columns):\n",
      "constituency    3119 non-null object\n",
      "candidate       3119 non-null object\n",
      "sex             3119 non-null object\n",
      "party           3119 non-null object\n",
      "votes           3119 non-null object\n",
      "dtypes: object(5)\n",
      "memory usage: 121.9+ KB\n"
     ]
    }
   ],
   "source": [
    "combo.info()"
   ]
  },
  {
   "cell_type": "code",
   "execution_count": 147,
   "metadata": {},
   "outputs": [
    {
     "data": {
      "text/plain": [
       "(190, 5)"
      ]
     },
     "execution_count": 147,
     "metadata": {},
     "output_type": "execute_result"
    }
   ],
   "source": [
    "nulls_all = (combo['constituency']=='nan') & (combo['candidate']=='nan') \\\n",
    "& (combo['sex']=='nan') & (combo['party']=='nan') & (combo['votes']=='nan'  )\n",
    "nulls_all_idx = combo[nulls_all].index\n",
    "combo[nulls_all].shape"
   ]
  },
  {
   "cell_type": "code",
   "execution_count": 148,
   "metadata": {},
   "outputs": [
    {
     "name": "stdout",
     "output_type": "stream",
     "text": [
      "(3119, 5)\n",
      "(2929, 5)\n"
     ]
    }
   ],
   "source": [
    "# Filter out the columns with all null\n",
    "print(combo.shape)\n",
    "combo = combo.drop(nulls_all_idx, axis=0).copy()\n",
    "print(combo.shape)"
   ]
  },
  {
   "cell_type": "code",
   "execution_count": 149,
   "metadata": {},
   "outputs": [
    {
     "data": {
      "text/plain": [
       "(461, 5)"
      ]
     },
     "execution_count": 149,
     "metadata": {},
     "output_type": "execute_result"
    }
   ],
   "source": [
    "nulls_const = combo.constituency=='nan'\n",
    "nulls_const_idx = combo[nulls_const].index\n",
    "combo[nulls_const].to_excel(\"parly_clean_constituency_null.xlsx\")\n",
    "combo[nulls_const].shape"
   ]
  },
  {
   "cell_type": "code",
   "execution_count": 150,
   "metadata": {},
   "outputs": [
    {
     "name": "stdout",
     "output_type": "stream",
     "text": [
      "(2929, 5)\n",
      "(2468, 5)\n"
     ]
    }
   ],
   "source": [
    "# Filter out the columns with null constituency\n",
    "print(combo.shape)\n",
    "combo = combo.drop(nulls_const_idx, axis=0).copy()\n",
    "print(combo.shape)"
   ]
  },
  {
   "cell_type": "code",
   "execution_count": 151,
   "metadata": {},
   "outputs": [
    {
     "data": {
      "text/plain": [
       "(376, 5)"
      ]
     },
     "execution_count": 151,
     "metadata": {},
     "output_type": "execute_result"
    }
   ],
   "source": [
    "only_const = (combo['constituency']!='nan') & (combo['candidate']=='nan') \\\n",
    "& (combo['sex']=='nan') & (combo['party']=='nan') & (combo['votes']=='nan'  )\n",
    "only_const_idx = combo[only_const].index\n",
    "combo[only_const].to_excel(\"parly_clean_allbutconst_null.xlsx\")\n",
    "combo[only_const].shape"
   ]
  },
  {
   "cell_type": "code",
   "execution_count": 152,
   "metadata": {},
   "outputs": [
    {
     "name": "stdout",
     "output_type": "stream",
     "text": [
      "(2468, 5)\n",
      "(2092, 5)\n"
     ]
    }
   ],
   "source": [
    "# Filter out the columns with ONLY constituency\n",
    "print(combo.shape)\n",
    "combo = combo.drop(only_const_idx, axis=0).copy()\n",
    "print(combo.shape)"
   ]
  },
  {
   "cell_type": "code",
   "execution_count": 153,
   "metadata": {},
   "outputs": [
    {
     "data": {
      "text/plain": [
       "constituency    0\n",
       "candidate       0\n",
       "sex             0\n",
       "party           0\n",
       "votes           0\n",
       "dtype: int64"
      ]
     },
     "execution_count": 153,
     "metadata": {},
     "output_type": "execute_result"
    }
   ],
   "source": [
    "combo.isnull().sum()"
   ]
  },
  {
   "cell_type": "code",
   "execution_count": 154,
   "metadata": {},
   "outputs": [
    {
     "data": {
      "text/html": [
       "<div>\n",
       "<table border=\"1\" class=\"dataframe\">\n",
       "  <thead>\n",
       "    <tr style=\"text-align: right;\">\n",
       "      <th></th>\n",
       "      <th>constituency</th>\n",
       "      <th>candidate</th>\n",
       "      <th>sex</th>\n",
       "      <th>party</th>\n",
       "      <th>votes</th>\n",
       "    </tr>\n",
       "  </thead>\n",
       "  <tbody>\n",
       "    <tr>\n",
       "      <th>count</th>\n",
       "      <td>2092</td>\n",
       "      <td>2092</td>\n",
       "      <td>2092</td>\n",
       "      <td>2092</td>\n",
       "      <td>2092</td>\n",
       "    </tr>\n",
       "    <tr>\n",
       "      <th>unique</th>\n",
       "      <td>210</td>\n",
       "      <td>1751</td>\n",
       "      <td>8</td>\n",
       "      <td>141</td>\n",
       "      <td>1056</td>\n",
       "    </tr>\n",
       "    <tr>\n",
       "      <th>top</th>\n",
       "      <td>constituency</td>\n",
       "      <td>name of candidate</td>\n",
       "      <td>m</td>\n",
       "      <td>nan</td>\n",
       "      <td>nan</td>\n",
       "    </tr>\n",
       "    <tr>\n",
       "      <th>freq</th>\n",
       "      <td>185</td>\n",
       "      <td>187</td>\n",
       "      <td>1380</td>\n",
       "      <td>277</td>\n",
       "      <td>341</td>\n",
       "    </tr>\n",
       "  </tbody>\n",
       "</table>\n",
       "</div>"
      ],
      "text/plain": [
       "        constituency          candidate   sex party votes\n",
       "count           2092               2092  2092  2092  2092\n",
       "unique           210               1751     8   141  1056\n",
       "top     constituency  name of candidate     m   nan   nan\n",
       "freq             185                187  1380   277   341"
      ]
     },
     "execution_count": 154,
     "metadata": {},
     "output_type": "execute_result"
    }
   ],
   "source": [
    "combo.describe()"
   ]
  },
  {
   "cell_type": "code",
   "execution_count": 155,
   "metadata": {},
   "outputs": [],
   "source": [
    "combo.to_excel('parly_clean_round1.xlsx')"
   ]
  },
  {
   "cell_type": "code",
   "execution_count": 156,
   "metadata": {},
   "outputs": [],
   "source": [
    "old_colnames = (combo['constituency']=='constituency') | (combo['constituency']=='consituency') \\\n",
    "                | (combo['constituency']=='results of poll') | (combo['votes']=='results of poll') \\\n",
    "    | (combo['party']=='results of poll') | (combo['candidate']=='results of poll') \\\n",
    "    | (combo['sex']=='results of poll') | (combo['sex']=='sex')\n",
    "old_colnames_idx = combo[old_colnames].index\n",
    "combo[old_colnames].to_excel(\"parly_clean_oldcolumnnames.xlsx\")"
   ]
  },
  {
   "cell_type": "code",
   "execution_count": 157,
   "metadata": {},
   "outputs": [
    {
     "name": "stdout",
     "output_type": "stream",
     "text": [
      "(2092, 5)\n",
      "(1800, 5)\n"
     ]
    }
   ],
   "source": [
    "# Filter out the columns with all null\n",
    "print(combo.shape)\n",
    "combo = combo.drop(old_colnames_idx, axis=0).copy()\n",
    "print(combo.shape)"
   ]
  },
  {
   "cell_type": "code",
   "execution_count": 158,
   "metadata": {},
   "outputs": [],
   "source": [
    "combo.to_excel('parly_clean_round2.xlsx')"
   ]
  },
  {
   "cell_type": "code",
   "execution_count": 159,
   "metadata": {},
   "outputs": [],
   "source": [
    "chk = ['kariba', 'sanyati', 'mwenezi east', 'zaka north', 'gwanda south', 'chikomba']\n",
    "parwin[(parwin['constituency']=='kariba' ) | \n",
    "        (parwin['constituency']== 'sanyati') | \n",
    "        (parwin['constituency']== 'mwenezi east') |\n",
    "        (parwin['constituency']=='zaka north') | \n",
    "        (parwin['constituency']== 'gwanda south') |\n",
    "               (parwin['constituency']== 'chikomba central') |\n",
    "               (parwin['constituency']== 'muzarabani south') |\n",
    "               (parwin['constituency']== 'marondera west') |\n",
    "               (parwin['constituency']== 'mutoko south') |\n",
    "               (parwin['constituency']== 'chiredzi east') ];"
   ]
  },
  {
   "cell_type": "markdown",
   "metadata": {},
   "source": [
    "### Clean up constituency"
   ]
  },
  {
   "cell_type": "code",
   "execution_count": 160,
   "metadata": {},
   "outputs": [
    {
     "name": "stdout",
     "output_type": "stream",
     "text": [
      " 11    1335\n",
      "-1      465\n",
      "Name: constituency, dtype: int64\n"
     ]
    },
    {
     "data": {
      "text/plain": [
       "(465, 5)"
      ]
     },
     "execution_count": 160,
     "metadata": {},
     "output_type": "execute_result"
    }
   ],
   "source": [
    "# Use 'of' keyword to locate constituency\n",
    "unresolved = combo.copy()\n",
    "print(unresolved.constituency.str.find('of').value_counts())\n",
    "\n",
    "of_idx = unresolved[unresolved.constituency.str.find('of') > 0].index\n",
    "\n",
    "unresolved = unresolved.drop(of_idx, axis=0); unresolved.shape"
   ]
  },
  {
   "cell_type": "code",
   "execution_count": 161,
   "metadata": {},
   "outputs": [
    {
     "name": "stdout",
     "output_type": "stream",
     "text": [
      " 15    88\n",
      " 13    71\n",
      " 17    59\n",
      " 14    49\n",
      " 12    41\n",
      " 16    36\n",
      " 18    35\n",
      "-1     31\n",
      " 27    19\n",
      " 5     13\n",
      " 10    12\n",
      " 7      8\n",
      " 11     3\n",
      "Name: constituency, dtype: int64\n"
     ]
    },
    {
     "data": {
      "text/plain": [
       "(31, 5)"
      ]
     },
     "execution_count": 161,
     "metadata": {},
     "output_type": "execute_result"
    }
   ],
   "source": [
    "# Use 'constituency' keyword to locate constituency\n",
    "print(unresolved.constituency.str.find('constituency').value_counts())\n",
    "\n",
    "constituency_idx = unresolved[unresolved.constituency.str.find('constituency') > 0].index\n",
    "\n",
    "unresolved = unresolved.drop(constituency_idx, axis=0); unresolved.shape"
   ]
  },
  {
   "cell_type": "code",
   "execution_count": 162,
   "metadata": {},
   "outputs": [
    {
     "name": "stdout",
     "output_type": "stream",
     "text": [
      "14    18\n",
      "17     9\n",
      "15     4\n",
      "Name: constituency, dtype: int64\n"
     ]
    },
    {
     "data": {
      "text/plain": [
       "(0, 5)"
      ]
     },
     "execution_count": 162,
     "metadata": {},
     "output_type": "execute_result"
    }
   ],
   "source": [
    "# Use 'national' keyword to locate constituency\n",
    "print(unresolved.constituency.str.find('national').value_counts())\n",
    "\n",
    "national_idx = unresolved[unresolved.constituency.str.find('national') > 0].index\n",
    "\n",
    "unresolved = unresolved.drop(national_idx, axis=0); unresolved.shape"
   ]
  },
  {
   "cell_type": "code",
   "execution_count": 163,
   "metadata": {},
   "outputs": [
    {
     "data": {
      "text/plain": [
       "(0, 5)"
      ]
     },
     "execution_count": 163,
     "metadata": {},
     "output_type": "execute_result"
    }
   ],
   "source": [
    "unresolved.shape"
   ]
  },
  {
   "cell_type": "code",
   "execution_count": 164,
   "metadata": {},
   "outputs": [
    {
     "name": "stdout",
     "output_type": "stream",
     "text": [
      "1800 (1800, 5)\n"
     ]
    }
   ],
   "source": [
    "# Check exclusivity of indexes\n",
    "print(len(of_idx) + len(constituency_idx) + len(national_idx),combo.shape)"
   ]
  },
  {
   "cell_type": "markdown",
   "metadata": {},
   "source": [
    "## Back to Excel, Clean up then Load again!"
   ]
  },
  {
   "cell_type": "code",
   "execution_count": 165,
   "metadata": {},
   "outputs": [],
   "source": [
    "combo.to_excel(\"parly_clean_roundX_penultimate.xlsx\")"
   ]
  },
  {
   "cell_type": "markdown",
   "metadata": {},
   "source": [
    "## Read back in the cleaned data"
   ]
  },
  {
   "cell_type": "code",
   "execution_count": 166,
   "metadata": {},
   "outputs": [
    {
     "data": {
      "text/plain": [
       "(1800, 16)"
      ]
     },
     "execution_count": 166,
     "metadata": {},
     "output_type": "execute_result"
    }
   ],
   "source": [
    "votes_raw = pd.read_excel(\"parly_clean_roundX_penultimate_reload.xlsx\"); votes_raw.shape"
   ]
  },
  {
   "cell_type": "code",
   "execution_count": 167,
   "metadata": {},
   "outputs": [
    {
     "data": {
      "text/plain": [
       "Index(['constituency', 'candidate', 'sex', 'party', 'votes', 'Unnamed: 5',\n",
       "       'is_na', 'start', 'end', 'const1', 'const2', 'constituency_final',\n",
       "       'candidate_final', 'sex_final', 'party_final', 'votes_final'],\n",
       "      dtype='object')"
      ]
     },
     "execution_count": 167,
     "metadata": {},
     "output_type": "execute_result"
    }
   ],
   "source": [
    "votes_raw.columns"
   ]
  },
  {
   "cell_type": "code",
   "execution_count": 168,
   "metadata": {},
   "outputs": [
    {
     "name": "stdout",
     "output_type": "stream",
     "text": [
      "<class 'pandas.core.frame.DataFrame'>\n",
      "Int64Index: 1800 entries, 4 to 3118\n",
      "Data columns (total 16 columns):\n",
      "constituency          1800 non-null object\n",
      "candidate             1753 non-null object\n",
      "sex                   1626 non-null object\n",
      "party                 1667 non-null object\n",
      "votes                 1626 non-null object\n",
      "Unnamed: 5            0 non-null float64\n",
      "is_na                 1800 non-null int64\n",
      "start                 1800 non-null int64\n",
      "end                   1800 non-null int64\n",
      "const1                1800 non-null object\n",
      "const2                1800 non-null object\n",
      "constituency_final    1800 non-null object\n",
      "candidate_final       1800 non-null object\n",
      "sex_final             1800 non-null object\n",
      "party_final           1800 non-null object\n",
      "votes_final           1800 non-null object\n",
      "dtypes: float64(1), int64(3), object(12)\n",
      "memory usage: 239.1+ KB\n"
     ]
    }
   ],
   "source": [
    "votes_raw.info()"
   ]
  },
  {
   "cell_type": "code",
   "execution_count": 169,
   "metadata": {},
   "outputs": [],
   "source": [
    "votes_raw = votes_raw[['constituency_final','candidate_final', 'sex_final', 'party_final', 'votes_final']]\n",
    "votes_raw.columns = ['constituency','candidate', 'sex', 'party', 'votes']"
   ]
  },
  {
   "cell_type": "code",
   "execution_count": 170,
   "metadata": {},
   "outputs": [],
   "source": [
    "votes_raw = votes_raw[['constituency', 'candidate', 'sex', 'party', 'votes']]"
   ]
  },
  {
   "cell_type": "markdown",
   "metadata": {},
   "source": [
    "## Clean Up some more"
   ]
  },
  {
   "cell_type": "code",
   "execution_count": 171,
   "metadata": {},
   "outputs": [
    {
     "data": {
      "text/plain": [
       "174"
      ]
     },
     "execution_count": 171,
     "metadata": {},
     "output_type": "execute_result"
    }
   ],
   "source": [
    "# find where there are zeros \n",
    "zeros= (votes_raw['candidate']==0) & (votes_raw['sex']==0) & (votes_raw['party']==0)\n",
    "zeros_idx = votes_raw[zeros].index\n",
    "zeros.sum()"
   ]
  },
  {
   "cell_type": "code",
   "execution_count": 172,
   "metadata": {},
   "outputs": [
    {
     "name": "stdout",
     "output_type": "stream",
     "text": [
      "(1800, 5)\n",
      "(1626, 5)\n"
     ]
    }
   ],
   "source": [
    "# drop zeros\n",
    "print(votes_raw.shape)\n",
    "votes_raw.drop(zeros_idx, axis=0, inplace=True)\n",
    "print(votes_raw.shape)"
   ]
  },
  {
   "cell_type": "code",
   "execution_count": 173,
   "metadata": {},
   "outputs": [
    {
     "data": {
      "text/plain": [
       "'jk bbh'"
      ]
     },
     "execution_count": 173,
     "metadata": {},
     "output_type": "execute_result"
    }
   ],
   "source": [
    "# clean up all columns\n",
    "def removeNanVal(l):\n",
    "    try:\n",
    "        r=\" \".join([str(w).strip().lower() for w in l if w!='nan'])\n",
    "    except:\n",
    "        r = str(l).strip().lower()\n",
    "    return r\n",
    "removeNanVal(['nan', 'jk     ', ' bBh'])"
   ]
  },
  {
   "cell_type": "code",
   "execution_count": 174,
   "metadata": {},
   "outputs": [],
   "source": [
    "# remove the 'nan'\n",
    "for c in votes_raw.columns:\n",
    "    votes_raw.loc[:, c] = votes_raw[c].str.split().apply(lambda x : removeNanVal(x))\n",
    "    \n",
    "# change the votes columns to numerical\n",
    "votes_raw.loc[:, 'votes'] = pd.to_numeric(votes_raw['votes'].str.replace(\" \",\"\"))"
   ]
  },
  {
   "cell_type": "code",
   "execution_count": 175,
   "metadata": {},
   "outputs": [
    {
     "data": {
      "text/plain": [
       "81       12\n",
       "77        8\n",
       "75        8\n",
       "79        8\n",
       "127       7\n",
       "128       7\n",
       "166       7\n",
       "71        7\n",
       "76        7\n",
       "49        6\n",
       "93        6\n",
       "92        6\n",
       "160       6\n",
       "60        6\n",
       "176       6\n",
       "102       6\n",
       "172       6\n",
       "67        6\n",
       "69        6\n",
       "151       6\n",
       "165       6\n",
       "122       6\n",
       "104       6\n",
       "113       6\n",
       "142       6\n",
       "28        5\n",
       "56        5\n",
       "84        5\n",
       "116       5\n",
       "168       5\n",
       "         ..\n",
       "1080      1\n",
       "9212      1\n",
       "35893     1\n",
       "1075      1\n",
       "3119      1\n",
       "13358     1\n",
       "17451     1\n",
       "6962      1\n",
       "4409      1\n",
       "1062      1\n",
       "1060      1\n",
       "7203      1\n",
       "19488     1\n",
       "15390     1\n",
       "10357     1\n",
       "7195      1\n",
       "9241      1\n",
       "1048      1\n",
       "9087      1\n",
       "13330     1\n",
       "24271     1\n",
       "1037      1\n",
       "9228      1\n",
       "9227      1\n",
       "1033      1\n",
       "3080      1\n",
       "3079      1\n",
       "1029      1\n",
       "15276     1\n",
       "10932     1\n",
       "Name: votes, dtype: int64"
      ]
     },
     "execution_count": 175,
     "metadata": {},
     "output_type": "execute_result"
    }
   ],
   "source": [
    "votes_raw['votes'].value_counts()"
   ]
  },
  {
   "cell_type": "code",
   "execution_count": 176,
   "metadata": {},
   "outputs": [
    {
     "data": {
      "text/plain": [
       "constituency    0\n",
       "candidate       0\n",
       "sex             0\n",
       "party           0\n",
       "votes           0\n",
       "dtype: int64"
      ]
     },
     "execution_count": 176,
     "metadata": {},
     "output_type": "execute_result"
    }
   ],
   "source": [
    "votes_raw.isnull().sum()"
   ]
  },
  {
   "cell_type": "code",
   "execution_count": 177,
   "metadata": {},
   "outputs": [
    {
     "data": {
      "text/html": [
       "<div>\n",
       "<table border=\"1\" class=\"dataframe\">\n",
       "  <thead>\n",
       "    <tr style=\"text-align: right;\">\n",
       "      <th></th>\n",
       "      <th>votes</th>\n",
       "    </tr>\n",
       "  </thead>\n",
       "  <tbody>\n",
       "    <tr>\n",
       "      <th>count</th>\n",
       "      <td>1626.000000</td>\n",
       "    </tr>\n",
       "    <tr>\n",
       "      <th>mean</th>\n",
       "      <td>2886.009840</td>\n",
       "    </tr>\n",
       "    <tr>\n",
       "      <th>std</th>\n",
       "      <td>5167.629776</td>\n",
       "    </tr>\n",
       "    <tr>\n",
       "      <th>min</th>\n",
       "      <td>0.000000</td>\n",
       "    </tr>\n",
       "    <tr>\n",
       "      <th>25%</th>\n",
       "      <td>132.000000</td>\n",
       "    </tr>\n",
       "    <tr>\n",
       "      <th>50%</th>\n",
       "      <td>340.500000</td>\n",
       "    </tr>\n",
       "    <tr>\n",
       "      <th>75%</th>\n",
       "      <td>3140.750000</td>\n",
       "    </tr>\n",
       "    <tr>\n",
       "      <th>max</th>\n",
       "      <td>35893.000000</td>\n",
       "    </tr>\n",
       "  </tbody>\n",
       "</table>\n",
       "</div>"
      ],
      "text/plain": [
       "              votes\n",
       "count   1626.000000\n",
       "mean    2886.009840\n",
       "std     5167.629776\n",
       "min        0.000000\n",
       "25%      132.000000\n",
       "50%      340.500000\n",
       "75%     3140.750000\n",
       "max    35893.000000"
      ]
     },
     "execution_count": 177,
     "metadata": {},
     "output_type": "execute_result"
    }
   ],
   "source": [
    "votes_raw.describe()"
   ]
  },
  {
   "cell_type": "code",
   "execution_count": 178,
   "metadata": {},
   "outputs": [
    {
     "data": {
      "text/html": [
       "<div>\n",
       "<table border=\"1\" class=\"dataframe\">\n",
       "  <thead>\n",
       "    <tr style=\"text-align: right;\">\n",
       "      <th></th>\n",
       "      <th>constituency</th>\n",
       "      <th>candidate</th>\n",
       "      <th>sex</th>\n",
       "      <th>party</th>\n",
       "    </tr>\n",
       "  </thead>\n",
       "  <tbody>\n",
       "    <tr>\n",
       "      <th>count</th>\n",
       "      <td>1626</td>\n",
       "      <td>1626</td>\n",
       "      <td>1626</td>\n",
       "      <td>1626</td>\n",
       "    </tr>\n",
       "    <tr>\n",
       "      <th>unique</th>\n",
       "      <td>208</td>\n",
       "      <td>1624</td>\n",
       "      <td>2</td>\n",
       "      <td>109</td>\n",
       "    </tr>\n",
       "    <tr>\n",
       "      <th>top</th>\n",
       "      <td>magwegwe</td>\n",
       "      <td>moyo khumbulani</td>\n",
       "      <td>m</td>\n",
       "      <td>independent</td>\n",
       "    </tr>\n",
       "    <tr>\n",
       "      <th>freq</th>\n",
       "      <td>23</td>\n",
       "      <td>2</td>\n",
       "      <td>1380</td>\n",
       "      <td>229</td>\n",
       "    </tr>\n",
       "  </tbody>\n",
       "</table>\n",
       "</div>"
      ],
      "text/plain": [
       "       constituency        candidate   sex        party\n",
       "count          1626             1626  1626         1626\n",
       "unique          208             1624     2          109\n",
       "top        magwegwe  moyo khumbulani     m  independent\n",
       "freq             23                2  1380          229"
      ]
     },
     "execution_count": 178,
     "metadata": {},
     "output_type": "execute_result"
    }
   ],
   "source": [
    "votes_raw[['constituency', 'candidate', 'sex', 'party']].describe()"
   ]
  },
  {
   "cell_type": "code",
   "execution_count": 179,
   "metadata": {},
   "outputs": [
    {
     "name": "stdout",
     "output_type": "stream",
     "text": [
      "<class 'pandas.core.frame.DataFrame'>\n",
      "Int64Index: 1626 entries, 4 to 3118\n",
      "Data columns (total 5 columns):\n",
      "constituency    1626 non-null object\n",
      "candidate       1626 non-null object\n",
      "sex             1626 non-null object\n",
      "party           1626 non-null object\n",
      "votes           1626 non-null int64\n",
      "dtypes: int64(1), object(4)\n",
      "memory usage: 76.2+ KB\n"
     ]
    }
   ],
   "source": [
    "votes_raw.info()"
   ]
  },
  {
   "cell_type": "code",
   "execution_count": 180,
   "metadata": {},
   "outputs": [
    {
     "data": {
      "text/plain": [
       "(1626, 5)"
      ]
     },
     "execution_count": 180,
     "metadata": {},
     "output_type": "execute_result"
    }
   ],
   "source": [
    "parres = votes_raw.copy(); parres.shape"
   ]
  },
  {
   "cell_type": "markdown",
   "metadata": {},
   "source": [
    "## Check the constituencies"
   ]
  },
  {
   "cell_type": "code",
   "execution_count": 181,
   "metadata": {},
   "outputs": [
    {
     "name": "stdout",
     "output_type": "stream",
     "text": [
      "Constituencies in parly winner data 210 \n",
      "Constituencies in parly votes data 208\n"
     ]
    }
   ],
   "source": [
    "print(\"Constituencies in parly winner data\",len(set(parwin.constituency)),\"\\n\"\n",
    "      \"Constituencies in parly votes data\", len(set(parres.constituency)))"
   ]
  },
  {
   "cell_type": "code",
   "execution_count": 182,
   "metadata": {},
   "outputs": [
    {
     "data": {
      "text/plain": [
       "{'bikita south',\n",
       " 'chirumanzu/zibagwe',\n",
       " 'chiwundura',\n",
       " 'dzivarasekwa',\n",
       " 'emakhandeni-entumbane',\n",
       " 'glenview north',\n",
       " 'glenview south',\n",
       " 'gokwe-chireya',\n",
       " 'gokwe-gumunyu',\n",
       " 'gokwe-kabuyuni',\n",
       " 'gokwe-nembudziya',\n",
       " 'mabvuku-tafara',\n",
       " 'mhondoro-ngezi',\n",
       " 'mount pleasant',\n",
       " 'mt darwin east',\n",
       " 'mt darwin north',\n",
       " 'mt darwin south',\n",
       " 'mt darwin west',\n",
       " 'mudzi north',\n",
       " 'mudzi south',\n",
       " 'st marys'}"
      ]
     },
     "execution_count": 182,
     "metadata": {},
     "output_type": "execute_result"
    }
   ],
   "source": [
    "set(parwin.constituency)-set(parres.constituency)"
   ]
  },
  {
   "cell_type": "code",
   "execution_count": 183,
   "metadata": {},
   "outputs": [
    {
     "data": {
      "text/plain": [
       "{'bikita sout',\n",
       " 'chirumanzu zibagwe',\n",
       " 'chiundura',\n",
       " 'dzivaresekwa',\n",
       " 'emakhandeni/entumban',\n",
       " 'glen view north',\n",
       " 'glen view south',\n",
       " 'gokwe chireya',\n",
       " 'gokwe gumunyu',\n",
       " 'gokwe kabuyuni',\n",
       " 'gokwe nembudziya',\n",
       " 'mabvuku tafara',\n",
       " 'mhondoro - ngezi',\n",
       " 'mount darwin east',\n",
       " 'mount darwin north',\n",
       " 'mount darwin south',\n",
       " 'mount darwin west',\n",
       " 'mt pleasant',\n",
       " 'st mary’s'}"
      ]
     },
     "execution_count": 183,
     "metadata": {},
     "output_type": "execute_result"
    }
   ],
   "source": [
    "set(parres.constituency)-set(parwin.constituency)"
   ]
  },
  {
   "cell_type": "code",
   "execution_count": 184,
   "metadata": {},
   "outputs": [],
   "source": [
    "# Apply map to rename constituencies - from parly_clean_missingconstituencies.xlsx\n",
    "const_map = { 'chirumanzu/zibagwe': 'chirumanzu-zibagwe',\n",
    " 'mount pleasant': 'mt pleasant',\n",
    " 'bikita sout':'bikita south',\n",
    " 'chirumanzu zibagwe': 'chirumanzu-zibagwe',\n",
    " 'chiundura': 'chiwundura',\n",
    " 'dzivaresekwa':'dzivarasekwa',\n",
    " 'emakhandeni/entumban': 'emakhandeni-entumbane',\n",
    " 'glen view north': 'glenview north',\n",
    " 'glen view south': 'glenview south',\n",
    " 'gokwe chireya': 'gokwe-chireya',\n",
    " 'gokwe gumunyu': 'gokwe-gumunyu',\n",
    " 'gokwe kabuyuni': 'gokwe-kabuyuni',\n",
    " 'gokwe nembudziya': 'gokwe-nembudziya',\n",
    " 'mabvuku tafara': 'mabvuku-tafara',\n",
    " 'mhondoro - ngezi': 'mhondoro-ngezi',\n",
    " 'mount darwin east': 'mt darwin east',\n",
    " 'mount darwin north': 'mt darwin north',\n",
    " 'mount darwin south': 'mt darwin south',\n",
    " 'mount darwin west': 'mt darwin west',\n",
    "'st marys':\"st mary’s\",\n",
    " 'zvishavane runde':'zvishavane-runde'\n",
    "}\n",
    "\n",
    "parwin.loc[:, 'constituency'] = parwin.loc[:, 'constituency'].replace(const_map)\n",
    "parres.loc[:, 'constituency'] =parres.loc[:, 'constituency'].replace(const_map)"
   ]
  },
  {
   "cell_type": "code",
   "execution_count": 185,
   "metadata": {},
   "outputs": [
    {
     "data": {
      "text/plain": [
       "constituency    chikomba centralchikomba centralchikomba centr...\n",
       "candidate       chandiwana ngonidzashe shiridenga pinielmhona ...\n",
       "sex             mmmmmmmmfmfmmmmmmmmmmfmmmmmmfmmffmffmmmmmmmmmm...\n",
       "party           independentmdc-alliancezanu pfbuild zimbabwe a...\n",
       "votes                                                     4692652\n",
       "dtype: object"
      ]
     },
     "execution_count": 185,
     "metadata": {},
     "output_type": "execute_result"
    }
   ],
   "source": [
    "# Change votes from string to number, if not already. check\n",
    "parres.sum()"
   ]
  },
  {
   "cell_type": "code",
   "execution_count": 186,
   "metadata": {},
   "outputs": [],
   "source": [
    "# Get provinces\n",
    "parres =pd.merge(parres, parwin, how=\"left\", left_on=\"constituency\", right_on=\"constituency\")[[\n",
    "    'province','constituency', 'candidate','sex_x',  'party_x','votes'] ]\n",
    "parres.columns = ['province','constituency', 'candidate','sex',  'party','votes']"
   ]
  },
  {
   "cell_type": "code",
   "execution_count": 187,
   "metadata": {},
   "outputs": [
    {
     "name": "stdout",
     "output_type": "stream",
     "text": [
      "Missing from Constituency winners data set()\n",
      "Missing from Constituency votes data {'mudzi north', 'mudzi south'}\n"
     ]
    }
   ],
   "source": [
    "# Show whats still missing in each\n",
    "missingW =  set(parres.constituency)-set(parwin.constituency)\n",
    "missingR= set(parwin.constituency)-set(parres.constituency)\n",
    "print(\"Missing from Constituency winners data\", missingW)\n",
    "print(\"Missing from Constituency votes data\", missingR)\n",
    "#Mash East"
   ]
  },
  {
   "cell_type": "markdown",
   "metadata": {},
   "source": [
    "### Keep checking - Mudzi South and Mudzi North Missing from released Mash East pdf provincial results (ZEC website)"
   ]
  },
  {
   "cell_type": "code",
   "execution_count": 188,
   "metadata": {},
   "outputs": [
    {
     "data": {
      "text/html": [
       "<div>\n",
       "<table border=\"1\" class=\"dataframe\">\n",
       "  <thead>\n",
       "    <tr style=\"text-align: right;\">\n",
       "      <th></th>\n",
       "      <th>province</th>\n",
       "      <th>constituency</th>\n",
       "      <th>candidate</th>\n",
       "      <th>sex</th>\n",
       "      <th>party</th>\n",
       "    </tr>\n",
       "  </thead>\n",
       "  <tbody>\n",
       "    <tr>\n",
       "      <th>count</th>\n",
       "      <td>1626</td>\n",
       "      <td>1626</td>\n",
       "      <td>1626</td>\n",
       "      <td>1626</td>\n",
       "      <td>1626</td>\n",
       "    </tr>\n",
       "    <tr>\n",
       "      <th>unique</th>\n",
       "      <td>10</td>\n",
       "      <td>208</td>\n",
       "      <td>1624</td>\n",
       "      <td>2</td>\n",
       "      <td>109</td>\n",
       "    </tr>\n",
       "    <tr>\n",
       "      <th>top</th>\n",
       "      <td>harare</td>\n",
       "      <td>magwegwe</td>\n",
       "      <td>moyo khumbulani</td>\n",
       "      <td>m</td>\n",
       "      <td>independent</td>\n",
       "    </tr>\n",
       "    <tr>\n",
       "      <th>freq</th>\n",
       "      <td>317</td>\n",
       "      <td>23</td>\n",
       "      <td>2</td>\n",
       "      <td>1380</td>\n",
       "      <td>229</td>\n",
       "    </tr>\n",
       "  </tbody>\n",
       "</table>\n",
       "</div>"
      ],
      "text/plain": [
       "       province constituency        candidate   sex        party\n",
       "count      1626         1626             1626  1626         1626\n",
       "unique       10          208             1624     2          109\n",
       "top      harare     magwegwe  moyo khumbulani     m  independent\n",
       "freq        317           23                2  1380          229"
      ]
     },
     "execution_count": 188,
     "metadata": {},
     "output_type": "execute_result"
    }
   ],
   "source": [
    "parres.drop('votes', axis=1).describe()"
   ]
  },
  {
   "cell_type": "code",
   "execution_count": 189,
   "metadata": {},
   "outputs": [
    {
     "data": {
      "text/html": [
       "<div>\n",
       "<table border=\"1\" class=\"dataframe\">\n",
       "  <thead>\n",
       "    <tr style=\"text-align: right;\">\n",
       "      <th></th>\n",
       "      <th>province</th>\n",
       "      <th>constituency</th>\n",
       "      <th>candidate</th>\n",
       "      <th>sex</th>\n",
       "      <th>party</th>\n",
       "      <th>votes</th>\n",
       "    </tr>\n",
       "  </thead>\n",
       "  <tbody>\n",
       "    <tr>\n",
       "      <th>0</th>\n",
       "      <td>mash east</td>\n",
       "      <td>chikomba central</td>\n",
       "      <td>chandiwana ngonidzashe shiri</td>\n",
       "      <td>m</td>\n",
       "      <td>independent</td>\n",
       "      <td>1456</td>\n",
       "    </tr>\n",
       "    <tr>\n",
       "      <th>1</th>\n",
       "      <td>mash east</td>\n",
       "      <td>chikomba central</td>\n",
       "      <td>denga piniel</td>\n",
       "      <td>m</td>\n",
       "      <td>mdc-alliance</td>\n",
       "      <td>4537</td>\n",
       "    </tr>\n",
       "    <tr>\n",
       "      <th>2</th>\n",
       "      <td>mash east</td>\n",
       "      <td>chikomba central</td>\n",
       "      <td>mhona felix tapiwa</td>\n",
       "      <td>m</td>\n",
       "      <td>zanu pf</td>\n",
       "      <td>7543</td>\n",
       "    </tr>\n",
       "    <tr>\n",
       "      <th>3</th>\n",
       "      <td>mash east</td>\n",
       "      <td>chikomba central</td>\n",
       "      <td>mugaduyi situta</td>\n",
       "      <td>m</td>\n",
       "      <td>build zimbabwe alliance</td>\n",
       "      <td>93</td>\n",
       "    </tr>\n",
       "    <tr>\n",
       "      <th>4</th>\n",
       "      <td>mash east</td>\n",
       "      <td>chikomba central</td>\n",
       "      <td>mugova eddington</td>\n",
       "      <td>m</td>\n",
       "      <td>united democracy movement</td>\n",
       "      <td>70</td>\n",
       "    </tr>\n",
       "  </tbody>\n",
       "</table>\n",
       "</div>"
      ],
      "text/plain": [
       "    province      constituency                     candidate sex  \\\n",
       "0  mash east  chikomba central  chandiwana ngonidzashe shiri   m   \n",
       "1  mash east  chikomba central                  denga piniel   m   \n",
       "2  mash east  chikomba central            mhona felix tapiwa   m   \n",
       "3  mash east  chikomba central               mugaduyi situta   m   \n",
       "4  mash east  chikomba central              mugova eddington   m   \n",
       "\n",
       "                       party  votes  \n",
       "0                independent   1456  \n",
       "1               mdc-alliance   4537  \n",
       "2                    zanu pf   7543  \n",
       "3    build zimbabwe alliance     93  \n",
       "4  united democracy movement     70  "
      ]
     },
     "execution_count": 189,
     "metadata": {},
     "output_type": "execute_result"
    }
   ],
   "source": [
    "parres.head()"
   ]
  },
  {
   "cell_type": "code",
   "execution_count": 190,
   "metadata": {},
   "outputs": [
    {
     "data": {
      "text/plain": [
       "0"
      ]
     },
     "execution_count": 190,
     "metadata": {},
     "output_type": "execute_result"
    }
   ],
   "source": [
    "#parres[parres.candidate.duplicated(keep=False)].sort_values(by='candidate')\n",
    "\n",
    "parres[['constituency', 'candidate']].duplicated().sum()"
   ]
  },
  {
   "cell_type": "code",
   "execution_count": 191,
   "metadata": {},
   "outputs": [
    {
     "data": {
      "text/plain": [
       "0"
      ]
     },
     "execution_count": 191,
     "metadata": {},
     "output_type": "execute_result"
    }
   ],
   "source": [
    "parres[['constituency', 'candidate', 'party']].duplicated().sum()"
   ]
  },
  {
   "cell_type": "code",
   "execution_count": 192,
   "metadata": {},
   "outputs": [
    {
     "data": {
      "text/plain": [
       "array(['m', 'f'], dtype=object)"
      ]
     },
     "execution_count": 192,
     "metadata": {},
     "output_type": "execute_result"
    }
   ],
   "source": [
    "parres['sex'].unique()"
   ]
  },
  {
   "cell_type": "code",
   "execution_count": 193,
   "metadata": {},
   "outputs": [
    {
     "data": {
      "text/html": [
       "<div>\n",
       "<table border=\"1\" class=\"dataframe\">\n",
       "  <thead>\n",
       "    <tr style=\"text-align: right;\">\n",
       "      <th></th>\n",
       "      <th>province</th>\n",
       "      <th>constituency</th>\n",
       "      <th>candidate</th>\n",
       "      <th>sex</th>\n",
       "      <th>party</th>\n",
       "      <th>votes</th>\n",
       "    </tr>\n",
       "  </thead>\n",
       "  <tbody>\n",
       "  </tbody>\n",
       "</table>\n",
       "</div>"
      ],
      "text/plain": [
       "Empty DataFrame\n",
       "Columns: [province, constituency, candidate, sex, party, votes]\n",
       "Index: []"
      ]
     },
     "execution_count": 193,
     "metadata": {},
     "output_type": "execute_result"
    }
   ],
   "source": [
    "parres[parres['sex']=='m sex']"
   ]
  },
  {
   "cell_type": "code",
   "execution_count": 194,
   "metadata": {},
   "outputs": [],
   "source": [
    "inR = set(parres.party); inW=set(parres.party)"
   ]
  },
  {
   "cell_type": "code",
   "execution_count": 195,
   "metadata": {},
   "outputs": [
    {
     "data": {
      "text/plain": [
       "{'# 1980 chinhu chedu',\n",
       " '# 1980 freedom movement zimbabwe',\n",
       " 'alliance',\n",
       " 'ansa',\n",
       " 'apa',\n",
       " 'apc',\n",
       " 'build zim alliance',\n",
       " 'build zimbabwe alliance',\n",
       " 'bza',\n",
       " 'coalition democrats',\n",
       " 'coalition of demo',\n",
       " 'coalition of democrats',\n",
       " 'code',\n",
       " 'cp',\n",
       " 'da-upp',\n",
       " 'dop',\n",
       " 'era',\n",
       " 'fcz',\n",
       " 'fdz',\n",
       " 'fjcz',\n",
       " 'fmz',\n",
       " 'forces of liberation organization of african national',\n",
       " 'free zim congress',\n",
       " 'free zim congress party',\n",
       " 'freedom front',\n",
       " 'freedom movement #1980',\n",
       " 'freezim congress',\n",
       " 'freezim congress party',\n",
       " 'fzc',\n",
       " 'independent',\n",
       " 'independent.',\n",
       " 'maat zim',\n",
       " 'maat zimbabwe',\n",
       " 'maat zp',\n",
       " 'mdc - alliance',\n",
       " 'mdc - t',\n",
       " 'mdc -alliance',\n",
       " 'mdc -t',\n",
       " 'mdc alliance',\n",
       " 'mdc t',\n",
       " 'mdc – alliance',\n",
       " 'mdc – t',\n",
       " 'mdc –alliance',\n",
       " 'mdc –t',\n",
       " 'mdc- a',\n",
       " 'mdc- alliance',\n",
       " 'mdc- t',\n",
       " 'mdc-alliance',\n",
       " 'mdc-alliance party',\n",
       " 'mdc-alliance.',\n",
       " 'mdc-allianceparty',\n",
       " 'mdc-t',\n",
       " 'mdct',\n",
       " 'mrp',\n",
       " 'nap',\n",
       " 'national action party',\n",
       " 'national patriotic front',\n",
       " 'nca',\n",
       " 'ndf',\n",
       " 'nga',\n",
       " 'npf',\n",
       " 'nzrp',\n",
       " 'pdz',\n",
       " \"people's rainbow coalition\",\n",
       " 'peoples’ rainbow coalition',\n",
       " 'people’s rainbow coalition',\n",
       " 'people’s rainbow coalition party.',\n",
       " 'people’s rainbow coalition.',\n",
       " 'ppp',\n",
       " 'pppz',\n",
       " 'prc',\n",
       " 'prz',\n",
       " 'rainbow coalition (prc)',\n",
       " 'rpz',\n",
       " 'rzp',\n",
       " 'suvoz',\n",
       " 'tad',\n",
       " 'uanc',\n",
       " 'uca',\n",
       " 'ucadpz',\n",
       " 'uda',\n",
       " 'udf',\n",
       " 'udm',\n",
       " 'umd',\n",
       " 'united african national council',\n",
       " 'united african national council.',\n",
       " 'united democracy movement',\n",
       " 'united democratic alliance',\n",
       " 'united party zimbabwe',\n",
       " 'upz',\n",
       " 'zanu',\n",
       " \"zanu (pf) people's\",\n",
       " 'zanu pf',\n",
       " 'zanu pf mdc',\n",
       " 'zanu pf received',\n",
       " 'zanu- pf',\n",
       " 'zanu-pf',\n",
       " 'zapu',\n",
       " 'zdu',\n",
       " 'zim first',\n",
       " 'zimbabwe african people’s union',\n",
       " 'zimbabwe labour party',\n",
       " 'zimbabwe partnership for prosperity',\n",
       " 'zimbabwe partnership for prosperity.',\n",
       " 'zimfirst',\n",
       " 'zipp',\n",
       " 'zpm',\n",
       " 'zpp:gpm',\n",
       " 'zrdp'}"
      ]
     },
     "execution_count": 195,
     "metadata": {},
     "output_type": "execute_result"
    }
   ],
   "source": [
    "inW"
   ]
  },
  {
   "cell_type": "code",
   "execution_count": 196,
   "metadata": {},
   "outputs": [
    {
     "data": {
      "text/plain": [
       "set()"
      ]
     },
     "execution_count": 196,
     "metadata": {},
     "output_type": "execute_result"
    }
   ],
   "source": [
    "inW-inR"
   ]
  },
  {
   "cell_type": "code",
   "execution_count": 197,
   "metadata": {},
   "outputs": [
    {
     "data": {
      "text/plain": [
       "109"
      ]
     },
     "execution_count": 197,
     "metadata": {},
     "output_type": "execute_result"
    }
   ],
   "source": [
    "len(parres['party'].unique())"
   ]
  },
  {
   "cell_type": "code",
   "execution_count": 198,
   "metadata": {},
   "outputs": [
    {
     "data": {
      "text/plain": [
       "109"
      ]
     },
     "execution_count": 198,
     "metadata": {},
     "output_type": "execute_result"
    }
   ],
   "source": [
    "len(inR)"
   ]
  },
  {
   "cell_type": "code",
   "execution_count": 199,
   "metadata": {},
   "outputs": [],
   "source": [
    "# Clean up the party column\n",
    "party_map = {'independent': 'independent',\n",
    " 'mdc- alliance': 'mdc-alliance',\n",
    " 'npf': 'national patriotic front',\n",
    " 'zanu pf': 'zanu pf',\n",
    "\n",
    "    '# 1980 chinhu chedu':'# 1980 chinhu chedu',\n",
    " '# 1980 freedom movement zimbabwe':'# 1980 chinhu chedu',\n",
    " 'alliance': 'mdc-alliance',\n",
    " 'ansa': 'ansa',\n",
    " 'apa': 'apa',\n",
    " 'apc': 'apc',\n",
    " 'build zim alliance': 'build zim alliance',\n",
    " 'build zimbabwe alliance':\t 'build zim alliance',\n",
    " 'bza': 'build zim alliance',\n",
    " 'coalition democrats': 'coalition democrats',\n",
    " 'coalition of demo': 'coalition democrats',\n",
    " 'coalition of democrats': 'coalition democrats',\n",
    " 'code': 'coalition democrats',\n",
    " 'cp':'Chiefs Party',\n",
    " 'da-upp': 'da-upp',\n",
    " 'dop': 'dop',\n",
    " 'era':'era',\n",
    " 'fcz': '# 1980 freedom movement zimbabwe',\n",
    " 'fdz':'# 1980 freedom movement zimbabwe',\n",
    " 'fjcz': '# 1980 freedom movement zimbabwe',\n",
    " 'fmz':'# 1980 freedom movement zimbabwe',\n",
    " 'forces of liberation organization of african national': 'forces of liberation organization of african national',\n",
    " 'free zim congress': 'free zim congress',\n",
    " 'free zim congress party': 'free zim congress',\n",
    " 'freedom front':'freedom front',\n",
    " 'freedom movement #1980': '# 1980 freedom movement zimbabwe',\n",
    " 'freezim congress': 'free zim congress',\n",
    " 'freezim congress party': 'free zim congress',\n",
    " 'fzc': 'free zim congress',\n",
    " 'independent': 'independent',\n",
    " 'independent.': 'independent',\n",
    " 'maat zim': 'maat zimbabwe',\n",
    " 'maat zimbabwe': 'maat zimbabwe',\n",
    " 'maat zp': 'maat zimbabwe',\n",
    " 'mdc - alliance': 'mdc-alliance',\n",
    " 'mdc - t':'mdc-t',\n",
    " 'mdc -alliance': 'mdc-alliance',\n",
    " 'mdc -t':'mdc-t',\n",
    " 'mdc alliance': 'mdc-alliance',\n",
    " 'mdc t':'mdc-t',\n",
    " 'mdc – alliance': 'mdc-alliance',\n",
    " 'mdc – t':'mdc-t',\n",
    " 'mdc –alliance': 'mdc-alliance',\n",
    " 'mdc –t': 'mdc-t',\n",
    " 'mdc- a':'mdc-alliance',\n",
    " 'mdc- alliance': 'mdc-alliance',\n",
    " 'mdc- t':'mdc-t',\n",
    " 'mdc-alliance':'mdc-alliance',\n",
    " 'mdc-alliance party': 'mdc-alliance',\n",
    " 'mdc-alliance.': 'mdc-alliance',\n",
    " 'mdc-allianceparty': 'mdc-alliance',\n",
    " 'mdc-t': 'mdc-t',\n",
    " 'mdct': 'mdc-t',\n",
    " 'mrp': 'mrp',\n",
    " 'nap':'national action party',\n",
    " 'national action party': 'national action party',\n",
    " 'national patriotic front': 'national patriotic front',\n",
    " 'nca': 'nca',\n",
    " 'ndf': 'ndf',\n",
    " 'nga': 'nga',\n",
    " 'npf': 'national patriotic front',\n",
    " 'nzrp': 'nzrp',\n",
    " 'pdz':'pdz',\n",
    " \"people's rainbow coalition\": \"people's rainbow coalition\",\n",
    " 'peoples’ rainbow coalition': \"people's rainbow coalition\",\n",
    " 'people’s rainbow coalition':\"people's rainbow coalition\",\n",
    " 'people’s rainbow coalition party.': \"people's rainbow coalition\",\n",
    " 'people’s rainbow coalition.': \"people's rainbow coalition\",\n",
    " 'ppp':\"People's Progressive Party\",\n",
    " 'pppz':\"People's Progressive Party\",\n",
    " 'prc': \"people's rainbow coalition\",\n",
    " 'prz':\"people's rainbow coalition\",\n",
    " 'rainbow coalition (prc)': \"people's rainbow coalition\",\n",
    " 'rpz': 'rpz',\n",
    " 'rzp':'rzp',\n",
    " 'suvoz': 'suvoz',\n",
    " 'tad': 'tad',\n",
    " 'uanc': 'united african national council',\n",
    " 'uca':'uca',\n",
    " 'ucadpz': 'ucadpz',\n",
    " 'uda': 'uda',\n",
    " 'udf': 'udf',\n",
    " 'udm': 'udm',\n",
    " 'umd': 'umd',\n",
    " 'united african national council': 'united african national council',\n",
    " 'united african national council.': 'united african national council',\n",
    " 'united democracy movement': 'united democracy movement',\n",
    " 'united democratic alliance': 'united democratic alliance',\n",
    " 'united party zimbabwe': 'united party zimbabwe',\n",
    " 'upz': 'united party zimbabwe',\n",
    " 'zanu':'zanu pf',\n",
    " \"zanu (pf) people's\": 'zanu pf',\n",
    " 'zanu pf': 'zanu pf',\n",
    " 'zanu pf mdc': 'zanu pf',\n",
    " 'zanu pf received': 'zanu pf',\n",
    " 'zanu- pf': 'zanu pf',\n",
    " 'zanu-pf': 'zanu pf',\n",
    " 'zapu': 'zapu',\n",
    " 'zdu': 'zdu',\n",
    " 'zim first':'zim first',\n",
    " 'zimbabwe african people’s union': 'zanu pf',\n",
    " 'zimbabwe labour party':'zimbabwe labour party',\n",
    " 'zimbabwe partnership for prosperity': 'zimbabwe partnership for prosperity',\n",
    " 'zimbabwe partnership for prosperity.': 'zimbabwe partnership for prosperity',\n",
    " 'zimfirst': 'zimfirst',\n",
    " 'zipp': 'zipp',\n",
    " 'zpm': 'zpm',\n",
    " 'zpp:gpm': 'zpp:gpm',\n",
    " 'zrdp': 'zrdp'}"
   ]
  },
  {
   "cell_type": "code",
   "execution_count": 200,
   "metadata": {},
   "outputs": [],
   "source": [
    " party2_map = {'independent':  'other',\n",
    " 'mdc- alliance':  'mdc-alliance',\n",
    " 'npf':  'other',\n",
    " 'zanu pf':  'zanu pf',\n",
    "'# 1980 chinhu chedu': 'other',\n",
    " '# 1980 freedom movement zimbabwe': 'other',\n",
    " 'alliance': 'other',\n",
    " 'ansa': 'other',\n",
    " 'apa': 'other',\n",
    " 'apc': 'other',\n",
    " 'build zim alliance': 'other',\n",
    " 'build zimbabwe alliance': 'other',\n",
    " 'bza': 'other',\n",
    " 'coalition democrats': 'other',\n",
    " 'coalition of demo': 'other',\n",
    " 'coalition of democrats': 'other',\n",
    " 'code': 'other',\n",
    " 'cp': 'other',\n",
    " 'da-upp': 'other',\n",
    " 'dop': 'other',\n",
    " 'era': 'other',\n",
    " 'fcz': 'other',\n",
    " 'fdz': 'other',\n",
    " 'fjcz': 'other',\n",
    " 'fmz': 'other',\n",
    " 'forces of liberation organization of african national': 'other',\n",
    " 'free zim congress': 'other',\n",
    " 'free zim congress party': 'other',\n",
    " 'freedom front': 'other',\n",
    " 'freedom movement #1980': 'other',\n",
    " 'freezim congress': 'other',\n",
    " 'freezim congress party': 'other',\n",
    " 'fzc': 'other',\n",
    " 'independent':  'other',\n",
    " 'independent.': 'other',\n",
    " 'maat zim': 'other',\n",
    " 'maat zimbabwe': 'other',\n",
    " 'maat zp': 'other',\n",
    " 'mdc - alliance':  'mdc-alliance',\n",
    " 'mdc - t': 'other',\n",
    " 'mdc -alliance':  'mdc-alliance',\n",
    " 'mdc -t': 'other',\n",
    " 'mdc alliance':  'mdc-alliance',\n",
    " 'mdc t': 'other',\n",
    " 'mdc – alliance':  'mdc-alliance',\n",
    " 'mdc – t': 'other',\n",
    " 'mdc –alliance':  'mdc-alliance',\n",
    " 'mdc –t': 'other',\n",
    " 'mdc- a':  'mdc-alliance',\n",
    " 'mdc- alliance':  'mdc-alliance',\n",
    " 'mdc- t': 'other',\n",
    " 'mdc-alliance':  'mdc-alliance',\n",
    " 'mdc-alliance party':  'mdc-alliance',\n",
    " 'mdc-alliance.':  'mdc-alliance',\n",
    " 'mdc-allianceparty':  'mdc-alliance',\n",
    " 'mdc-t': 'other',\n",
    " 'mdct': 'other',\n",
    " 'mrp': 'other',\n",
    " 'nap': 'other',\n",
    " 'national action party': 'other',\n",
    " 'national patriotic front':  'other',\n",
    " 'nca': 'other',\n",
    " 'ndf': 'other',\n",
    " 'nga': 'other',\n",
    " 'npf':  'other',\n",
    " 'nzrp': 'other',\n",
    " 'pdz': 'other',\n",
    " \"people's rainbow coalition\": 'other',\n",
    " 'peoples’ rainbow coalition': 'other',\n",
    " 'people’s rainbow coalition': 'other',\n",
    " 'people’s rainbow coalition party.': 'other',\n",
    " 'people’s rainbow coalition.': 'other',\n",
    " 'ppp': 'other',\n",
    " 'pppz': 'other',\n",
    " 'prc': 'other',\n",
    " 'prz': 'other',\n",
    " 'rainbow coalition (prc)': 'other',\n",
    " 'rpz': 'other',\n",
    " 'rzp': 'other',\n",
    " 'suvoz': 'other',\n",
    " 'tad': 'other',\n",
    " 'uanc': 'other',\n",
    " 'uca': 'other',\n",
    " 'ucadpz': 'other',\n",
    " 'uda': 'other',\n",
    " 'udf': 'other',\n",
    " 'udm': 'other',\n",
    " 'umd': 'other',\n",
    " 'united african national council': 'other',\n",
    " 'united african national council.': 'other',\n",
    " 'united democracy movement': 'other',\n",
    " 'united democratic alliance': 'other',\n",
    " 'united party zimbabwe': 'other',\n",
    " 'upz': 'other',\n",
    " 'zanu':  'zanu pf',\n",
    " \"zanu (pf) people's\":  'zanu pf',\n",
    " 'zanu pf':  'zanu pf',\n",
    " 'zanu pf mdc':  'zanu pf',\n",
    " 'zanu pf received':  'zanu pf',\n",
    " 'zanu- pf':  'zanu pf',\n",
    " 'zanu-pf':  'zanu pf',\n",
    " 'zapu': 'other',\n",
    " 'zdu': 'other',\n",
    " 'zim first': 'other',\n",
    " 'zimbabwe african people’s union':  'zanu pf',\n",
    " 'zimbabwe labour party': 'other',\n",
    " 'zimbabwe partnership for prosperity': 'other',\n",
    " 'zimbabwe partnership for prosperity.': 'other',\n",
    " 'zimfirst': 'other',\n",
    " 'zipp': 'other',\n",
    " 'zpm': 'other',\n",
    " 'zpp:gpm': 'other',\n",
    " 'zrdp': 'other'}\n"
   ]
  },
  {
   "cell_type": "code",
   "execution_count": 201,
   "metadata": {},
   "outputs": [],
   "source": [
    "parres['party1'] = parres.loc[:,'party'].replace(party_map)\n",
    "parres['party2'] = parres.loc[:,'party'].replace(party2_map)\n",
    "\n",
    "parwin['party1'] = parwin.loc[:,'party'].replace(party_map)"
   ]
  },
  {
   "cell_type": "code",
   "execution_count": 202,
   "metadata": {},
   "outputs": [
    {
     "name": "stdout",
     "output_type": "stream",
     "text": [
      "109 53 3 3\n"
     ]
    }
   ],
   "source": [
    "print(len(set(parres.party)), len(set(parres.party1)), len(set(parres.party2)), len(set(parwin.party)))"
   ]
  },
  {
   "cell_type": "code",
   "execution_count": 203,
   "metadata": {},
   "outputs": [
    {
     "data": {
      "text/plain": [
       "{'mdc-alliance', 'other', 'zanu pf'}"
      ]
     },
     "execution_count": 203,
     "metadata": {},
     "output_type": "execute_result"
    }
   ],
   "source": [
    "set(parres.party2)"
   ]
  },
  {
   "cell_type": "code",
   "execution_count": 204,
   "metadata": {},
   "outputs": [
    {
     "data": {
      "text/plain": [
       "array(['independent', 'mdc-alliance', 'zanu pf', 'build zim alliance',\n",
       "       'united democracy movement', \"people's rainbow coalition\",\n",
       "       'zimbabwe partnership for prosperity', 'mdc-t',\n",
       "       'zimbabwe labour party', 'united african national council', 'nca',\n",
       "       'coalition democrats', 'free zim congress', 'zapu',\n",
       "       'national patriotic front',\n",
       "       'forces of liberation organization of african national', 'apa',\n",
       "       'zipp', 'zdu', 'uda', 'udf', '# 1980 freedom movement zimbabwe',\n",
       "       'tad', 'suvoz', 'mrp', 'zpm', 'umd', \"People's Progressive Party\",\n",
       "       'zrdp', 'zim first', 'uca', 'dop', 'rpz', 'era', 'maat zimbabwe',\n",
       "       'freedom front', 'udm', 'united party zimbabwe', 'da-upp',\n",
       "       '# 1980 chinhu chedu', 'Chiefs Party', 'apc', 'zimfirst', 'ucadpz',\n",
       "       'ndf', 'nzrp', 'rzp', 'nga', 'pdz', 'united democratic alliance',\n",
       "       'national action party', 'ansa', 'zpp:gpm'], dtype=object)"
      ]
     },
     "execution_count": 204,
     "metadata": {},
     "output_type": "execute_result"
    }
   ],
   "source": [
    "parres.party1.unique()"
   ]
  },
  {
   "cell_type": "code",
   "execution_count": 205,
   "metadata": {},
   "outputs": [
    {
     "data": {
      "text/html": [
       "<div>\n",
       "<table border=\"1\" class=\"dataframe\">\n",
       "  <thead>\n",
       "    <tr style=\"text-align: right;\">\n",
       "      <th></th>\n",
       "      <th>province</th>\n",
       "      <th>constituency</th>\n",
       "      <th>candidate</th>\n",
       "      <th>sex</th>\n",
       "      <th>party</th>\n",
       "      <th>votes</th>\n",
       "      <th>party1</th>\n",
       "      <th>party2</th>\n",
       "    </tr>\n",
       "  </thead>\n",
       "  <tbody>\n",
       "  </tbody>\n",
       "</table>\n",
       "</div>"
      ],
      "text/plain": [
       "Empty DataFrame\n",
       "Columns: [province, constituency, candidate, sex, party, votes, party1, party2]\n",
       "Index: []"
      ]
     },
     "execution_count": 205,
     "metadata": {},
     "output_type": "execute_result"
    }
   ],
   "source": [
    "parres[parres.party=='nan']"
   ]
  },
  {
   "cell_type": "code",
   "execution_count": 206,
   "metadata": {},
   "outputs": [
    {
     "data": {
      "text/html": [
       "<div>\n",
       "<table border=\"1\" class=\"dataframe\">\n",
       "  <thead>\n",
       "    <tr style=\"text-align: right;\">\n",
       "      <th></th>\n",
       "      <th>party_mdc- alliance</th>\n",
       "      <th>party_other</th>\n",
       "      <th>party_zanu pf</th>\n",
       "      <th>sex_f</th>\n",
       "      <th>sex_m</th>\n",
       "    </tr>\n",
       "  </thead>\n",
       "  <tbody>\n",
       "    <tr>\n",
       "      <th>count</th>\n",
       "      <td>210.000000</td>\n",
       "      <td>210.000000</td>\n",
       "      <td>210.000000</td>\n",
       "      <td>210.000000</td>\n",
       "      <td>210.000000</td>\n",
       "    </tr>\n",
       "    <tr>\n",
       "      <th>mean</th>\n",
       "      <td>0.300000</td>\n",
       "      <td>0.009524</td>\n",
       "      <td>0.690476</td>\n",
       "      <td>0.119048</td>\n",
       "      <td>0.880952</td>\n",
       "    </tr>\n",
       "    <tr>\n",
       "      <th>std</th>\n",
       "      <td>0.459353</td>\n",
       "      <td>0.097356</td>\n",
       "      <td>0.463402</td>\n",
       "      <td>0.324618</td>\n",
       "      <td>0.324618</td>\n",
       "    </tr>\n",
       "    <tr>\n",
       "      <th>min</th>\n",
       "      <td>0.000000</td>\n",
       "      <td>0.000000</td>\n",
       "      <td>0.000000</td>\n",
       "      <td>0.000000</td>\n",
       "      <td>0.000000</td>\n",
       "    </tr>\n",
       "    <tr>\n",
       "      <th>25%</th>\n",
       "      <td>0.000000</td>\n",
       "      <td>0.000000</td>\n",
       "      <td>0.000000</td>\n",
       "      <td>0.000000</td>\n",
       "      <td>1.000000</td>\n",
       "    </tr>\n",
       "    <tr>\n",
       "      <th>50%</th>\n",
       "      <td>0.000000</td>\n",
       "      <td>0.000000</td>\n",
       "      <td>1.000000</td>\n",
       "      <td>0.000000</td>\n",
       "      <td>1.000000</td>\n",
       "    </tr>\n",
       "    <tr>\n",
       "      <th>75%</th>\n",
       "      <td>1.000000</td>\n",
       "      <td>0.000000</td>\n",
       "      <td>1.000000</td>\n",
       "      <td>0.000000</td>\n",
       "      <td>1.000000</td>\n",
       "    </tr>\n",
       "    <tr>\n",
       "      <th>max</th>\n",
       "      <td>1.000000</td>\n",
       "      <td>1.000000</td>\n",
       "      <td>1.000000</td>\n",
       "      <td>1.000000</td>\n",
       "      <td>1.000000</td>\n",
       "    </tr>\n",
       "  </tbody>\n",
       "</table>\n",
       "</div>"
      ],
      "text/plain": [
       "       party_mdc- alliance  party_other  party_zanu pf       sex_f       sex_m\n",
       "count           210.000000   210.000000     210.000000  210.000000  210.000000\n",
       "mean              0.300000     0.009524       0.690476    0.119048    0.880952\n",
       "std               0.459353     0.097356       0.463402    0.324618    0.324618\n",
       "min               0.000000     0.000000       0.000000    0.000000    0.000000\n",
       "25%               0.000000     0.000000       0.000000    0.000000    1.000000\n",
       "50%               0.000000     0.000000       1.000000    0.000000    1.000000\n",
       "75%               1.000000     0.000000       1.000000    0.000000    1.000000\n",
       "max               1.000000     1.000000       1.000000    1.000000    1.000000"
      ]
     },
     "execution_count": 206,
     "metadata": {},
     "output_type": "execute_result"
    }
   ],
   "source": [
    "parwin.describe()"
   ]
  },
  {
   "cell_type": "code",
   "execution_count": 207,
   "metadata": {},
   "outputs": [
    {
     "data": {
      "text/html": [
       "<div>\n",
       "<table border=\"1\" class=\"dataframe\">\n",
       "  <thead>\n",
       "    <tr style=\"text-align: right;\">\n",
       "      <th></th>\n",
       "      <th>province</th>\n",
       "      <th>constituency</th>\n",
       "      <th>candidate</th>\n",
       "      <th>sex</th>\n",
       "      <th>party</th>\n",
       "      <th>party1</th>\n",
       "      <th>party2</th>\n",
       "    </tr>\n",
       "  </thead>\n",
       "  <tbody>\n",
       "    <tr>\n",
       "      <th>count</th>\n",
       "      <td>1626</td>\n",
       "      <td>1626</td>\n",
       "      <td>1626</td>\n",
       "      <td>1626</td>\n",
       "      <td>1626</td>\n",
       "      <td>1626</td>\n",
       "      <td>1626</td>\n",
       "    </tr>\n",
       "    <tr>\n",
       "      <th>unique</th>\n",
       "      <td>10</td>\n",
       "      <td>208</td>\n",
       "      <td>1624</td>\n",
       "      <td>2</td>\n",
       "      <td>109</td>\n",
       "      <td>53</td>\n",
       "      <td>3</td>\n",
       "    </tr>\n",
       "    <tr>\n",
       "      <th>top</th>\n",
       "      <td>harare</td>\n",
       "      <td>magwegwe</td>\n",
       "      <td>moyo khumbulani</td>\n",
       "      <td>m</td>\n",
       "      <td>independent</td>\n",
       "      <td>independent</td>\n",
       "      <td>other</td>\n",
       "    </tr>\n",
       "    <tr>\n",
       "      <th>freq</th>\n",
       "      <td>317</td>\n",
       "      <td>23</td>\n",
       "      <td>2</td>\n",
       "      <td>1380</td>\n",
       "      <td>229</td>\n",
       "      <td>238</td>\n",
       "      <td>1200</td>\n",
       "    </tr>\n",
       "  </tbody>\n",
       "</table>\n",
       "</div>"
      ],
      "text/plain": [
       "       province constituency        candidate   sex        party       party1  \\\n",
       "count      1626         1626             1626  1626         1626         1626   \n",
       "unique       10          208             1624     2          109           53   \n",
       "top      harare     magwegwe  moyo khumbulani     m  independent  independent   \n",
       "freq        317           23                2  1380          229          238   \n",
       "\n",
       "       party2  \n",
       "count    1626  \n",
       "unique      3  \n",
       "top     other  \n",
       "freq     1200  "
      ]
     },
     "execution_count": 207,
     "metadata": {},
     "output_type": "execute_result"
    }
   ],
   "source": [
    "parres.drop('votes', axis=1).describe()"
   ]
  },
  {
   "cell_type": "markdown",
   "metadata": {},
   "source": [
    "## Make sure to save all results for the analysis files"
   ]
  },
  {
   "cell_type": "code",
   "execution_count": 208,
   "metadata": {},
   "outputs": [],
   "source": [
    "# saving\n",
    "parwin.to_excel(\"zimvotersroll2018_parly_bymps.xlsx\")\n",
    "parres.to_excel(\"zimvotersroll2018_parly_byvotes.xlsx\")"
   ]
  },
  {
   "cell_type": "markdown",
   "metadata": {},
   "source": [
    "## THE END of PREP - See Analysis file for further details\n",
    "-------------------------------"
   ]
  }
 ],
 "metadata": {
  "kernelspec": {
   "display_name": "Python 3",
   "language": "python",
   "name": "python3"
  },
  "language_info": {
   "codemirror_mode": {
    "name": "ipython",
    "version": 3
   },
   "file_extension": ".py",
   "mimetype": "text/x-python",
   "name": "python",
   "nbconvert_exporter": "python",
   "pygments_lexer": "ipython3",
   "version": "3.6.3"
  }
 },
 "nbformat": 4,
 "nbformat_minor": 2
}
